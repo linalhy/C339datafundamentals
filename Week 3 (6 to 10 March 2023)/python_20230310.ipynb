{
 "cells": [
  {
   "cell_type": "code",
   "execution_count": 6,
   "metadata": {},
   "outputs": [
    {
     "name": "stdout",
     "output_type": "stream",
     "text": [
      "['Once', 'upon', 'a', 'time.']\n",
      "<class 'list'>\n",
      "['Lina is ', ' a potato.']\n"
     ]
    }
   ],
   "source": [
    "mystring = \"Once upon a time.\"\n",
    "a = mystring.split() # returns a list of strings.\n",
    "print(a)\n",
    "print(type(a))\n",
    "\n",
    "mystring2 = \"Lina is not a potato.\"\n",
    "b = mystring2.split(\"not\") # string is split at \"not\". \"not\" is excluded.\n",
    "print(b)"
   ]
  },
  {
   "cell_type": "code",
   "execution_count": null,
   "metadata": {},
   "outputs": [],
   "source": [
    "myint = \"1 2 3 4 5 6 7 8 9\"\n",
    "c = myint.split()\n",
    "\n",
    "d = []\n",
    "for i in c:\n",
    "    d.append(int(c))\n",
    "    print d\n",
    "\n"
   ]
  },
  {
   "cell_type": "code",
   "execution_count": 101,
   "metadata": {},
   "outputs": [
    {
     "name": "stdout",
     "output_type": "stream",
     "text": [
      "<class 'list'>\n",
      "<class 'str'>\n"
     ]
    }
   ],
   "source": [
    "z = ['1', '2', '3']\n",
    "print(type(z))\n",
    "x = '*'.join(['1', '2', '3'])\n",
    "print(type(x))"
   ]
  },
  {
   "cell_type": "code",
   "execution_count": 13,
   "metadata": {},
   "outputs": [
    {
     "name": "stdout",
     "output_type": "stream",
     "text": [
      "<class 'list'>\n"
     ]
    }
   ],
   "source": [
    "myint = \"1 2 3 4 5 6 7 8 9\"\n",
    "c = myint.split()\n",
    "print(type(c))"
   ]
  },
  {
   "cell_type": "code",
   "execution_count": 17,
   "metadata": {},
   "outputs": [
    {
     "name": "stdout",
     "output_type": "stream",
     "text": [
      "Oh my goodness!\n",
      "This apple is very good!\n"
     ]
    }
   ],
   "source": [
    "print('\\n'.join(['Oh my goodness!', 'This apple is very good!']))"
   ]
  },
  {
   "cell_type": "code",
   "execution_count": 27,
   "metadata": {},
   "outputs": [
    {
     "data": {
      "text/plain": [
       "'       weekend is here....!'"
      ]
     },
     "execution_count": 27,
     "metadata": {},
     "output_type": "execute_result"
    }
   ],
   "source": [
    "'        so      much      wide      space  ?       \\n       \\t          '.strip()\n",
    "'          why there is so much whitespace around this ?   \\n       \\t              '.strip()\n",
    "'       weekend is here....!       '.lstrip()\n",
    "'       weekend is here....!       '.rstrip()"
   ]
  },
  {
   "cell_type": "code",
   "execution_count": 36,
   "metadata": {},
   "outputs": [
    {
     "data": {
      "text/plain": [
       "True"
      ]
     },
     "execution_count": 36,
     "metadata": {},
     "output_type": "execute_result"
    }
   ],
   "source": [
    "'The racehorse runs quickly'.startswith(\"The\")\n",
    "'The racehorse runs quickly'.endswith(\"The\")\n",
    "('The racehorse runs Quickly'.lower()).endswith(\"quickly\")"
   ]
  },
  {
   "cell_type": "code",
   "execution_count": 160,
   "metadata": {},
   "outputs": [
    {
     "name": "stdout",
     "output_type": "stream",
     "text": [
      "ID123458, London, 06/03/2019\n",
      "ID123456, Berlin, 07/03/2019\n",
      "ID123417, Munich, 08/03/2019\n",
      "ID123457, London, 09/03/2019\n",
      "ID123234, Berlin, 10/03/2019\n"
     ]
    }
   ],
   "source": [
    "import re, datetime\n",
    "listOfAccount = [\"Acc1.ID123458 : London .  06/03/2019\", \n",
    "                 \"Acc1.ID123456 : Berlin . 07/03/2019\", \n",
    "                 \"Acc1.ID123417 : Munich . 08/03/2019\", \n",
    "                 \"Acc1.ID123457 : London . 09/03/2019\",\n",
    "                 \"Acc1.ID123234 : Berlin . 10/03/2019\",  \n",
    "                 \"apples\",  \n",
    "                 \"Acc1.ID123409: London . 11/03/2019\"]\n",
    "\n",
    "\n",
    "for item in listOfAccount:\n",
    "    match = re.search(\"(\\d{2}/\\d{2}/\\d{4})\", item)\n",
    "    if match:\n",
    "        dmy = match.group(1)\n",
    "        date = datetime.datetime.strptime(dmy, \"%d/%m/%Y\").date()\n",
    "        print(date)\n",
    "\n",
    "for item in listOfAccount:\n",
    "    match = re.search(\"(ID\\d+)\", item)\n",
    "    if match:\n",
    "        id = match.group(1)\n",
    "        print(id)\n",
    "\n",
    "for item in listOfAccount:\n",
    "    match = re.search(\"\\s([A-Z][a-z]+)\", item)\n",
    "    if match:\n",
    "        location = match.group(1)\n",
    "        print(location)\n",
    "\n",
    "for item in listOfAccount:\n",
    "    match = re.search(\"(ID\\d+)\\s+:\\s+([A-Z][a-z]+)\\s+\\.\\s+(\\d{2}/\\d{2}/\\d{4})\", item)\n",
    "    if match:\n",
    "        id = match.group(1)\n",
    "        location = match.group(2)\n",
    "        date = match.group(3)\n",
    "        print(f\"{id}, {location}, {date}\")\n",
    "\n"
   ]
  },
  {
   "cell_type": "code",
   "execution_count": null,
   "metadata": {},
   "outputs": [],
   "source": []
  },
  {
   "cell_type": "code",
   "execution_count": null,
   "metadata": {},
   "outputs": [],
   "source": []
  }
 ],
 "metadata": {
  "kernelspec": {
   "display_name": "base",
   "language": "python",
   "name": "python3"
  },
  "language_info": {
   "codemirror_mode": {
    "name": "ipython",
    "version": 3
   },
   "file_extension": ".py",
   "mimetype": "text/x-python",
   "name": "python",
   "nbconvert_exporter": "python",
   "pygments_lexer": "ipython3",
   "version": "3.9.13"
  },
  "orig_nbformat": 4
 },
 "nbformat": 4,
 "nbformat_minor": 2
}
