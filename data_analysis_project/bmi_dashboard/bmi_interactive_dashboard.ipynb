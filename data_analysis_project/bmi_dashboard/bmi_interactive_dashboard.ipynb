{
 "cells": [
  {
   "cell_type": "code",
   "execution_count": 4,
   "id": "d8c0c70f-c466-431d-baee-4bd124e22960",
   "metadata": {
    "tags": []
   },
   "outputs": [],
   "source": [
    "import pandas as pd\n",
    "import numpy as np\n",
    "import panel as pn\n",
    "pn.extension('tabulator')\n",
    "\n",
    "import hvplot.pandas\n",
    "\n",
    "# For mac OS: Enter 'brew install libmagic' in terminal if magic module is unavailable"
   ]
  },
  {
   "cell_type": "code",
   "execution_count": 10,
   "id": "3f2d7caf-8051-4d89-9827-cbeaae281e60",
   "metadata": {
    "tags": []
   },
   "outputs": [
    {
     "name": "stderr",
     "output_type": "stream",
     "text": [
      "C:\\Users\\eball\\AppData\\Local\\Temp\\ipykernel_6936\\2054899572.py:4: DtypeWarning: Columns (18) have mixed types. Specify dtype option on import or set low_memory=False.\n",
      "  over_child = pd.read_csv(r'D:\\lina_lau\\C339_datafundamentals\\data_analysis_project\\bmi_dashboard\\dataset\\NCD_BMI_PLUS1C.csv')\n",
      "C:\\Users\\eball\\AppData\\Local\\Temp\\ipykernel_6936\\2054899572.py:5: DtypeWarning: Columns (18) have mixed types. Specify dtype option on import or set low_memory=False.\n",
      "  under_child = pd.read_csv(r'D:\\lina_lau\\C339_datafundamentals\\data_analysis_project\\bmi_dashboard\\dataset\\NCD_BMI_MINUS2C.csv')\n"
     ]
    }
   ],
   "source": [
    "data_all = pd.read_csv(r\"D:\\lina_lau\\C339_datafundamentals\\data_analysis_project\\bmi_dashboard\\dataset\\NCD_BMI_MEAN.csv\")\n",
    "over_adult = pd.read_csv(r'D:\\lina_lau\\C339_datafundamentals\\data_analysis_project\\bmi_dashboard\\dataset\\NCD_BMI_30A.csv')\n",
    "under_adult = pd.read_csv(r'D:\\lina_lau\\C339_datafundamentals\\data_analysis_project\\bmi_dashboard\\dataset\\NCD_BMI_18A.csv')\n",
    "over_child = pd.read_csv(r'D:\\lina_lau\\C339_datafundamentals\\data_analysis_project\\bmi_dashboard\\dataset\\NCD_BMI_PLUS1C.csv')\n",
    "under_child = pd.read_csv(r'D:\\lina_lau\\C339_datafundamentals\\data_analysis_project\\bmi_dashboard\\dataset\\NCD_BMI_MINUS2C.csv')"
   ]
  },
  {
   "cell_type": "code",
   "execution_count": null,
   "id": "f31f0dfe-c91a-4613-a391-9e32bbb26e8a",
   "metadata": {
    "collapsed": true,
    "jupyter": {
     "outputs_hidden": true
    },
    "tags": []
   },
   "outputs": [],
   "source": [
    "under_adult.info()"
   ]
  },
  {
   "cell_type": "code",
   "execution_count": 16,
   "id": "bf3f28a0-1532-4316-b7c7-75caf9de6359",
   "metadata": {
    "tags": []
   },
   "outputs": [
    {
     "data": {
      "text/plain": [
       "Index(['Id', 'IndicatorCode', 'SpatialDimension', 'SpatialDimensionValueCode',\n",
       "       'TimeDimension', 'TimeDim', 'DisaggregatingDimension1',\n",
       "       'DisaggregatingDimension1ValueCode', 'DisaggregatingDimension2',\n",
       "       'DisaggregatingDimension2ValueCode', 'DisaggregatingDimension3',\n",
       "       'DisaggregatingDimension3ValueCode', 'DataSourceDimension',\n",
       "       'DataSourceDimensionValueCode', 'Value', 'NumericValue', 'Low', 'High',\n",
       "       'Comments', 'Date', 'TimeDimensionValue', 'TimeDimensionBegin',\n",
       "       'TimeDimensionEnd'],\n",
       "      dtype='object')"
      ]
     },
     "execution_count": 16,
     "metadata": {},
     "output_type": "execute_result"
    }
   ],
   "source": [
    "data_all.columns"
   ]
  },
  {
   "cell_type": "code",
   "execution_count": 18,
   "id": "ceaea5ff-ff27-4b21-b285-dc638ed60cc5",
   "metadata": {
    "tags": []
   },
   "outputs": [],
   "source": [
    "#data_all_incomegroup = data_all[data_all['SpatialDimension'] == 'WORLDBANKINCOMEGROUP']"
   ]
  },
  {
   "cell_type": "code",
   "execution_count": 11,
   "id": "63d03c32-26e3-4adb-a054-ca8e90005d6c",
   "metadata": {
    "collapsed": true,
    "jupyter": {
     "outputs_hidden": true
    },
    "tags": []
   },
   "outputs": [
    {
     "data": {
      "text/plain": [
       "Id                                     0.000000\n",
       "IndicatorCode                          0.000000\n",
       "SpatialDimension                       0.000000\n",
       "SpatialDimensionValueCode              0.000000\n",
       "TimeDimension                          0.000000\n",
       "TimeDim                                0.000000\n",
       "DisaggregatingDimension1               0.000000\n",
       "DisaggregatingDimension1ValueCode      0.000000\n",
       "DisaggregatingDimension2               0.000000\n",
       "DisaggregatingDimension2ValueCode      0.000000\n",
       "DisaggregatingDimension3             100.000000\n",
       "DisaggregatingDimension3ValueCode    100.000000\n",
       "DataSourceDimension                  100.000000\n",
       "DataSourceDimensionValueCode         100.000000\n",
       "Value                                  0.000000\n",
       "NumericValue                           1.929851\n",
       "Low                                    1.929851\n",
       "High                                   1.929851\n",
       "Comments                              98.070149\n",
       "Date                                   0.000000\n",
       "TimeDimensionValue                     0.000000\n",
       "TimeDimensionBegin                     0.000000\n",
       "TimeDimensionEnd                       0.000000\n",
       "dtype: float64"
      ]
     },
     "execution_count": 11,
     "metadata": {},
     "output_type": "execute_result"
    }
   ],
   "source": [
    "# Calculating the proportion of missing values in each column of the dataset\n",
    "data_all.isnull().sum() * 100 / len(data_all)"
   ]
  },
  {
   "cell_type": "code",
   "execution_count": 12,
   "id": "8de4582e-4866-4785-9fa9-21555b8a32dd",
   "metadata": {
    "tags": []
   },
   "outputs": [],
   "source": [
    "# Make dataframe pipeline interactive\n",
    "idf_all = data_all.interactive()\n",
    "idf_over_adult = over_adult.interactive()\n",
    "idf_under_adult = under_adult.interactive()"
   ]
  },
  {
   "cell_type": "code",
   "execution_count": 15,
   "id": "dbe695b7-b772-4bf3-86d4-3a016e5339e9",
   "metadata": {
    "tags": []
   },
   "outputs": [
    {
     "ename": "ModuleNotFoundError",
     "evalue": "No module named 'jupyter_bokeh'",
     "output_type": "error",
     "traceback": [
      "\u001b[1;31m---------------------------------------------------------------------------\u001b[0m",
      "\u001b[1;31mModuleNotFoundError\u001b[0m                       Traceback (most recent call last)",
      "File \u001b[1;32mc:\\Users\\eball\\AppData\\Local\\Programs\\Python\\Python311\\Lib\\site-packages\\IPython\\core\\formatters.py:972\u001b[0m, in \u001b[0;36mMimeBundleFormatter.__call__\u001b[1;34m(self, obj, include, exclude)\u001b[0m\n\u001b[0;32m    969\u001b[0m     method \u001b[39m=\u001b[39m get_real_method(obj, \u001b[39mself\u001b[39m\u001b[39m.\u001b[39mprint_method)\n\u001b[0;32m    971\u001b[0m     \u001b[39mif\u001b[39;00m method \u001b[39mis\u001b[39;00m \u001b[39mnot\u001b[39;00m \u001b[39mNone\u001b[39;00m:\n\u001b[1;32m--> 972\u001b[0m         \u001b[39mreturn\u001b[39;00m method(include\u001b[39m=\u001b[39;49minclude, exclude\u001b[39m=\u001b[39;49mexclude)\n\u001b[0;32m    973\u001b[0m     \u001b[39mreturn\u001b[39;00m \u001b[39mNone\u001b[39;00m\n\u001b[0;32m    974\u001b[0m \u001b[39melse\u001b[39;00m:\n",
      "File \u001b[1;32mc:\\Users\\eball\\AppData\\Local\\Programs\\Python\\Python311\\Lib\\site-packages\\panel\\viewable.py:623\u001b[0m, in \u001b[0;36mViewable._repr_mimebundle_\u001b[1;34m(self, include, exclude)\u001b[0m\n\u001b[0;32m    620\u001b[0m     loaded \u001b[39m=\u001b[39m hv\u001b[39m.\u001b[39mextension\u001b[39m.\u001b[39m_loaded\n\u001b[0;32m    622\u001b[0m \u001b[39mif\u001b[39;00m config\u001b[39m.\u001b[39mcomms \u001b[39min\u001b[39;00m (\u001b[39m'\u001b[39m\u001b[39mvscode\u001b[39m\u001b[39m'\u001b[39m, \u001b[39m'\u001b[39m\u001b[39mipywidgets\u001b[39m\u001b[39m'\u001b[39m):\n\u001b[1;32m--> 623\u001b[0m     widget \u001b[39m=\u001b[39m ipywidget(\u001b[39mself\u001b[39;49m)\n\u001b[0;32m    624\u001b[0m     \u001b[39mif\u001b[39;00m \u001b[39mhasattr\u001b[39m(widget, \u001b[39m'\u001b[39m\u001b[39m_repr_mimebundle_\u001b[39m\u001b[39m'\u001b[39m):\n\u001b[0;32m    625\u001b[0m         \u001b[39mreturn\u001b[39;00m widget\u001b[39m.\u001b[39m_repr_mimebundle_(include\u001b[39m=\u001b[39minclude, exclude\u001b[39m=\u001b[39mexclude), {}\n",
      "File \u001b[1;32mc:\\Users\\eball\\AppData\\Local\\Programs\\Python\\Python311\\Lib\\site-packages\\panel\\io\\notebook.py:384\u001b[0m, in \u001b[0;36mipywidget\u001b[1;34m(obj, **kwargs)\u001b[0m\n\u001b[0;32m    367\u001b[0m \u001b[39mdef\u001b[39;00m \u001b[39mipywidget\u001b[39m(obj: Any, \u001b[39m*\u001b[39m\u001b[39m*\u001b[39mkwargs: Any):\n\u001b[0;32m    368\u001b[0m \u001b[39m    \u001b[39m\u001b[39m\"\"\"\u001b[39;00m\n\u001b[0;32m    369\u001b[0m \u001b[39m    Returns an ipywidget model which renders the Panel object.\u001b[39;00m\n\u001b[0;32m    370\u001b[0m \n\u001b[1;32m   (...)\u001b[0m\n\u001b[0;32m    382\u001b[0m \u001b[39m    Returns an ipywidget model which renders the Panel object.\u001b[39;00m\n\u001b[0;32m    383\u001b[0m \u001b[39m    \"\"\"\u001b[39;00m\n\u001b[1;32m--> 384\u001b[0m     \u001b[39mfrom\u001b[39;00m \u001b[39mjupyter_bokeh\u001b[39;00m\u001b[39m.\u001b[39;00m\u001b[39mwidgets\u001b[39;00m \u001b[39mimport\u001b[39;00m BokehModel\n\u001b[0;32m    386\u001b[0m     \u001b[39mfrom\u001b[39;00m \u001b[39m.\u001b[39;00m\u001b[39m.\u001b[39;00m\u001b[39mpane\u001b[39;00m \u001b[39mimport\u001b[39;00m panel\n\u001b[0;32m    387\u001b[0m     model \u001b[39m=\u001b[39m panel(obj, \u001b[39m*\u001b[39m\u001b[39m*\u001b[39mkwargs)\u001b[39m.\u001b[39mget_root()\n",
      "\u001b[1;31mModuleNotFoundError\u001b[0m: No module named 'jupyter_bokeh'"
     ]
    },
    {
     "data": {
      "text/plain": [
       "IntSlider(end=2016, name='Year slider', start=1975, value=1975)"
      ]
     },
     "execution_count": 15,
     "metadata": {},
     "output_type": "execute_result"
    }
   ],
   "source": [
    "# Defining Panel widgets: the year slider\n",
    "year_slider = pn.widgets.IntSlider(name = 'Year slider', start = 1975, end = 2016, value = 1975)\n",
    "year_slider"
   ]
  },
  {
   "cell_type": "code",
   "execution_count": 72,
   "id": "e61de29f-2d08-4d69-bfbe-4ddb8c9c316f",
   "metadata": {
    "tags": []
   },
   "outputs": [
    {
     "data": {},
     "metadata": {},
     "output_type": "display_data"
    },
    {
     "data": {
      "application/vnd.holoviews_exec.v0+json": "",
      "text/html": [
       "<div id='14638'>\n",
       "  <div class=\"bk-root\" id=\"10979a87-09aa-4554-b4ce-9d1f0b1900b6\" data-root-id=\"14638\"></div>\n",
       "</div>\n",
       "<script type=\"application/javascript\">(function(root) {\n",
       "  function embed_document(root) {\n",
       "    var docs_json = {\"779306f0-3642-4151-8e8b-bf21508afddb\":{\"defs\":[{\"extends\":null,\"module\":null,\"name\":\"ReactiveHTML1\",\"overrides\":[],\"properties\":[]},{\"extends\":null,\"module\":null,\"name\":\"FlexBox1\",\"overrides\":[],\"properties\":[{\"default\":\"flex-start\",\"kind\":null,\"name\":\"align_content\"},{\"default\":\"flex-start\",\"kind\":null,\"name\":\"align_items\"},{\"default\":\"row\",\"kind\":null,\"name\":\"flex_direction\"},{\"default\":\"wrap\",\"kind\":null,\"name\":\"flex_wrap\"},{\"default\":\"flex-start\",\"kind\":null,\"name\":\"justify_content\"}]},{\"extends\":null,\"module\":null,\"name\":\"GridStack1\",\"overrides\":[],\"properties\":[{\"default\":\"warn\",\"kind\":null,\"name\":\"mode\"},{\"default\":null,\"kind\":null,\"name\":\"ncols\"},{\"default\":null,\"kind\":null,\"name\":\"nrows\"},{\"default\":true,\"kind\":null,\"name\":\"allow_resize\"},{\"default\":true,\"kind\":null,\"name\":\"allow_drag\"},{\"default\":[],\"kind\":null,\"name\":\"state\"}]},{\"extends\":null,\"module\":null,\"name\":\"click1\",\"overrides\":[],\"properties\":[{\"default\":\"\",\"kind\":null,\"name\":\"terminal_output\"},{\"default\":\"\",\"kind\":null,\"name\":\"debug_name\"},{\"default\":0,\"kind\":null,\"name\":\"clears\"}]},{\"extends\":null,\"module\":null,\"name\":\"NotificationAreaBase1\",\"overrides\":[],\"properties\":[{\"default\":\"bottom-right\",\"kind\":null,\"name\":\"position\"},{\"default\":0,\"kind\":null,\"name\":\"_clear\"}]},{\"extends\":null,\"module\":null,\"name\":\"NotificationArea1\",\"overrides\":[],\"properties\":[{\"default\":[],\"kind\":null,\"name\":\"notifications\"},{\"default\":\"bottom-right\",\"kind\":null,\"name\":\"position\"},{\"default\":0,\"kind\":null,\"name\":\"_clear\"},{\"default\":[{\"background\":\"#ffc107\",\"icon\":{\"className\":\"fas fa-exclamation-triangle\",\"color\":\"white\",\"tagName\":\"i\"},\"type\":\"warning\"},{\"background\":\"#007bff\",\"icon\":{\"className\":\"fas fa-info-circle\",\"color\":\"white\",\"tagName\":\"i\"},\"type\":\"info\"}],\"kind\":null,\"name\":\"types\"}]},{\"extends\":null,\"module\":null,\"name\":\"Notification\",\"overrides\":[],\"properties\":[{\"default\":null,\"kind\":null,\"name\":\"background\"},{\"default\":3000,\"kind\":null,\"name\":\"duration\"},{\"default\":null,\"kind\":null,\"name\":\"icon\"},{\"default\":\"\",\"kind\":null,\"name\":\"message\"},{\"default\":null,\"kind\":null,\"name\":\"notification_type\"},{\"default\":false,\"kind\":null,\"name\":\"_destroyed\"}]},{\"extends\":null,\"module\":null,\"name\":\"TemplateActions1\",\"overrides\":[],\"properties\":[{\"default\":0,\"kind\":null,\"name\":\"open_modal\"},{\"default\":0,\"kind\":null,\"name\":\"close_modal\"}]},{\"extends\":null,\"module\":null,\"name\":\"MaterialTemplateActions1\",\"overrides\":[],\"properties\":[{\"default\":0,\"kind\":null,\"name\":\"open_modal\"},{\"default\":0,\"kind\":null,\"name\":\"close_modal\"}]}],\"roots\":{\"references\":[{\"attributes\":{\"margin\":[5,10,5,10],\"options\":[\"BTSX\",\"FMLE\",\"MLE\"],\"title\":\"DisaggregatingDimension1ValueCode\",\"value\":\"BTSX\"},\"id\":\"14638\",\"type\":\"panel.models.widgets.CustomSelect\"},{\"attributes\":{\"client_comm_id\":\"ed398e92f8dd48a28c5649d8ea47a351\",\"comm_id\":\"2aef4bff29b443c3823b08656451c842\",\"plot_id\":\"14638\"},\"id\":\"14639\",\"type\":\"panel.models.comm_manager.CommManager\"}],\"root_ids\":[\"14638\",\"14639\"]},\"title\":\"Bokeh Application\",\"version\":\"2.4.3\"}};\n",
       "    var render_items = [{\"docid\":\"779306f0-3642-4151-8e8b-bf21508afddb\",\"root_ids\":[\"14638\"],\"roots\":{\"14638\":\"10979a87-09aa-4554-b4ce-9d1f0b1900b6\"}}];\n",
       "    root.Bokeh.embed.embed_items_notebook(docs_json, render_items);\n",
       "    for (const render_item of render_items) {\n",
       "      for (const root_id of render_item.root_ids) {\n",
       "\tconst id_el = document.getElementById(root_id)\n",
       "\tif (id_el.children.length && (id_el.children[0].className === 'bk-root')) {\n",
       "\t  const root_el = id_el.children[0]\n",
       "\t  root_el.id = root_el.id + '-rendered'\n",
       "\t}\n",
       "      }\n",
       "    }\n",
       "  }\n",
       "  if (root.Bokeh !== undefined && root.Bokeh.Panel !== undefined && ( root['Tabulator'] !== undefined) && ( root['Tabulator'] !== undefined)) {\n",
       "    embed_document(root);\n",
       "  } else {\n",
       "    var attempts = 0;\n",
       "    var timer = setInterval(function(root) {\n",
       "      if (root.Bokeh !== undefined && root.Bokeh.Panel !== undefined && (root['Tabulator'] !== undefined) && (root['Tabulator'] !== undefined)) {\n",
       "        clearInterval(timer);\n",
       "        embed_document(root);\n",
       "      } else if (document.readyState == \"complete\") {\n",
       "        attempts++;\n",
       "        if (attempts > 200) {\n",
       "          clearInterval(timer);\n",
       "          console.log(\"Bokeh: ERROR: Unable to run BokehJS code because BokehJS library is missing\");\n",
       "        }\n",
       "      }\n",
       "    }, 25, root)\n",
       "  }\n",
       "})(window);</script>"
      ],
      "text/plain": [
       "Select(name='DisaggregatingDimension1V..., options=['BTSX', 'FMLE', 'MLE'], value='BTSX')"
      ]
     },
     "execution_count": 72,
     "metadata": {
      "application/vnd.holoviews_exec.v0+json": {
       "id": "14638"
      }
     },
     "output_type": "execute_result"
    }
   ],
   "source": [
    "# Defining panel widgets: the sex dropdown menu\n",
    "sex_menu = pn.widgets.Select(options = ['BTSX', 'FMLE', 'MLE'], name = 'DisaggregatingDimension1ValueCode')\n",
    "sex_menu"
   ]
  },
  {
   "cell_type": "code",
   "execution_count": 73,
   "id": "edfec0ec-4df0-4657-bc38-3e66350fd6bb",
   "metadata": {
    "tags": []
   },
   "outputs": [],
   "source": [
    "# Defining Panel widgets: radio buttons for mean BMI in the pooled population\n",
    "yaxis_prevalence = pn.widgets.RadioButtonGroup(\n",
    "    name = 'Y axis',\n",
    "    options = ['NumericValue', 'Low', 'High',],\n",
    "    button_type = 'success'\n",
    ")"
   ]
  },
  {
   "cell_type": "code",
   "execution_count": 75,
   "id": "d2e39d6d-ff72-4873-aee2-4cc87863410e",
   "metadata": {
    "tags": []
   },
   "outputs": [],
   "source": [
    "# Connecting the widgets to the data_all pipeline\n",
    "income_group = ['WB_HI', 'WB_LI', 'WB_LMI', 'WB_UMI']\n",
    "\n",
    "bmi_all_pipeline = (\n",
    "    idf_all[\n",
    "        (idf.TimeDim <= year_slider) &\n",
    "        (idf.DisaggregatingDimension1ValueCode == sex_menu) & \n",
    "        (idf.SpatialDimensionValueCode.isin(income_group))\n",
    "    ]\n",
    "    .groupby(['SpatialDimensionValueCode', 'TimeDim'])[yaxis_prevalence].mean()\n",
    "    .to_frame()\n",
    "    .reset_index()\n",
    "    .sort_values(by = 'TimeDim')\n",
    "    .reset_index(drop = True)\n",
    ")"
   ]
  },
  {
   "cell_type": "code",
   "execution_count": 76,
   "id": "56ef420a-f88e-4bfd-9a0e-9c0b34d66a0a",
   "metadata": {
    "collapsed": true,
    "jupyter": {
     "outputs_hidden": true
    },
    "tags": []
   },
   "outputs": [
    {
     "data": {},
     "metadata": {},
     "output_type": "display_data"
    },
    {
     "data": {
      "application/vnd.holoviews_exec.v0+json": "",
      "text/html": [
       "<div id='14640'>\n",
       "  <div class=\"bk-root\" id=\"6b4791cc-a9cb-455c-a7d4-b9e6ff329147\" data-root-id=\"14640\"></div>\n",
       "</div>\n",
       "<script type=\"application/javascript\">(function(root) {\n",
       "  function embed_document(root) {\n",
       "    var docs_json = {\"9a10a18c-631b-41cd-af8d-bf2db7227ca8\":{\"defs\":[{\"extends\":null,\"module\":null,\"name\":\"ReactiveHTML1\",\"overrides\":[],\"properties\":[]},{\"extends\":null,\"module\":null,\"name\":\"FlexBox1\",\"overrides\":[],\"properties\":[{\"default\":\"flex-start\",\"kind\":null,\"name\":\"align_content\"},{\"default\":\"flex-start\",\"kind\":null,\"name\":\"align_items\"},{\"default\":\"row\",\"kind\":null,\"name\":\"flex_direction\"},{\"default\":\"wrap\",\"kind\":null,\"name\":\"flex_wrap\"},{\"default\":\"flex-start\",\"kind\":null,\"name\":\"justify_content\"}]},{\"extends\":null,\"module\":null,\"name\":\"GridStack1\",\"overrides\":[],\"properties\":[{\"default\":\"warn\",\"kind\":null,\"name\":\"mode\"},{\"default\":null,\"kind\":null,\"name\":\"ncols\"},{\"default\":null,\"kind\":null,\"name\":\"nrows\"},{\"default\":true,\"kind\":null,\"name\":\"allow_resize\"},{\"default\":true,\"kind\":null,\"name\":\"allow_drag\"},{\"default\":[],\"kind\":null,\"name\":\"state\"}]},{\"extends\":null,\"module\":null,\"name\":\"click1\",\"overrides\":[],\"properties\":[{\"default\":\"\",\"kind\":null,\"name\":\"terminal_output\"},{\"default\":\"\",\"kind\":null,\"name\":\"debug_name\"},{\"default\":0,\"kind\":null,\"name\":\"clears\"}]},{\"extends\":null,\"module\":null,\"name\":\"NotificationAreaBase1\",\"overrides\":[],\"properties\":[{\"default\":\"bottom-right\",\"kind\":null,\"name\":\"position\"},{\"default\":0,\"kind\":null,\"name\":\"_clear\"}]},{\"extends\":null,\"module\":null,\"name\":\"NotificationArea1\",\"overrides\":[],\"properties\":[{\"default\":[],\"kind\":null,\"name\":\"notifications\"},{\"default\":\"bottom-right\",\"kind\":null,\"name\":\"position\"},{\"default\":0,\"kind\":null,\"name\":\"_clear\"},{\"default\":[{\"background\":\"#ffc107\",\"icon\":{\"className\":\"fas fa-exclamation-triangle\",\"color\":\"white\",\"tagName\":\"i\"},\"type\":\"warning\"},{\"background\":\"#007bff\",\"icon\":{\"className\":\"fas fa-info-circle\",\"color\":\"white\",\"tagName\":\"i\"},\"type\":\"info\"}],\"kind\":null,\"name\":\"types\"}]},{\"extends\":null,\"module\":null,\"name\":\"Notification\",\"overrides\":[],\"properties\":[{\"default\":null,\"kind\":null,\"name\":\"background\"},{\"default\":3000,\"kind\":null,\"name\":\"duration\"},{\"default\":null,\"kind\":null,\"name\":\"icon\"},{\"default\":\"\",\"kind\":null,\"name\":\"message\"},{\"default\":null,\"kind\":null,\"name\":\"notification_type\"},{\"default\":false,\"kind\":null,\"name\":\"_destroyed\"}]},{\"extends\":null,\"module\":null,\"name\":\"TemplateActions1\",\"overrides\":[],\"properties\":[{\"default\":0,\"kind\":null,\"name\":\"open_modal\"},{\"default\":0,\"kind\":null,\"name\":\"close_modal\"}]},{\"extends\":null,\"module\":null,\"name\":\"MaterialTemplateActions1\",\"overrides\":[],\"properties\":[{\"default\":0,\"kind\":null,\"name\":\"open_modal\"},{\"default\":0,\"kind\":null,\"name\":\"close_modal\"}]}],\"roots\":{\"references\":[{\"attributes\":{\"margin\":[5,5,5,5],\"name\":\"DataFrame65701\",\"text\":\"&lt;table class=&quot;dataframe panel-df&quot;&gt;\\n  &lt;thead&gt;\\n    &lt;tr style=&quot;text-align: right;&quot;&gt;\\n      &lt;th&gt;&lt;/th&gt;\\n      &lt;th&gt;SpatialDimensionValueCode&lt;/th&gt;\\n      &lt;th&gt;TimeDim&lt;/th&gt;\\n      &lt;th&gt;NumericValue&lt;/th&gt;\\n    &lt;/tr&gt;\\n  &lt;/thead&gt;\\n  &lt;tbody&gt;\\n    &lt;tr&gt;\\n      &lt;th&gt;0&lt;/th&gt;\\n      &lt;td&gt;WB_HI&lt;/td&gt;\\n      &lt;td&gt;1975&lt;/td&gt;\\n      &lt;td&gt;24.1&lt;/td&gt;\\n    &lt;/tr&gt;\\n    &lt;tr&gt;\\n      &lt;th&gt;1&lt;/th&gt;\\n      &lt;td&gt;WB_UMI&lt;/td&gt;\\n      &lt;td&gt;1975&lt;/td&gt;\\n      &lt;td&gt;22.2&lt;/td&gt;\\n    &lt;/tr&gt;\\n    &lt;tr&gt;\\n      &lt;th&gt;2&lt;/th&gt;\\n      &lt;td&gt;WB_LI&lt;/td&gt;\\n      &lt;td&gt;1975&lt;/td&gt;\\n      &lt;td&gt;19.0&lt;/td&gt;\\n    &lt;/tr&gt;\\n    &lt;tr&gt;\\n      &lt;th&gt;3&lt;/th&gt;\\n      &lt;td&gt;WB_LMI&lt;/td&gt;\\n      &lt;td&gt;1975&lt;/td&gt;\\n      &lt;td&gt;19.6&lt;/td&gt;\\n    &lt;/tr&gt;\\n    &lt;tr&gt;\\n      &lt;th&gt;4&lt;/th&gt;\\n      &lt;td&gt;WB_LMI&lt;/td&gt;\\n      &lt;td&gt;1976&lt;/td&gt;\\n      &lt;td&gt;19.7&lt;/td&gt;\\n    &lt;/tr&gt;\\n    &lt;tr&gt;\\n      &lt;th&gt;5&lt;/th&gt;\\n      &lt;td&gt;WB_HI&lt;/td&gt;\\n      &lt;td&gt;1976&lt;/td&gt;\\n      &lt;td&gt;24.1&lt;/td&gt;\\n    &lt;/tr&gt;\\n    &lt;tr&gt;\\n      &lt;th&gt;6&lt;/th&gt;\\n      &lt;td&gt;WB_UMI&lt;/td&gt;\\n      &lt;td&gt;1976&lt;/td&gt;\\n      &lt;td&gt;22.2&lt;/td&gt;\\n    &lt;/tr&gt;\\n    &lt;tr&gt;\\n      &lt;th&gt;7&lt;/th&gt;\\n      &lt;td&gt;WB_LI&lt;/td&gt;\\n      &lt;td&gt;1976&lt;/td&gt;\\n      &lt;td&gt;19.1&lt;/td&gt;\\n    &lt;/tr&gt;\\n    &lt;tr&gt;\\n      &lt;th&gt;8&lt;/th&gt;\\n      &lt;td&gt;WB_LMI&lt;/td&gt;\\n      &lt;td&gt;1977&lt;/td&gt;\\n      &lt;td&gt;19.8&lt;/td&gt;\\n    &lt;/tr&gt;\\n    &lt;tr&gt;\\n      &lt;th&gt;9&lt;/th&gt;\\n      &lt;td&gt;WB_LI&lt;/td&gt;\\n      &lt;td&gt;1977&lt;/td&gt;\\n      &lt;td&gt;19.2&lt;/td&gt;\\n    &lt;/tr&gt;\\n    &lt;tr&gt;\\n      &lt;th&gt;10&lt;/th&gt;\\n      &lt;td&gt;WB_HI&lt;/td&gt;\\n      &lt;td&gt;1977&lt;/td&gt;\\n      &lt;td&gt;24.2&lt;/td&gt;\\n    &lt;/tr&gt;\\n    &lt;tr&gt;\\n      &lt;th&gt;11&lt;/th&gt;\\n      &lt;td&gt;WB_UMI&lt;/td&gt;\\n      &lt;td&gt;1977&lt;/td&gt;\\n      &lt;td&gt;22.3&lt;/td&gt;\\n    &lt;/tr&gt;\\n    &lt;tr&gt;\\n      &lt;th&gt;12&lt;/th&gt;\\n      &lt;td&gt;WB_HI&lt;/td&gt;\\n      &lt;td&gt;1978&lt;/td&gt;\\n      &lt;td&gt;24.2&lt;/td&gt;\\n    &lt;/tr&gt;\\n    &lt;tr&gt;\\n      &lt;th&gt;13&lt;/th&gt;\\n      &lt;td&gt;WB_LMI&lt;/td&gt;\\n      &lt;td&gt;1978&lt;/td&gt;\\n      &lt;td&gt;19.9&lt;/td&gt;\\n    &lt;/tr&gt;\\n    &lt;tr&gt;\\n      &lt;th&gt;14&lt;/th&gt;\\n      &lt;td&gt;WB_LI&lt;/td&gt;\\n      &lt;td&gt;1978&lt;/td&gt;\\n      &lt;td&gt;19.3&lt;/td&gt;\\n    &lt;/tr&gt;\\n    &lt;tr&gt;\\n      &lt;th&gt;15&lt;/th&gt;\\n      &lt;td&gt;WB_UMI&lt;/td&gt;\\n      &lt;td&gt;1978&lt;/td&gt;\\n      &lt;td&gt;22.3&lt;/td&gt;\\n    &lt;/tr&gt;\\n    &lt;tr&gt;\\n      &lt;th&gt;16&lt;/th&gt;\\n      &lt;td&gt;WB_LMI&lt;/td&gt;\\n      &lt;td&gt;1979&lt;/td&gt;\\n      &lt;td&gt;20.0&lt;/td&gt;\\n    &lt;/tr&gt;\\n    &lt;tr&gt;\\n      &lt;th&gt;17&lt;/th&gt;\\n      &lt;td&gt;WB_HI&lt;/td&gt;\\n      &lt;td&gt;1979&lt;/td&gt;\\n      &lt;td&gt;24.3&lt;/td&gt;\\n    &lt;/tr&gt;\\n    &lt;tr&gt;\\n      &lt;th&gt;18&lt;/th&gt;\\n      &lt;td&gt;WB_UMI&lt;/td&gt;\\n      &lt;td&gt;1979&lt;/td&gt;\\n      &lt;td&gt;22.4&lt;/td&gt;\\n    &lt;/tr&gt;\\n    &lt;tr&gt;\\n      &lt;th&gt;19&lt;/th&gt;\\n      &lt;td&gt;WB_LI&lt;/td&gt;\\n      &lt;td&gt;1979&lt;/td&gt;\\n      &lt;td&gt;19.4&lt;/td&gt;\\n    &lt;/tr&gt;\\n    &lt;tr&gt;\\n      &lt;th&gt;20&lt;/th&gt;\\n      &lt;td&gt;WB_LI&lt;/td&gt;\\n      &lt;td&gt;1980&lt;/td&gt;\\n      &lt;td&gt;19.5&lt;/td&gt;\\n    &lt;/tr&gt;\\n    &lt;tr&gt;\\n      &lt;th&gt;21&lt;/th&gt;\\n      &lt;td&gt;WB_LMI&lt;/td&gt;\\n      &lt;td&gt;1980&lt;/td&gt;\\n      &lt;td&gt;20.1&lt;/td&gt;\\n    &lt;/tr&gt;\\n    &lt;tr&gt;\\n      &lt;th&gt;22&lt;/th&gt;\\n      &lt;td&gt;WB_UMI&lt;/td&gt;\\n      &lt;td&gt;1980&lt;/td&gt;\\n      &lt;td&gt;22.5&lt;/td&gt;\\n    &lt;/tr&gt;\\n    &lt;tr&gt;\\n      &lt;th&gt;23&lt;/th&gt;\\n      &lt;td&gt;WB_HI&lt;/td&gt;\\n      &lt;td&gt;1980&lt;/td&gt;\\n      &lt;td&gt;24.3&lt;/td&gt;\\n    &lt;/tr&gt;\\n    &lt;tr&gt;\\n      &lt;th&gt;24&lt;/th&gt;\\n      &lt;td&gt;WB_HI&lt;/td&gt;\\n      &lt;td&gt;1981&lt;/td&gt;\\n      &lt;td&gt;24.4&lt;/td&gt;\\n    &lt;/tr&gt;\\n    &lt;tr&gt;\\n      &lt;th&gt;25&lt;/th&gt;\\n      &lt;td&gt;WB_LMI&lt;/td&gt;\\n      &lt;td&gt;1981&lt;/td&gt;\\n      &lt;td&gt;20.2&lt;/td&gt;\\n    &lt;/tr&gt;\\n    &lt;tr&gt;\\n      &lt;th&gt;26&lt;/th&gt;\\n      &lt;td&gt;WB_LI&lt;/td&gt;\\n      &lt;td&gt;1981&lt;/td&gt;\\n      &lt;td&gt;19.6&lt;/td&gt;\\n    &lt;/tr&gt;\\n    &lt;tr&gt;\\n      &lt;th&gt;27&lt;/th&gt;\\n      &lt;td&gt;WB_UMI&lt;/td&gt;\\n      &lt;td&gt;1981&lt;/td&gt;\\n      &lt;td&gt;22.5&lt;/td&gt;\\n    &lt;/tr&gt;\\n    &lt;tr&gt;\\n      &lt;th&gt;28&lt;/th&gt;\\n      &lt;td&gt;WB_HI&lt;/td&gt;\\n      &lt;td&gt;1982&lt;/td&gt;\\n      &lt;td&gt;24.4&lt;/td&gt;\\n    &lt;/tr&gt;\\n    &lt;tr&gt;\\n      &lt;th&gt;29&lt;/th&gt;\\n      &lt;td&gt;WB_LMI&lt;/td&gt;\\n      &lt;td&gt;1982&lt;/td&gt;\\n      &lt;td&gt;20.2&lt;/td&gt;\\n    &lt;/tr&gt;\\n    &lt;tr&gt;\\n      &lt;th&gt;30&lt;/th&gt;\\n      &lt;td&gt;WB_LI&lt;/td&gt;\\n      &lt;td&gt;1982&lt;/td&gt;\\n      &lt;td&gt;19.7&lt;/td&gt;\\n    &lt;/tr&gt;\\n    &lt;tr&gt;\\n      &lt;th&gt;31&lt;/th&gt;\\n      &lt;td&gt;WB_UMI&lt;/td&gt;\\n      &lt;td&gt;1982&lt;/td&gt;\\n      &lt;td&gt;22.6&lt;/td&gt;\\n    &lt;/tr&gt;\\n    &lt;tr&gt;\\n      &lt;th&gt;32&lt;/th&gt;\\n      &lt;td&gt;WB_HI&lt;/td&gt;\\n      &lt;td&gt;1983&lt;/td&gt;\\n      &lt;td&gt;24.5&lt;/td&gt;\\n    &lt;/tr&gt;\\n    &lt;tr&gt;\\n      &lt;th&gt;33&lt;/th&gt;\\n      &lt;td&gt;WB_LMI&lt;/td&gt;\\n      &lt;td&gt;1983&lt;/td&gt;\\n      &lt;td&gt;20.3&lt;/td&gt;\\n    &lt;/tr&gt;\\n    &lt;tr&gt;\\n      &lt;th&gt;34&lt;/th&gt;\\n      &lt;td&gt;WB_UMI&lt;/td&gt;\\n      &lt;td&gt;1983&lt;/td&gt;\\n      &lt;td&gt;22.7&lt;/td&gt;\\n    &lt;/tr&gt;\\n    &lt;tr&gt;\\n      &lt;th&gt;35&lt;/th&gt;\\n      &lt;td&gt;WB_LI&lt;/td&gt;\\n      &lt;td&gt;1983&lt;/td&gt;\\n      &lt;td&gt;19.8&lt;/td&gt;\\n    &lt;/tr&gt;\\n    &lt;tr&gt;\\n      &lt;th&gt;36&lt;/th&gt;\\n      &lt;td&gt;WB_UMI&lt;/td&gt;\\n      &lt;td&gt;1984&lt;/td&gt;\\n      &lt;td&gt;22.7&lt;/td&gt;\\n    &lt;/tr&gt;\\n    &lt;tr&gt;\\n      &lt;th&gt;37&lt;/th&gt;\\n      &lt;td&gt;WB_LI&lt;/td&gt;\\n      &lt;td&gt;1984&lt;/td&gt;\\n      &lt;td&gt;19.9&lt;/td&gt;\\n    &lt;/tr&gt;\\n    &lt;tr&gt;\\n      &lt;th&gt;38&lt;/th&gt;\\n      &lt;td&gt;WB_LMI&lt;/td&gt;\\n      &lt;td&gt;1984&lt;/td&gt;\\n      &lt;td&gt;20.4&lt;/td&gt;\\n    &lt;/tr&gt;\\n    &lt;tr&gt;\\n      &lt;th&gt;39&lt;/th&gt;\\n      &lt;td&gt;WB_HI&lt;/td&gt;\\n      &lt;td&gt;1984&lt;/td&gt;\\n      &lt;td&gt;24.6&lt;/td&gt;\\n    &lt;/tr&gt;\\n    &lt;tr&gt;\\n      &lt;th&gt;40&lt;/th&gt;\\n      &lt;td&gt;WB_LMI&lt;/td&gt;\\n      &lt;td&gt;1985&lt;/td&gt;\\n      &lt;td&gt;20.5&lt;/td&gt;\\n    &lt;/tr&gt;\\n    &lt;tr&gt;\\n      &lt;th&gt;41&lt;/th&gt;\\n      &lt;td&gt;WB_HI&lt;/td&gt;\\n      &lt;td&gt;1985&lt;/td&gt;\\n      &lt;td&gt;24.6&lt;/td&gt;\\n    &lt;/tr&gt;\\n    &lt;tr&gt;\\n      &lt;th&gt;42&lt;/th&gt;\\n      &lt;td&gt;WB_LI&lt;/td&gt;\\n      &lt;td&gt;1985&lt;/td&gt;\\n      &lt;td&gt;20.0&lt;/td&gt;\\n    &lt;/tr&gt;\\n    &lt;tr&gt;\\n      &lt;th&gt;43&lt;/th&gt;\\n      &lt;td&gt;WB_UMI&lt;/td&gt;\\n      &lt;td&gt;1985&lt;/td&gt;\\n      &lt;td&gt;22.8&lt;/td&gt;\\n    &lt;/tr&gt;\\n    &lt;tr&gt;\\n      &lt;th&gt;44&lt;/th&gt;\\n      &lt;td&gt;WB_UMI&lt;/td&gt;\\n      &lt;td&gt;1986&lt;/td&gt;\\n      &lt;td&gt;22.9&lt;/td&gt;\\n    &lt;/tr&gt;\\n    &lt;tr&gt;\\n      &lt;th&gt;45&lt;/th&gt;\\n      &lt;td&gt;WB_LI&lt;/td&gt;\\n      &lt;td&gt;1986&lt;/td&gt;\\n      &lt;td&gt;20.1&lt;/td&gt;\\n    &lt;/tr&gt;\\n    &lt;tr&gt;\\n      &lt;th&gt;46&lt;/th&gt;\\n      &lt;td&gt;WB_LMI&lt;/td&gt;\\n      &lt;td&gt;1986&lt;/td&gt;\\n      &lt;td&gt;20.6&lt;/td&gt;\\n    &lt;/tr&gt;\\n    &lt;tr&gt;\\n      &lt;th&gt;47&lt;/th&gt;\\n      &lt;td&gt;WB_HI&lt;/td&gt;\\n      &lt;td&gt;1986&lt;/td&gt;\\n      &lt;td&gt;24.7&lt;/td&gt;\\n    &lt;/tr&gt;\\n    &lt;tr&gt;\\n      &lt;th&gt;48&lt;/th&gt;\\n      &lt;td&gt;WB_HI&lt;/td&gt;\\n      &lt;td&gt;1987&lt;/td&gt;\\n      &lt;td&gt;24.8&lt;/td&gt;\\n    &lt;/tr&gt;\\n    &lt;tr&gt;\\n      &lt;th&gt;49&lt;/th&gt;\\n      &lt;td&gt;WB_LMI&lt;/td&gt;\\n      &lt;td&gt;1987&lt;/td&gt;\\n      &lt;td&gt;20.7&lt;/td&gt;\\n    &lt;/tr&gt;\\n    &lt;tr&gt;\\n      &lt;th&gt;...&lt;/th&gt;\\n      &lt;td&gt;...&lt;/td&gt;\\n      &lt;td&gt;...&lt;/td&gt;\\n      &lt;td&gt;...&lt;/td&gt;\\n    &lt;/tr&gt;\\n    &lt;tr&gt;\\n      &lt;th&gt;118&lt;/th&gt;\\n      &lt;td&gt;WB_HI&lt;/td&gt;\\n      &lt;td&gt;2004&lt;/td&gt;\\n      &lt;td&gt;26.0&lt;/td&gt;\\n    &lt;/tr&gt;\\n    &lt;tr&gt;\\n      &lt;th&gt;119&lt;/th&gt;\\n      &lt;td&gt;WB_UMI&lt;/td&gt;\\n      &lt;td&gt;2004&lt;/td&gt;\\n      &lt;td&gt;24.0&lt;/td&gt;\\n    &lt;/tr&gt;\\n    &lt;tr&gt;\\n      &lt;th&gt;120&lt;/th&gt;\\n      &lt;td&gt;WB_LMI&lt;/td&gt;\\n      &lt;td&gt;2005&lt;/td&gt;\\n      &lt;td&gt;22.1&lt;/td&gt;\\n    &lt;/tr&gt;\\n    &lt;tr&gt;\\n      &lt;th&gt;121&lt;/th&gt;\\n      &lt;td&gt;WB_HI&lt;/td&gt;\\n      &lt;td&gt;2005&lt;/td&gt;\\n      &lt;td&gt;26.1&lt;/td&gt;\\n    &lt;/tr&gt;\\n    &lt;tr&gt;\\n      &lt;th&gt;122&lt;/th&gt;\\n      &lt;td&gt;WB_LI&lt;/td&gt;\\n      &lt;td&gt;2005&lt;/td&gt;\\n      &lt;td&gt;21.7&lt;/td&gt;\\n    &lt;/tr&gt;\\n    &lt;tr&gt;\\n      &lt;th&gt;123&lt;/th&gt;\\n      &lt;td&gt;WB_UMI&lt;/td&gt;\\n      &lt;td&gt;2005&lt;/td&gt;\\n      &lt;td&gt;24.1&lt;/td&gt;\\n    &lt;/tr&gt;\\n    &lt;tr&gt;\\n      &lt;th&gt;124&lt;/th&gt;\\n      &lt;td&gt;WB_HI&lt;/td&gt;\\n      &lt;td&gt;2006&lt;/td&gt;\\n      &lt;td&gt;26.1&lt;/td&gt;\\n    &lt;/tr&gt;\\n    &lt;tr&gt;\\n      &lt;th&gt;125&lt;/th&gt;\\n      &lt;td&gt;WB_LI&lt;/td&gt;\\n      &lt;td&gt;2006&lt;/td&gt;\\n      &lt;td&gt;21.8&lt;/td&gt;\\n    &lt;/tr&gt;\\n    &lt;tr&gt;\\n      &lt;th&gt;126&lt;/th&gt;\\n      &lt;td&gt;WB_UMI&lt;/td&gt;\\n      &lt;td&gt;2006&lt;/td&gt;\\n      &lt;td&gt;24.1&lt;/td&gt;\\n    &lt;/tr&gt;\\n    &lt;tr&gt;\\n      &lt;th&gt;127&lt;/th&gt;\\n      &lt;td&gt;WB_LMI&lt;/td&gt;\\n      &lt;td&gt;2006&lt;/td&gt;\\n      &lt;td&gt;22.2&lt;/td&gt;\\n    &lt;/tr&gt;\\n    &lt;tr&gt;\\n      &lt;th&gt;128&lt;/th&gt;\\n      &lt;td&gt;WB_UMI&lt;/td&gt;\\n      &lt;td&gt;2007&lt;/td&gt;\\n      &lt;td&gt;24.2&lt;/td&gt;\\n    &lt;/tr&gt;\\n    &lt;tr&gt;\\n      &lt;th&gt;129&lt;/th&gt;\\n      &lt;td&gt;WB_LI&lt;/td&gt;\\n      &lt;td&gt;2007&lt;/td&gt;\\n      &lt;td&gt;21.9&lt;/td&gt;\\n    &lt;/tr&gt;\\n    &lt;tr&gt;\\n      &lt;th&gt;130&lt;/th&gt;\\n      &lt;td&gt;WB_HI&lt;/td&gt;\\n      &lt;td&gt;2007&lt;/td&gt;\\n      &lt;td&gt;26.2&lt;/td&gt;\\n    &lt;/tr&gt;\\n    &lt;tr&gt;\\n      &lt;th&gt;131&lt;/th&gt;\\n      &lt;td&gt;WB_LMI&lt;/td&gt;\\n      &lt;td&gt;2007&lt;/td&gt;\\n      &lt;td&gt;22.3&lt;/td&gt;\\n    &lt;/tr&gt;\\n    &lt;tr&gt;\\n      &lt;th&gt;132&lt;/th&gt;\\n      &lt;td&gt;WB_HI&lt;/td&gt;\\n      &lt;td&gt;2008&lt;/td&gt;\\n      &lt;td&gt;26.3&lt;/td&gt;\\n    &lt;/tr&gt;\\n    &lt;tr&gt;\\n      &lt;th&gt;133&lt;/th&gt;\\n      &lt;td&gt;WB_LMI&lt;/td&gt;\\n      &lt;td&gt;2008&lt;/td&gt;\\n      &lt;td&gt;22.3&lt;/td&gt;\\n    &lt;/tr&gt;\\n    &lt;tr&gt;\\n      &lt;th&gt;134&lt;/th&gt;\\n      &lt;td&gt;WB_UMI&lt;/td&gt;\\n      &lt;td&gt;2008&lt;/td&gt;\\n      &lt;td&gt;24.3&lt;/td&gt;\\n    &lt;/tr&gt;\\n    &lt;tr&gt;\\n      &lt;th&gt;135&lt;/th&gt;\\n      &lt;td&gt;WB_LI&lt;/td&gt;\\n      &lt;td&gt;2008&lt;/td&gt;\\n      &lt;td&gt;21.9&lt;/td&gt;\\n    &lt;/tr&gt;\\n    &lt;tr&gt;\\n      &lt;th&gt;136&lt;/th&gt;\\n      &lt;td&gt;WB_HI&lt;/td&gt;\\n      &lt;td&gt;2009&lt;/td&gt;\\n      &lt;td&gt;26.3&lt;/td&gt;\\n    &lt;/tr&gt;\\n    &lt;tr&gt;\\n      &lt;th&gt;137&lt;/th&gt;\\n      &lt;td&gt;WB_UMI&lt;/td&gt;\\n      &lt;td&gt;2009&lt;/td&gt;\\n      &lt;td&gt;24.4&lt;/td&gt;\\n    &lt;/tr&gt;\\n    &lt;tr&gt;\\n      &lt;th&gt;138&lt;/th&gt;\\n      &lt;td&gt;WB_LI&lt;/td&gt;\\n      &lt;td&gt;2009&lt;/td&gt;\\n      &lt;td&gt;22.0&lt;/td&gt;\\n    &lt;/tr&gt;\\n    &lt;tr&gt;\\n      &lt;th&gt;139&lt;/th&gt;\\n      &lt;td&gt;WB_LMI&lt;/td&gt;\\n      &lt;td&gt;2009&lt;/td&gt;\\n      &lt;td&gt;22.4&lt;/td&gt;\\n    &lt;/tr&gt;\\n    &lt;tr&gt;\\n      &lt;th&gt;140&lt;/th&gt;\\n      &lt;td&gt;WB_LMI&lt;/td&gt;\\n      &lt;td&gt;2010&lt;/td&gt;\\n      &lt;td&gt;22.5&lt;/td&gt;\\n    &lt;/tr&gt;\\n    &lt;tr&gt;\\n      &lt;th&gt;141&lt;/th&gt;\\n      &lt;td&gt;WB_UMI&lt;/td&gt;\\n      &lt;td&gt;2010&lt;/td&gt;\\n      &lt;td&gt;24.5&lt;/td&gt;\\n    &lt;/tr&gt;\\n    &lt;tr&gt;\\n      &lt;th&gt;142&lt;/th&gt;\\n      &lt;td&gt;WB_LI&lt;/td&gt;\\n      &lt;td&gt;2010&lt;/td&gt;\\n      &lt;td&gt;22.1&lt;/td&gt;\\n    &lt;/tr&gt;\\n    &lt;tr&gt;\\n      &lt;th&gt;143&lt;/th&gt;\\n      &lt;td&gt;WB_HI&lt;/td&gt;\\n      &lt;td&gt;2010&lt;/td&gt;\\n      &lt;td&gt;26.4&lt;/td&gt;\\n    &lt;/tr&gt;\\n    &lt;tr&gt;\\n      &lt;th&gt;144&lt;/th&gt;\\n      &lt;td&gt;WB_HI&lt;/td&gt;\\n      &lt;td&gt;2011&lt;/td&gt;\\n      &lt;td&gt;26.4&lt;/td&gt;\\n    &lt;/tr&gt;\\n    &lt;tr&gt;\\n      &lt;th&gt;145&lt;/th&gt;\\n      &lt;td&gt;WB_LMI&lt;/td&gt;\\n      &lt;td&gt;2011&lt;/td&gt;\\n      &lt;td&gt;22.6&lt;/td&gt;\\n    &lt;/tr&gt;\\n    &lt;tr&gt;\\n      &lt;th&gt;146&lt;/th&gt;\\n      &lt;td&gt;WB_LI&lt;/td&gt;\\n      &lt;td&gt;2011&lt;/td&gt;\\n      &lt;td&gt;22.1&lt;/td&gt;\\n    &lt;/tr&gt;\\n    &lt;tr&gt;\\n      &lt;th&gt;147&lt;/th&gt;\\n      &lt;td&gt;WB_UMI&lt;/td&gt;\\n      &lt;td&gt;2011&lt;/td&gt;\\n      &lt;td&gt;24.6&lt;/td&gt;\\n    &lt;/tr&gt;\\n    &lt;tr&gt;\\n      &lt;th&gt;148&lt;/th&gt;\\n      &lt;td&gt;WB_UMI&lt;/td&gt;\\n      &lt;td&gt;2012&lt;/td&gt;\\n      &lt;td&gt;24.7&lt;/td&gt;\\n    &lt;/tr&gt;\\n    &lt;tr&gt;\\n      &lt;th&gt;149&lt;/th&gt;\\n      &lt;td&gt;WB_LMI&lt;/td&gt;\\n      &lt;td&gt;2012&lt;/td&gt;\\n      &lt;td&gt;22.7&lt;/td&gt;\\n    &lt;/tr&gt;\\n    &lt;tr&gt;\\n      &lt;th&gt;150&lt;/th&gt;\\n      &lt;td&gt;WB_LI&lt;/td&gt;\\n      &lt;td&gt;2012&lt;/td&gt;\\n      &lt;td&gt;22.2&lt;/td&gt;\\n    &lt;/tr&gt;\\n    &lt;tr&gt;\\n      &lt;th&gt;151&lt;/th&gt;\\n      &lt;td&gt;WB_HI&lt;/td&gt;\\n      &lt;td&gt;2012&lt;/td&gt;\\n      &lt;td&gt;26.5&lt;/td&gt;\\n    &lt;/tr&gt;\\n    &lt;tr&gt;\\n      &lt;th&gt;152&lt;/th&gt;\\n      &lt;td&gt;WB_LMI&lt;/td&gt;\\n      &lt;td&gt;2013&lt;/td&gt;\\n      &lt;td&gt;22.7&lt;/td&gt;\\n    &lt;/tr&gt;\\n    &lt;tr&gt;\\n      &lt;th&gt;153&lt;/th&gt;\\n      &lt;td&gt;WB_LI&lt;/td&gt;\\n      &lt;td&gt;2013&lt;/td&gt;\\n      &lt;td&gt;22.2&lt;/td&gt;\\n    &lt;/tr&gt;\\n    &lt;tr&gt;\\n      &lt;th&gt;154&lt;/th&gt;\\n      &lt;td&gt;WB_HI&lt;/td&gt;\\n      &lt;td&gt;2013&lt;/td&gt;\\n      &lt;td&gt;26.5&lt;/td&gt;\\n    &lt;/tr&gt;\\n    &lt;tr&gt;\\n      &lt;th&gt;155&lt;/th&gt;\\n      &lt;td&gt;WB_UMI&lt;/td&gt;\\n      &lt;td&gt;2013&lt;/td&gt;\\n      &lt;td&gt;24.8&lt;/td&gt;\\n    &lt;/tr&gt;\\n    &lt;tr&gt;\\n      &lt;th&gt;156&lt;/th&gt;\\n      &lt;td&gt;WB_LMI&lt;/td&gt;\\n      &lt;td&gt;2014&lt;/td&gt;\\n      &lt;td&gt;22.8&lt;/td&gt;\\n    &lt;/tr&gt;\\n    &lt;tr&gt;\\n      &lt;th&gt;157&lt;/th&gt;\\n      &lt;td&gt;WB_UMI&lt;/td&gt;\\n      &lt;td&gt;2014&lt;/td&gt;\\n      &lt;td&gt;24.9&lt;/td&gt;\\n    &lt;/tr&gt;\\n    &lt;tr&gt;\\n      &lt;th&gt;158&lt;/th&gt;\\n      &lt;td&gt;WB_HI&lt;/td&gt;\\n      &lt;td&gt;2014&lt;/td&gt;\\n      &lt;td&gt;26.6&lt;/td&gt;\\n    &lt;/tr&gt;\\n    &lt;tr&gt;\\n      &lt;th&gt;159&lt;/th&gt;\\n      &lt;td&gt;WB_LI&lt;/td&gt;\\n      &lt;td&gt;2014&lt;/td&gt;\\n      &lt;td&gt;22.3&lt;/td&gt;\\n    &lt;/tr&gt;\\n    &lt;tr&gt;\\n      &lt;th&gt;160&lt;/th&gt;\\n      &lt;td&gt;WB_LMI&lt;/td&gt;\\n      &lt;td&gt;2015&lt;/td&gt;\\n      &lt;td&gt;22.9&lt;/td&gt;\\n    &lt;/tr&gt;\\n    &lt;tr&gt;\\n      &lt;th&gt;161&lt;/th&gt;\\n      &lt;td&gt;WB_UMI&lt;/td&gt;\\n      &lt;td&gt;2015&lt;/td&gt;\\n      &lt;td&gt;25.0&lt;/td&gt;\\n    &lt;/tr&gt;\\n    &lt;tr&gt;\\n      &lt;th&gt;162&lt;/th&gt;\\n      &lt;td&gt;WB_LI&lt;/td&gt;\\n      &lt;td&gt;2015&lt;/td&gt;\\n      &lt;td&gt;22.4&lt;/td&gt;\\n    &lt;/tr&gt;\\n    &lt;tr&gt;\\n      &lt;th&gt;163&lt;/th&gt;\\n      &lt;td&gt;WB_HI&lt;/td&gt;\\n      &lt;td&gt;2015&lt;/td&gt;\\n      &lt;td&gt;26.6&lt;/td&gt;\\n    &lt;/tr&gt;\\n    &lt;tr&gt;\\n      &lt;th&gt;164&lt;/th&gt;\\n      &lt;td&gt;WB_LI&lt;/td&gt;\\n      &lt;td&gt;2016&lt;/td&gt;\\n      &lt;td&gt;22.4&lt;/td&gt;\\n    &lt;/tr&gt;\\n    &lt;tr&gt;\\n      &lt;th&gt;165&lt;/th&gt;\\n      &lt;td&gt;WB_HI&lt;/td&gt;\\n      &lt;td&gt;2016&lt;/td&gt;\\n      &lt;td&gt;26.6&lt;/td&gt;\\n    &lt;/tr&gt;\\n    &lt;tr&gt;\\n      &lt;th&gt;166&lt;/th&gt;\\n      &lt;td&gt;WB_LMI&lt;/td&gt;\\n      &lt;td&gt;2016&lt;/td&gt;\\n      &lt;td&gt;23.0&lt;/td&gt;\\n    &lt;/tr&gt;\\n    &lt;tr&gt;\\n      &lt;th&gt;167&lt;/th&gt;\\n      &lt;td&gt;WB_UMI&lt;/td&gt;\\n      &lt;td&gt;2016&lt;/td&gt;\\n      &lt;td&gt;25.1&lt;/td&gt;\\n    &lt;/tr&gt;\\n  &lt;/tbody&gt;\\n&lt;/table&gt;\"},\"id\":\"14649\",\"type\":\"panel.models.markup.HTML\"},{\"attributes\":{\"children\":[{\"id\":\"14641\"}],\"margin\":[0,0,0,0],\"name\":\"Row65706\"},\"id\":\"14640\",\"type\":\"Row\"},{\"attributes\":{\"children\":[{\"id\":\"14649\"}],\"margin\":[0,0,0,0],\"name\":\"Row65700\"},\"id\":\"14648\",\"type\":\"Row\"},{\"attributes\":{\"margin\":[5,5,5,5],\"name\":\"HSpacer65703\",\"sizing_mode\":\"stretch_width\"},\"id\":\"14647\",\"type\":\"Spacer\"},{\"attributes\":{\"children\":[{\"id\":\"14642\"},{\"id\":\"14648\"}],\"margin\":[0,0,0,0],\"name\":\"Column65705\"},\"id\":\"14641\",\"type\":\"Column\"},{\"attributes\":{\"active\":0,\"button_type\":\"success\",\"labels\":[\"NumericValue\",\"Low\",\"High\"],\"margin\":[5,10,5,10]},\"id\":\"14646\",\"type\":\"RadioButtonGroup\"},{\"attributes\":{\"margin\":[5,10,5,10],\"options\":[\"BTSX\",\"FMLE\",\"MLE\"],\"title\":\"DisaggregatingDimension1ValueCode\",\"value\":\"BTSX\"},\"id\":\"14645\",\"type\":\"panel.models.widgets.CustomSelect\"},{\"attributes\":{\"client_comm_id\":\"2568f97b62a642f6b1713ab98b1be835\",\"comm_id\":\"1e4138d128374af58e2a731e73b897ad\",\"plot_id\":\"14640\"},\"id\":\"14650\",\"type\":\"panel.models.comm_manager.CommManager\"},{\"attributes\":{\"end\":2016,\"margin\":[5,10,5,10],\"start\":1975,\"title\":\"Year slider\",\"value\":2016},\"id\":\"14644\",\"type\":\"Slider\"},{\"attributes\":{\"children\":[{\"id\":\"14643\"},{\"id\":\"14647\"}],\"margin\":[0,0,0,0],\"name\":\"Row65704\"},\"id\":\"14642\",\"type\":\"Row\"},{\"attributes\":{\"children\":[{\"id\":\"14644\"},{\"id\":\"14645\"},{\"id\":\"14646\"}],\"margin\":[0,0,0,0],\"name\":\"Column65695\"},\"id\":\"14643\",\"type\":\"Column\"}],\"root_ids\":[\"14640\",\"14650\"]},\"title\":\"Bokeh Application\",\"version\":\"2.4.3\"}};\n",
       "    var render_items = [{\"docid\":\"9a10a18c-631b-41cd-af8d-bf2db7227ca8\",\"root_ids\":[\"14640\"],\"roots\":{\"14640\":\"6b4791cc-a9cb-455c-a7d4-b9e6ff329147\"}}];\n",
       "    root.Bokeh.embed.embed_items_notebook(docs_json, render_items);\n",
       "    for (const render_item of render_items) {\n",
       "      for (const root_id of render_item.root_ids) {\n",
       "\tconst id_el = document.getElementById(root_id)\n",
       "\tif (id_el.children.length && (id_el.children[0].className === 'bk-root')) {\n",
       "\t  const root_el = id_el.children[0]\n",
       "\t  root_el.id = root_el.id + '-rendered'\n",
       "\t}\n",
       "      }\n",
       "    }\n",
       "  }\n",
       "  if (root.Bokeh !== undefined && root.Bokeh.Panel !== undefined && ( root['Tabulator'] !== undefined) && ( root['Tabulator'] !== undefined)) {\n",
       "    embed_document(root);\n",
       "  } else {\n",
       "    var attempts = 0;\n",
       "    var timer = setInterval(function(root) {\n",
       "      if (root.Bokeh !== undefined && root.Bokeh.Panel !== undefined && (root['Tabulator'] !== undefined) && (root['Tabulator'] !== undefined)) {\n",
       "        clearInterval(timer);\n",
       "        embed_document(root);\n",
       "      } else if (document.readyState == \"complete\") {\n",
       "        attempts++;\n",
       "        if (attempts > 200) {\n",
       "          clearInterval(timer);\n",
       "          console.log(\"Bokeh: ERROR: Unable to run BokehJS code because BokehJS library is missing\");\n",
       "        }\n",
       "      }\n",
       "    }, 25, root)\n",
       "  }\n",
       "})(window);</script>"
      ],
      "text/plain": [
       "<hvplot.interactive.Interactive at 0x7fde5c2d3d30>"
      ]
     },
     "execution_count": 76,
     "metadata": {
      "application/vnd.holoviews_exec.v0+json": {
       "id": "14640"
      }
     },
     "output_type": "execute_result"
    }
   ],
   "source": [
    "bmi_all_pipeline"
   ]
  },
  {
   "cell_type": "code",
   "execution_count": 77,
   "id": "cfdab18b-4eee-4a3f-a5b1-a459334f6de0",
   "metadata": {
    "collapsed": true,
    "jupyter": {
     "outputs_hidden": true
    },
    "tags": []
   },
   "outputs": [
    {
     "data": {},
     "metadata": {},
     "output_type": "display_data"
    },
    {
     "data": {},
     "metadata": {},
     "output_type": "display_data"
    },
    {
     "data": {
      "application/vnd.holoviews_exec.v0+json": "",
      "text/html": [
       "<div id='14660'>\n",
       "  <div class=\"bk-root\" id=\"2b878183-c196-4652-896c-432ddc898fe3\" data-root-id=\"14660\"></div>\n",
       "</div>\n",
       "<script type=\"application/javascript\">(function(root) {\n",
       "  function embed_document(root) {\n",
       "    var docs_json = {\"0a2f515d-62eb-47d0-b1a0-ff53d4a7308c\":{\"defs\":[{\"extends\":null,\"module\":null,\"name\":\"ReactiveHTML1\",\"overrides\":[],\"properties\":[]},{\"extends\":null,\"module\":null,\"name\":\"FlexBox1\",\"overrides\":[],\"properties\":[{\"default\":\"flex-start\",\"kind\":null,\"name\":\"align_content\"},{\"default\":\"flex-start\",\"kind\":null,\"name\":\"align_items\"},{\"default\":\"row\",\"kind\":null,\"name\":\"flex_direction\"},{\"default\":\"wrap\",\"kind\":null,\"name\":\"flex_wrap\"},{\"default\":\"flex-start\",\"kind\":null,\"name\":\"justify_content\"}]},{\"extends\":null,\"module\":null,\"name\":\"GridStack1\",\"overrides\":[],\"properties\":[{\"default\":\"warn\",\"kind\":null,\"name\":\"mode\"},{\"default\":null,\"kind\":null,\"name\":\"ncols\"},{\"default\":null,\"kind\":null,\"name\":\"nrows\"},{\"default\":true,\"kind\":null,\"name\":\"allow_resize\"},{\"default\":true,\"kind\":null,\"name\":\"allow_drag\"},{\"default\":[],\"kind\":null,\"name\":\"state\"}]},{\"extends\":null,\"module\":null,\"name\":\"click1\",\"overrides\":[],\"properties\":[{\"default\":\"\",\"kind\":null,\"name\":\"terminal_output\"},{\"default\":\"\",\"kind\":null,\"name\":\"debug_name\"},{\"default\":0,\"kind\":null,\"name\":\"clears\"}]},{\"extends\":null,\"module\":null,\"name\":\"NotificationAreaBase1\",\"overrides\":[],\"properties\":[{\"default\":\"bottom-right\",\"kind\":null,\"name\":\"position\"},{\"default\":0,\"kind\":null,\"name\":\"_clear\"}]},{\"extends\":null,\"module\":null,\"name\":\"NotificationArea1\",\"overrides\":[],\"properties\":[{\"default\":[],\"kind\":null,\"name\":\"notifications\"},{\"default\":\"bottom-right\",\"kind\":null,\"name\":\"position\"},{\"default\":0,\"kind\":null,\"name\":\"_clear\"},{\"default\":[{\"background\":\"#ffc107\",\"icon\":{\"className\":\"fas fa-exclamation-triangle\",\"color\":\"white\",\"tagName\":\"i\"},\"type\":\"warning\"},{\"background\":\"#007bff\",\"icon\":{\"className\":\"fas fa-info-circle\",\"color\":\"white\",\"tagName\":\"i\"},\"type\":\"info\"}],\"kind\":null,\"name\":\"types\"}]},{\"extends\":null,\"module\":null,\"name\":\"Notification\",\"overrides\":[],\"properties\":[{\"default\":null,\"kind\":null,\"name\":\"background\"},{\"default\":3000,\"kind\":null,\"name\":\"duration\"},{\"default\":null,\"kind\":null,\"name\":\"icon\"},{\"default\":\"\",\"kind\":null,\"name\":\"message\"},{\"default\":null,\"kind\":null,\"name\":\"notification_type\"},{\"default\":false,\"kind\":null,\"name\":\"_destroyed\"}]},{\"extends\":null,\"module\":null,\"name\":\"TemplateActions1\",\"overrides\":[],\"properties\":[{\"default\":0,\"kind\":null,\"name\":\"open_modal\"},{\"default\":0,\"kind\":null,\"name\":\"close_modal\"}]},{\"extends\":null,\"module\":null,\"name\":\"MaterialTemplateActions1\",\"overrides\":[],\"properties\":[{\"default\":0,\"kind\":null,\"name\":\"open_modal\"},{\"default\":0,\"kind\":null,\"name\":\"close_modal\"}]}],\"roots\":{\"references\":[{\"attributes\":{\"line_alpha\":0.2,\"line_color\":\"#e5ae38\",\"line_width\":2,\"x\":{\"field\":\"TimeDim\"},\"y\":{\"field\":\"NumericValue\"}},\"id\":\"14758\",\"type\":\"Line\"},{\"attributes\":{\"children\":[{\"id\":\"14664\"},{\"id\":\"14665\"},{\"id\":\"14666\"}],\"margin\":[0,0,0,0],\"name\":\"Column66045\"},\"id\":\"14663\",\"type\":\"Column\"},{\"attributes\":{\"line_alpha\":0.2,\"line_color\":\"#30a2da\",\"line_width\":2,\"x\":{\"field\":\"TimeDim\"},\"y\":{\"field\":\"NumericValue\"}},\"id\":\"14715\",\"type\":\"Line\"},{\"attributes\":{\"line_alpha\":0.1,\"line_color\":\"#e5ae38\",\"line_width\":2,\"x\":{\"field\":\"TimeDim\"},\"y\":{\"field\":\"NumericValue\"}},\"id\":\"14757\",\"type\":\"Line\"},{\"attributes\":{},\"id\":\"14711\",\"type\":\"Selection\"},{\"attributes\":{\"margin\":[5,5,5,5],\"name\":\"HSpacer66049\",\"sizing_mode\":\"stretch_width\"},\"id\":\"14667\",\"type\":\"Spacer\"},{\"attributes\":{\"data\":{\"NumericValue\":{\"__ndarray__\":\"AAAAAAAAM0CamZmZmRkzQDMzMzMzMzNAzczMzMxMM0BmZmZmZmYzQAAAAAAAgDNAmpmZmZmZM0AzMzMzM7MzQM3MzMzMzDNAZmZmZmbmM0AAAAAAAAA0QJqZmZmZGTRAMzMzMzMzNEDNzMzMzEw0QGZmZmZmZjRAAAAAAACANECamZmZmZk0QDMzMzMzszRAzczMzMzMNEBmZmZmZuY0QGZmZmZm5jRAAAAAAAAANUCamZmZmRk1QDMzMzMzMzVAzczMzMxMNUDNzMzMzEw1QGZmZmZmZjVAAAAAAACANUCamZmZmZk1QJqZmZmZmTVAMzMzMzOzNUDNzMzMzMw1QGZmZmZm5jVAZmZmZmbmNUAAAAAAAAA2QJqZmZmZGTZAmpmZmZkZNkAzMzMzMzM2QDMzMzMzMzZAzczMzMxMNkBmZmZmZmY2QGZmZmZmZjZA\",\"dtype\":\"float64\",\"order\":\"little\",\"shape\":[42]},\"SpatialDimensionValueCode\":[\"WB_LI\",\"WB_LI\",\"WB_LI\",\"WB_LI\",\"WB_LI\",\"WB_LI\",\"WB_LI\",\"WB_LI\",\"WB_LI\",\"WB_LI\",\"WB_LI\",\"WB_LI\",\"WB_LI\",\"WB_LI\",\"WB_LI\",\"WB_LI\",\"WB_LI\",\"WB_LI\",\"WB_LI\",\"WB_LI\",\"WB_LI\",\"WB_LI\",\"WB_LI\",\"WB_LI\",\"WB_LI\",\"WB_LI\",\"WB_LI\",\"WB_LI\",\"WB_LI\",\"WB_LI\",\"WB_LI\",\"WB_LI\",\"WB_LI\",\"WB_LI\",\"WB_LI\",\"WB_LI\",\"WB_LI\",\"WB_LI\",\"WB_LI\",\"WB_LI\",\"WB_LI\",\"WB_LI\"],\"TimeDim\":[1975,1976,1977,1978,1979,1980,1981,1982,1983,1984,1985,1986,1987,1988,1989,1990,1991,1992,1993,1994,1995,1996,1997,1998,1999,2000,2001,2002,2003,2004,2005,2006,2007,2008,2009,2010,2011,2012,2013,2014,2015,2016]},\"selected\":{\"id\":\"14732\"},\"selection_policy\":{\"id\":\"14748\"}},\"id\":\"14731\",\"type\":\"ColumnDataSource\"},{\"attributes\":{\"coordinates\":null,\"data_source\":{\"id\":\"14753\"},\"glyph\":{\"id\":\"14756\"},\"group\":null,\"hover_glyph\":null,\"muted_glyph\":{\"id\":\"14758\"},\"nonselection_glyph\":{\"id\":\"14757\"},\"selection_glyph\":{\"id\":\"14776\"},\"view\":{\"id\":\"14760\"}},\"id\":\"14759\",\"type\":\"GlyphRenderer\"},{\"attributes\":{\"source\":{\"id\":\"14710\"}},\"id\":\"14717\",\"type\":\"CDSView\"},{\"attributes\":{\"children\":[{\"id\":\"14661\"}],\"margin\":[0,0,0,0],\"name\":\"Row66057\"},\"id\":\"14660\",\"type\":\"Row\"},{\"attributes\":{\"line_alpha\":0.2,\"line_color\":\"#6d904f\",\"line_width\":2,\"x\":{\"field\":\"TimeDim\"},\"y\":{\"field\":\"NumericValue\"}},\"id\":\"14782\",\"type\":\"Line\"},{\"attributes\":{\"line_color\":\"#6d904f\",\"line_width\":2,\"x\":{\"field\":\"TimeDim\"},\"y\":{\"field\":\"NumericValue\"}},\"id\":\"14802\",\"type\":\"Line\"},{\"attributes\":{\"click_policy\":\"mute\",\"coordinates\":null,\"group\":null,\"items\":[{\"id\":\"14729\"},{\"id\":\"14751\"},{\"id\":\"14775\"},{\"id\":\"14801\"}],\"location\":[0,0],\"title\":\"SpatialDimensionValueCode\"},\"id\":\"14728\",\"type\":\"Legend\"},{\"attributes\":{\"line_color\":\"#e5ae38\",\"line_width\":2,\"x\":{\"field\":\"TimeDim\"},\"y\":{\"field\":\"NumericValue\"}},\"id\":\"14756\",\"type\":\"Line\"},{\"attributes\":{\"source\":{\"id\":\"14753\"}},\"id\":\"14760\",\"type\":\"CDSView\"},{\"attributes\":{\"end\":2016.0,\"reset_end\":2016.0,\"reset_start\":1975.0,\"start\":1975.0,\"tags\":[[[\"TimeDim\",\"TimeDim\",null]]]},\"id\":\"14668\",\"type\":\"Range1d\"},{\"attributes\":{\"label\":{\"value\":\"WB_LMI\"},\"renderers\":[{\"id\":\"14759\"}]},\"id\":\"14775\",\"type\":\"LegendItem\"},{\"attributes\":{\"label\":{\"value\":\"WB_UMI\"},\"renderers\":[{\"id\":\"14783\"}]},\"id\":\"14801\",\"type\":\"LegendItem\"},{\"attributes\":{},\"id\":\"14708\",\"type\":\"BasicTickFormatter\"},{\"attributes\":{\"end\":27.360000000000003,\"reset_end\":27.360000000000003,\"reset_start\":18.24,\"start\":18.24,\"tags\":[[[\"NumericValue\",\"NumericValue\",null]]]},\"id\":\"14669\",\"type\":\"Range1d\"},{\"attributes\":{},\"id\":\"14706\",\"type\":\"AllLabels\"},{\"attributes\":{},\"id\":\"14772\",\"type\":\"UnionRenderers\"},{\"attributes\":{\"active\":0,\"button_type\":\"success\",\"labels\":[\"NumericValue\",\"Low\",\"High\"],\"margin\":[5,10,5,10]},\"id\":\"14666\",\"type\":\"RadioButtonGroup\"},{\"attributes\":{},\"id\":\"14705\",\"type\":\"BasicTickFormatter\"},{\"attributes\":{\"line_alpha\":0.2,\"line_color\":\"#fc4f30\",\"line_width\":2,\"x\":{\"field\":\"TimeDim\"},\"y\":{\"field\":\"NumericValue\"}},\"id\":\"14736\",\"type\":\"Line\"},{\"attributes\":{\"callback\":null,\"renderers\":[{\"id\":\"14716\"},{\"id\":\"14737\"},{\"id\":\"14759\"},{\"id\":\"14783\"}],\"tags\":[\"hv_created\"],\"tooltips\":[[\"SpatialDimensionValueCode\",\"@{SpatialDimensionValueCode}\"],[\"TimeDim\",\"@{TimeDim}\"],[\"NumericValue\",\"@{NumericValue}\"]]},\"id\":\"14670\",\"type\":\"HoverTool\"},{\"attributes\":{},\"id\":\"14679\",\"type\":\"LinearScale\"},{\"attributes\":{\"end\":2016,\"margin\":[5,10,5,10],\"start\":1975,\"title\":\"Year slider\",\"value\":2016},\"id\":\"14664\",\"type\":\"Slider\"},{\"attributes\":{\"line_alpha\":0.1,\"line_color\":\"#fc4f30\",\"line_width\":2,\"x\":{\"field\":\"TimeDim\"},\"y\":{\"field\":\"NumericValue\"}},\"id\":\"14735\",\"type\":\"Line\"},{\"attributes\":{\"line_color\":\"#30a2da\",\"line_width\":2,\"x\":{\"field\":\"TimeDim\"},\"y\":{\"field\":\"NumericValue\"}},\"id\":\"14730\",\"type\":\"Line\"},{\"attributes\":{\"below\":[{\"id\":\"14683\"}],\"center\":[{\"id\":\"14686\"},{\"id\":\"14690\"}],\"height\":300,\"left\":[{\"id\":\"14687\"}],\"margin\":[5,5,5,5],\"min_border_bottom\":10,\"min_border_left\":10,\"min_border_right\":10,\"min_border_top\":10,\"renderers\":[{\"id\":\"14716\"},{\"id\":\"14737\"},{\"id\":\"14759\"},{\"id\":\"14783\"}],\"right\":[{\"id\":\"14728\"}],\"sizing_mode\":\"fixed\",\"title\":{\"id\":\"14675\"},\"toolbar\":{\"id\":\"14697\"},\"width\":700,\"x_range\":{\"id\":\"14668\"},\"x_scale\":{\"id\":\"14679\"},\"y_range\":{\"id\":\"14669\"},\"y_scale\":{\"id\":\"14681\"}},\"id\":\"14674\",\"subtype\":\"Figure\",\"type\":\"Plot\"},{\"attributes\":{\"data\":{\"NumericValue\":{\"__ndarray__\":\"MzMzMzMzNkAzMzMzMzM2QM3MzMzMTDZAzczMzMxMNkBmZmZmZmY2QAAAAAAAgDZAAAAAAACANkCamZmZmZk2QDMzMzMzszZAMzMzMzOzNkDNzMzMzMw2QGZmZmZm5jZAZmZmZmbmNkAAAAAAAAA3QAAAAAAAADdAmpmZmZkZN0CamZmZmRk3QDMzMzMzMzdAzczMzMxMN0DNzMzMzEw3QGZmZmZmZjdAZmZmZmZmN0AAAAAAAIA3QJqZmZmZmTdAmpmZmZmZN0AzMzMzM7M3QM3MzMzMzDdAzczMzMzMN0BmZmZmZuY3QAAAAAAAADhAmpmZmZkZOECamZmZmRk4QDMzMzMzMzhAzczMzMxMOEBmZmZmZmY4QAAAAAAAgDhAmpmZmZmZOEAzMzMzM7M4QM3MzMzMzDhAZmZmZmbmOEAAAAAAAAA5QJqZmZmZGTlA\",\"dtype\":\"float64\",\"order\":\"little\",\"shape\":[42]},\"SpatialDimensionValueCode\":[\"WB_UMI\",\"WB_UMI\",\"WB_UMI\",\"WB_UMI\",\"WB_UMI\",\"WB_UMI\",\"WB_UMI\",\"WB_UMI\",\"WB_UMI\",\"WB_UMI\",\"WB_UMI\",\"WB_UMI\",\"WB_UMI\",\"WB_UMI\",\"WB_UMI\",\"WB_UMI\",\"WB_UMI\",\"WB_UMI\",\"WB_UMI\",\"WB_UMI\",\"WB_UMI\",\"WB_UMI\",\"WB_UMI\",\"WB_UMI\",\"WB_UMI\",\"WB_UMI\",\"WB_UMI\",\"WB_UMI\",\"WB_UMI\",\"WB_UMI\",\"WB_UMI\",\"WB_UMI\",\"WB_UMI\",\"WB_UMI\",\"WB_UMI\",\"WB_UMI\",\"WB_UMI\",\"WB_UMI\",\"WB_UMI\",\"WB_UMI\",\"WB_UMI\",\"WB_UMI\"],\"TimeDim\":[1975,1976,1977,1978,1979,1980,1981,1982,1983,1984,1985,1986,1987,1988,1989,1990,1991,1992,1993,1994,1995,1996,1997,1998,1999,2000,2001,2002,2003,2004,2005,2006,2007,2008,2009,2010,2011,2012,2013,2014,2015,2016]},\"selected\":{\"id\":\"14778\"},\"selection_policy\":{\"id\":\"14798\"}},\"id\":\"14777\",\"type\":\"ColumnDataSource\"},{\"attributes\":{\"coordinates\":null,\"data_source\":{\"id\":\"14731\"},\"glyph\":{\"id\":\"14734\"},\"group\":null,\"hover_glyph\":null,\"muted_glyph\":{\"id\":\"14736\"},\"nonselection_glyph\":{\"id\":\"14735\"},\"selection_glyph\":{\"id\":\"14752\"},\"view\":{\"id\":\"14738\"}},\"id\":\"14737\",\"type\":\"GlyphRenderer\"},{\"attributes\":{\"coordinates\":null,\"group\":null,\"text\":\"Mean BMI of global population\",\"text_color\":\"black\",\"text_font_size\":\"12pt\"},\"id\":\"14675\",\"type\":\"Title\"},{\"attributes\":{},\"id\":\"14692\",\"type\":\"PanTool\"},{\"attributes\":{},\"id\":\"14778\",\"type\":\"Selection\"},{\"attributes\":{},\"id\":\"14732\",\"type\":\"Selection\"},{\"attributes\":{\"data\":{\"NumericValue\":{\"__ndarray__\":\"mpmZmZkZOECamZmZmRk4QDMzMzMzMzhAMzMzMzMzOEDNzMzMzEw4QM3MzMzMTDhAZmZmZmZmOEBmZmZmZmY4QAAAAAAAgDhAmpmZmZmZOECamZmZmZk4QDMzMzMzszhAzczMzMzMOEDNzMzMzMw4QGZmZmZm5jhAZmZmZmbmOEAAAAAAAAA5QJqZmZmZGTlAMzMzMzMzOUAzMzMzMzM5QM3MzMzMTDlAZmZmZmZmOUAAAAAAAIA5QJqZmZmZmTlAmpmZmZmZOUAzMzMzM7M5QM3MzMzMzDlAZmZmZmbmOUBmZmZmZuY5QAAAAAAAADpAmpmZmZkZOkCamZmZmRk6QDMzMzMzMzpAzczMzMxMOkDNzMzMzEw6QGZmZmZmZjpAZmZmZmZmOkAAAAAAAIA6QAAAAAAAgDpAmpmZmZmZOkCamZmZmZk6QJqZmZmZmTpA\",\"dtype\":\"float64\",\"order\":\"little\",\"shape\":[42]},\"SpatialDimensionValueCode\":[\"WB_HI\",\"WB_HI\",\"WB_HI\",\"WB_HI\",\"WB_HI\",\"WB_HI\",\"WB_HI\",\"WB_HI\",\"WB_HI\",\"WB_HI\",\"WB_HI\",\"WB_HI\",\"WB_HI\",\"WB_HI\",\"WB_HI\",\"WB_HI\",\"WB_HI\",\"WB_HI\",\"WB_HI\",\"WB_HI\",\"WB_HI\",\"WB_HI\",\"WB_HI\",\"WB_HI\",\"WB_HI\",\"WB_HI\",\"WB_HI\",\"WB_HI\",\"WB_HI\",\"WB_HI\",\"WB_HI\",\"WB_HI\",\"WB_HI\",\"WB_HI\",\"WB_HI\",\"WB_HI\",\"WB_HI\",\"WB_HI\",\"WB_HI\",\"WB_HI\",\"WB_HI\",\"WB_HI\"],\"TimeDim\":[1975,1976,1977,1978,1979,1980,1981,1982,1983,1984,1985,1986,1987,1988,1989,1990,1991,1992,1993,1994,1995,1996,1997,1998,1999,2000,2001,2002,2003,2004,2005,2006,2007,2008,2009,2010,2011,2012,2013,2014,2015,2016]},\"selected\":{\"id\":\"14711\"},\"selection_policy\":{\"id\":\"14725\"}},\"id\":\"14710\",\"type\":\"ColumnDataSource\"},{\"attributes\":{\"line_color\":\"#fc4f30\",\"line_width\":2,\"x\":{\"field\":\"TimeDim\"},\"y\":{\"field\":\"NumericValue\"}},\"id\":\"14734\",\"type\":\"Line\"},{\"attributes\":{\"axis\":{\"id\":\"14683\"},\"coordinates\":null,\"grid_line_color\":null,\"group\":null,\"ticker\":null},\"id\":\"14686\",\"type\":\"Grid\"},{\"attributes\":{\"coordinates\":null,\"data_source\":{\"id\":\"14777\"},\"glyph\":{\"id\":\"14780\"},\"group\":null,\"hover_glyph\":null,\"muted_glyph\":{\"id\":\"14782\"},\"nonselection_glyph\":{\"id\":\"14781\"},\"selection_glyph\":{\"id\":\"14802\"},\"view\":{\"id\":\"14784\"}},\"id\":\"14783\",\"type\":\"GlyphRenderer\"},{\"attributes\":{\"source\":{\"id\":\"14731\"}},\"id\":\"14738\",\"type\":\"CDSView\"},{\"attributes\":{\"axis_label\":\"TimeDim\",\"coordinates\":null,\"formatter\":{\"id\":\"14705\"},\"group\":null,\"major_label_policy\":{\"id\":\"14706\"},\"ticker\":{\"id\":\"14684\"}},\"id\":\"14683\",\"type\":\"LinearAxis\"},{\"attributes\":{},\"id\":\"14681\",\"type\":\"LinearScale\"},{\"attributes\":{\"label\":{\"value\":\"WB_LI\"},\"renderers\":[{\"id\":\"14737\"}]},\"id\":\"14751\",\"type\":\"LegendItem\"},{\"attributes\":{},\"id\":\"14684\",\"type\":\"BasicTicker\"},{\"attributes\":{},\"id\":\"14754\",\"type\":\"Selection\"},{\"attributes\":{\"line_color\":\"#e5ae38\",\"line_width\":2,\"x\":{\"field\":\"TimeDim\"},\"y\":{\"field\":\"NumericValue\"}},\"id\":\"14776\",\"type\":\"Line\"},{\"attributes\":{\"axis_label\":\"NumericValue\",\"coordinates\":null,\"formatter\":{\"id\":\"14708\"},\"group\":null,\"major_label_policy\":{\"id\":\"14709\"},\"ticker\":{\"id\":\"14688\"}},\"id\":\"14687\",\"type\":\"LinearAxis\"},{\"attributes\":{\"axis\":{\"id\":\"14687\"},\"coordinates\":null,\"dimension\":1,\"grid_line_color\":null,\"group\":null,\"ticker\":null},\"id\":\"14690\",\"type\":\"Grid\"},{\"attributes\":{},\"id\":\"14688\",\"type\":\"BasicTicker\"},{\"attributes\":{},\"id\":\"14709\",\"type\":\"AllLabels\"},{\"attributes\":{},\"id\":\"14748\",\"type\":\"UnionRenderers\"},{\"attributes\":{\"margin\":[5,10,5,10],\"options\":[\"BTSX\",\"FMLE\",\"MLE\"],\"title\":\"DisaggregatingDimension1ValueCode\",\"value\":\"BTSX\"},\"id\":\"14665\",\"type\":\"panel.models.widgets.CustomSelect\"},{\"attributes\":{},\"id\":\"14693\",\"type\":\"WheelZoomTool\"},{\"attributes\":{\"line_color\":\"#6d904f\",\"line_width\":2,\"x\":{\"field\":\"TimeDim\"},\"y\":{\"field\":\"NumericValue\"}},\"id\":\"14780\",\"type\":\"Line\"},{\"attributes\":{},\"id\":\"14691\",\"type\":\"SaveTool\"},{\"attributes\":{\"overlay\":{\"id\":\"14696\"}},\"id\":\"14694\",\"type\":\"BoxZoomTool\"},{\"attributes\":{},\"id\":\"14695\",\"type\":\"ResetTool\"},{\"attributes\":{\"bottom_units\":\"screen\",\"coordinates\":null,\"fill_alpha\":0.5,\"fill_color\":\"lightgrey\",\"group\":null,\"left_units\":\"screen\",\"level\":\"overlay\",\"line_alpha\":1.0,\"line_color\":\"black\",\"line_dash\":[4,4],\"line_width\":2,\"right_units\":\"screen\",\"syncable\":false,\"top_units\":\"screen\"},\"id\":\"14696\",\"type\":\"BoxAnnotation\"},{\"attributes\":{\"children\":[{\"id\":\"14663\"},{\"id\":\"14667\"}],\"margin\":[0,0,0,0],\"name\":\"Row66050\"},\"id\":\"14662\",\"type\":\"Row\"},{\"attributes\":{\"source\":{\"id\":\"14777\"}},\"id\":\"14784\",\"type\":\"CDSView\"},{\"attributes\":{\"line_alpha\":0.1,\"line_color\":\"#6d904f\",\"line_width\":2,\"x\":{\"field\":\"TimeDim\"},\"y\":{\"field\":\"NumericValue\"}},\"id\":\"14781\",\"type\":\"Line\"},{\"attributes\":{\"active_drag\":{\"id\":\"14692\"},\"active_scroll\":{\"id\":\"14693\"},\"tools\":[{\"id\":\"14670\"},{\"id\":\"14691\"},{\"id\":\"14692\"},{\"id\":\"14693\"},{\"id\":\"14694\"},{\"id\":\"14695\"}]},\"id\":\"14697\",\"type\":\"Toolbar\"},{\"attributes\":{},\"id\":\"14798\",\"type\":\"UnionRenderers\"},{\"attributes\":{\"children\":[{\"id\":\"14662\"},{\"id\":\"14674\"}],\"margin\":[0,0,0,0],\"name\":\"Column66056\"},\"id\":\"14661\",\"type\":\"Column\"},{\"attributes\":{\"line_alpha\":0.1,\"line_color\":\"#30a2da\",\"line_width\":2,\"x\":{\"field\":\"TimeDim\"},\"y\":{\"field\":\"NumericValue\"}},\"id\":\"14714\",\"type\":\"Line\"},{\"attributes\":{\"coordinates\":null,\"data_source\":{\"id\":\"14710\"},\"glyph\":{\"id\":\"14713\"},\"group\":null,\"hover_glyph\":null,\"muted_glyph\":{\"id\":\"14715\"},\"nonselection_glyph\":{\"id\":\"14714\"},\"selection_glyph\":{\"id\":\"14730\"},\"view\":{\"id\":\"14717\"}},\"id\":\"14716\",\"type\":\"GlyphRenderer\"},{\"attributes\":{\"line_color\":\"#30a2da\",\"line_width\":2,\"x\":{\"field\":\"TimeDim\"},\"y\":{\"field\":\"NumericValue\"}},\"id\":\"14713\",\"type\":\"Line\"},{\"attributes\":{},\"id\":\"14725\",\"type\":\"UnionRenderers\"},{\"attributes\":{\"label\":{\"value\":\"WB_HI\"},\"renderers\":[{\"id\":\"14716\"}]},\"id\":\"14729\",\"type\":\"LegendItem\"},{\"attributes\":{\"client_comm_id\":\"7b178c85c6b9468c85744351d610a2fe\",\"comm_id\":\"d336b0cc2c484181b2bb67ce842d2d7e\",\"plot_id\":\"14660\"},\"id\":\"14871\",\"type\":\"panel.models.comm_manager.CommManager\"},{\"attributes\":{\"line_color\":\"#fc4f30\",\"line_width\":2,\"x\":{\"field\":\"TimeDim\"},\"y\":{\"field\":\"NumericValue\"}},\"id\":\"14752\",\"type\":\"Line\"},{\"attributes\":{\"data\":{\"NumericValue\":{\"__ndarray__\":\"mpmZmZmZM0AzMzMzM7MzQM3MzMzMzDNAZmZmZmbmM0AAAAAAAAA0QJqZmZmZGTRAMzMzMzMzNEAzMzMzMzM0QM3MzMzMTDRAZmZmZmZmNEAAAAAAAIA0QJqZmZmZmTRAMzMzMzOzNEDNzMzMzMw0QGZmZmZm5jRAAAAAAAAANUAAAAAAAAA1QJqZmZmZGTVAMzMzMzMzNUDNzMzMzEw1QM3MzMzMTDVAZmZmZmZmNUAAAAAAAIA1QJqZmZmZmTVAmpmZmZmZNUAzMzMzM7M1QM3MzMzMzDVAZmZmZmbmNUAAAAAAAAA2QAAAAAAAADZAmpmZmZkZNkAzMzMzMzM2QM3MzMzMTDZAzczMzMxMNkBmZmZmZmY2QAAAAAAAgDZAmpmZmZmZNkAzMzMzM7M2QDMzMzMzszZAzczMzMzMNkBmZmZmZuY2QAAAAAAAADdA\",\"dtype\":\"float64\",\"order\":\"little\",\"shape\":[42]},\"SpatialDimensionValueCode\":[\"WB_LMI\",\"WB_LMI\",\"WB_LMI\",\"WB_LMI\",\"WB_LMI\",\"WB_LMI\",\"WB_LMI\",\"WB_LMI\",\"WB_LMI\",\"WB_LMI\",\"WB_LMI\",\"WB_LMI\",\"WB_LMI\",\"WB_LMI\",\"WB_LMI\",\"WB_LMI\",\"WB_LMI\",\"WB_LMI\",\"WB_LMI\",\"WB_LMI\",\"WB_LMI\",\"WB_LMI\",\"WB_LMI\",\"WB_LMI\",\"WB_LMI\",\"WB_LMI\",\"WB_LMI\",\"WB_LMI\",\"WB_LMI\",\"WB_LMI\",\"WB_LMI\",\"WB_LMI\",\"WB_LMI\",\"WB_LMI\",\"WB_LMI\",\"WB_LMI\",\"WB_LMI\",\"WB_LMI\",\"WB_LMI\",\"WB_LMI\",\"WB_LMI\",\"WB_LMI\"],\"TimeDim\":[1975,1976,1977,1978,1979,1980,1981,1982,1983,1984,1985,1986,1987,1988,1989,1990,1991,1992,1993,1994,1995,1996,1997,1998,1999,2000,2001,2002,2003,2004,2005,2006,2007,2008,2009,2010,2011,2012,2013,2014,2015,2016]},\"selected\":{\"id\":\"14754\"},\"selection_policy\":{\"id\":\"14772\"}},\"id\":\"14753\",\"type\":\"ColumnDataSource\"}],\"root_ids\":[\"14660\",\"14871\"]},\"title\":\"Bokeh Application\",\"version\":\"2.4.3\"}};\n",
       "    var render_items = [{\"docid\":\"0a2f515d-62eb-47d0-b1a0-ff53d4a7308c\",\"root_ids\":[\"14660\"],\"roots\":{\"14660\":\"2b878183-c196-4652-896c-432ddc898fe3\"}}];\n",
       "    root.Bokeh.embed.embed_items_notebook(docs_json, render_items);\n",
       "    for (const render_item of render_items) {\n",
       "      for (const root_id of render_item.root_ids) {\n",
       "\tconst id_el = document.getElementById(root_id)\n",
       "\tif (id_el.children.length && (id_el.children[0].className === 'bk-root')) {\n",
       "\t  const root_el = id_el.children[0]\n",
       "\t  root_el.id = root_el.id + '-rendered'\n",
       "\t}\n",
       "      }\n",
       "    }\n",
       "  }\n",
       "  if (root.Bokeh !== undefined && root.Bokeh.Panel !== undefined && ( root['Tabulator'] !== undefined) && ( root['Tabulator'] !== undefined)) {\n",
       "    embed_document(root);\n",
       "  } else {\n",
       "    var attempts = 0;\n",
       "    var timer = setInterval(function(root) {\n",
       "      if (root.Bokeh !== undefined && root.Bokeh.Panel !== undefined && (root['Tabulator'] !== undefined) && (root['Tabulator'] !== undefined)) {\n",
       "        clearInterval(timer);\n",
       "        embed_document(root);\n",
       "      } else if (document.readyState == \"complete\") {\n",
       "        attempts++;\n",
       "        if (attempts > 200) {\n",
       "          clearInterval(timer);\n",
       "          console.log(\"Bokeh: ERROR: Unable to run BokehJS code because BokehJS library is missing\");\n",
       "        }\n",
       "      }\n",
       "    }, 25, root)\n",
       "  }\n",
       "})(window);</script>"
      ],
      "text/plain": [
       "<hvplot.interactive.Interactive at 0x7fde5c4f9160>"
      ]
     },
     "execution_count": 77,
     "metadata": {
      "application/vnd.holoviews_exec.v0+json": {
       "id": "14660"
      }
     },
     "output_type": "execute_result"
    }
   ],
   "source": [
    "# Creating a chart using the data pipeline\n",
    "bmi_all_plot = bmi_all_pipeline.hvplot(x = 'TimeDim', \n",
    "                                       by = 'SpatialDimensionValueCode', \n",
    "                                       y = yaxis_prevalence, \n",
    "                                       line_width = 2, \n",
    "                                       title = 'Mean BMI of global population')\n",
    "bmi_all_plot"
   ]
  },
  {
   "cell_type": "code",
   "execution_count": 78,
   "id": "ee15ff8a-266a-4c60-923d-b23d29e6844b",
   "metadata": {
    "tags": []
   },
   "outputs": [],
   "source": [
    "# Connecting the widgets to the over_adult (overweight adults) pipeline\n",
    "income_group = ['WB_HI', 'WB_LI', 'WB_LMI', 'WB_UMI']\n",
    "\n",
    "bmi_over_adult_pipeline = (\n",
    "    idf_over_adult[\n",
    "        (idf.TimeDim <= year_slider) & \n",
    "        (idf.DisaggregatingDimension1ValueCode == sex_menu) & \n",
    "        (idf.SpatialDimensionValueCode.isin(income_group))\n",
    "    ]\n",
    "    .groupby(['SpatialDimensionValueCode', 'TimeDim'])[yaxis_prevalence].mean()\n",
    "    .to_frame()\n",
    "    .reset_index()\n",
    "    .sort_values(by = 'TimeDim')\n",
    "    .reset_index(drop = True)\n",
    ")"
   ]
  },
  {
   "cell_type": "code",
   "execution_count": 52,
   "id": "b0b7ade2-102c-4a62-8a35-c74e10846b60",
   "metadata": {
    "collapsed": true,
    "jupyter": {
     "outputs_hidden": true
    },
    "tags": []
   },
   "outputs": [
    {
     "data": {},
     "metadata": {},
     "output_type": "display_data"
    },
    {
     "data": {
      "application/vnd.holoviews_exec.v0+json": "",
      "text/html": [
       "<div id='13192'>\n",
       "  <div class=\"bk-root\" id=\"e81dcc4e-3de7-4d5b-adae-ab9e0c9434db\" data-root-id=\"13192\"></div>\n",
       "</div>\n",
       "<script type=\"application/javascript\">(function(root) {\n",
       "  function embed_document(root) {\n",
       "    var docs_json = {\"be1232a4-c750-4dd1-982c-5e2e3913db02\":{\"defs\":[{\"extends\":null,\"module\":null,\"name\":\"ReactiveHTML1\",\"overrides\":[],\"properties\":[]},{\"extends\":null,\"module\":null,\"name\":\"FlexBox1\",\"overrides\":[],\"properties\":[{\"default\":\"flex-start\",\"kind\":null,\"name\":\"align_content\"},{\"default\":\"flex-start\",\"kind\":null,\"name\":\"align_items\"},{\"default\":\"row\",\"kind\":null,\"name\":\"flex_direction\"},{\"default\":\"wrap\",\"kind\":null,\"name\":\"flex_wrap\"},{\"default\":\"flex-start\",\"kind\":null,\"name\":\"justify_content\"}]},{\"extends\":null,\"module\":null,\"name\":\"GridStack1\",\"overrides\":[],\"properties\":[{\"default\":\"warn\",\"kind\":null,\"name\":\"mode\"},{\"default\":null,\"kind\":null,\"name\":\"ncols\"},{\"default\":null,\"kind\":null,\"name\":\"nrows\"},{\"default\":true,\"kind\":null,\"name\":\"allow_resize\"},{\"default\":true,\"kind\":null,\"name\":\"allow_drag\"},{\"default\":[],\"kind\":null,\"name\":\"state\"}]},{\"extends\":null,\"module\":null,\"name\":\"click1\",\"overrides\":[],\"properties\":[{\"default\":\"\",\"kind\":null,\"name\":\"terminal_output\"},{\"default\":\"\",\"kind\":null,\"name\":\"debug_name\"},{\"default\":0,\"kind\":null,\"name\":\"clears\"}]},{\"extends\":null,\"module\":null,\"name\":\"NotificationAreaBase1\",\"overrides\":[],\"properties\":[{\"default\":\"bottom-right\",\"kind\":null,\"name\":\"position\"},{\"default\":0,\"kind\":null,\"name\":\"_clear\"}]},{\"extends\":null,\"module\":null,\"name\":\"NotificationArea1\",\"overrides\":[],\"properties\":[{\"default\":[],\"kind\":null,\"name\":\"notifications\"},{\"default\":\"bottom-right\",\"kind\":null,\"name\":\"position\"},{\"default\":0,\"kind\":null,\"name\":\"_clear\"},{\"default\":[{\"background\":\"#ffc107\",\"icon\":{\"className\":\"fas fa-exclamation-triangle\",\"color\":\"white\",\"tagName\":\"i\"},\"type\":\"warning\"},{\"background\":\"#007bff\",\"icon\":{\"className\":\"fas fa-info-circle\",\"color\":\"white\",\"tagName\":\"i\"},\"type\":\"info\"}],\"kind\":null,\"name\":\"types\"}]},{\"extends\":null,\"module\":null,\"name\":\"Notification\",\"overrides\":[],\"properties\":[{\"default\":null,\"kind\":null,\"name\":\"background\"},{\"default\":3000,\"kind\":null,\"name\":\"duration\"},{\"default\":null,\"kind\":null,\"name\":\"icon\"},{\"default\":\"\",\"kind\":null,\"name\":\"message\"},{\"default\":null,\"kind\":null,\"name\":\"notification_type\"},{\"default\":false,\"kind\":null,\"name\":\"_destroyed\"}]},{\"extends\":null,\"module\":null,\"name\":\"TemplateActions1\",\"overrides\":[],\"properties\":[{\"default\":0,\"kind\":null,\"name\":\"open_modal\"},{\"default\":0,\"kind\":null,\"name\":\"close_modal\"}]},{\"extends\":null,\"module\":null,\"name\":\"MaterialTemplateActions1\",\"overrides\":[],\"properties\":[{\"default\":0,\"kind\":null,\"name\":\"open_modal\"},{\"default\":0,\"kind\":null,\"name\":\"close_modal\"}]}],\"roots\":{\"references\":[{\"attributes\":{\"end\":2016,\"margin\":[5,10,5,10],\"start\":1975,\"title\":\"Year slider\",\"value\":2014},\"id\":\"13196\",\"type\":\"Slider\"},{\"attributes\":{\"children\":[{\"id\":\"13196\"},{\"id\":\"13197\"}],\"margin\":[0,0,0,0],\"name\":\"Column59578\"},\"id\":\"13195\",\"type\":\"Column\"},{\"attributes\":{\"children\":[{\"id\":\"13200\"}],\"margin\":[0,0,0,0],\"name\":\"Row59583\"},\"id\":\"13199\",\"type\":\"Row\"},{\"attributes\":{\"children\":[{\"id\":\"13195\"},{\"id\":\"13198\"}],\"margin\":[0,0,0,0],\"name\":\"Row59587\"},\"id\":\"13194\",\"type\":\"Row\"},{\"attributes\":{\"children\":[{\"id\":\"13193\"}],\"margin\":[0,0,0,0],\"name\":\"Row59589\"},\"id\":\"13192\",\"type\":\"Row\"},{\"attributes\":{\"client_comm_id\":\"9684db39073d4bdbb5d5685e08549c5d\",\"comm_id\":\"91bc6f5ab44d4f8d8853a57373b00007\",\"plot_id\":\"13192\"},\"id\":\"13201\",\"type\":\"panel.models.comm_manager.CommManager\"},{\"attributes\":{\"children\":[{\"id\":\"13194\"},{\"id\":\"13199\"}],\"margin\":[0,0,0,0],\"name\":\"Column59588\"},\"id\":\"13193\",\"type\":\"Column\"},{\"attributes\":{\"active\":0,\"button_type\":\"success\",\"labels\":[\"NumericValue\",\"Low\",\"High\"],\"margin\":[5,10,5,10]},\"id\":\"13197\",\"type\":\"RadioButtonGroup\"},{\"attributes\":{\"margin\":[5,5,5,5],\"name\":\"DataFrame59584\",\"text\":\"&lt;table class=&quot;dataframe panel-df&quot;&gt;\\n  &lt;thead&gt;\\n    &lt;tr style=&quot;text-align: right;&quot;&gt;\\n      &lt;th&gt;&lt;/th&gt;\\n      &lt;th&gt;SpatialDimensionValueCode&lt;/th&gt;\\n      &lt;th&gt;TimeDim&lt;/th&gt;\\n      &lt;th&gt;NumericValue&lt;/th&gt;\\n    &lt;/tr&gt;\\n  &lt;/thead&gt;\\n  &lt;tbody&gt;\\n    &lt;tr&gt;\\n      &lt;th&gt;0&lt;/th&gt;\\n      &lt;td&gt;WB_HI&lt;/td&gt;\\n      &lt;td&gt;1975&lt;/td&gt;\\n      &lt;td&gt;8.500000&lt;/td&gt;\\n    &lt;/tr&gt;\\n    &lt;tr&gt;\\n      &lt;th&gt;1&lt;/th&gt;\\n      &lt;td&gt;WB_LI&lt;/td&gt;\\n      &lt;td&gt;1975&lt;/td&gt;\\n      &lt;td&gt;0.900000&lt;/td&gt;\\n    &lt;/tr&gt;\\n    &lt;tr&gt;\\n      &lt;th&gt;2&lt;/th&gt;\\n      &lt;td&gt;WB_UMI&lt;/td&gt;\\n      &lt;td&gt;1975&lt;/td&gt;\\n      &lt;td&gt;4.266667&lt;/td&gt;\\n    &lt;/tr&gt;\\n    &lt;tr&gt;\\n      &lt;th&gt;3&lt;/th&gt;\\n      &lt;td&gt;WB_LMI&lt;/td&gt;\\n      &lt;td&gt;1975&lt;/td&gt;\\n      &lt;td&gt;1.900000&lt;/td&gt;\\n    &lt;/tr&gt;\\n    &lt;tr&gt;\\n      &lt;th&gt;4&lt;/th&gt;\\n      &lt;td&gt;WB_HI&lt;/td&gt;\\n      &lt;td&gt;1976&lt;/td&gt;\\n      &lt;td&gt;8.733333&lt;/td&gt;\\n    &lt;/tr&gt;\\n    &lt;tr&gt;\\n      &lt;th&gt;5&lt;/th&gt;\\n      &lt;td&gt;WB_LI&lt;/td&gt;\\n      &lt;td&gt;1976&lt;/td&gt;\\n      &lt;td&gt;0.966667&lt;/td&gt;\\n    &lt;/tr&gt;\\n    &lt;tr&gt;\\n      &lt;th&gt;6&lt;/th&gt;\\n      &lt;td&gt;WB_LMI&lt;/td&gt;\\n      &lt;td&gt;1976&lt;/td&gt;\\n      &lt;td&gt;2.000000&lt;/td&gt;\\n    &lt;/tr&gt;\\n    &lt;tr&gt;\\n      &lt;th&gt;7&lt;/th&gt;\\n      &lt;td&gt;WB_UMI&lt;/td&gt;\\n      &lt;td&gt;1976&lt;/td&gt;\\n      &lt;td&gt;4.400000&lt;/td&gt;\\n    &lt;/tr&gt;\\n    &lt;tr&gt;\\n      &lt;th&gt;8&lt;/th&gt;\\n      &lt;td&gt;WB_LMI&lt;/td&gt;\\n      &lt;td&gt;1977&lt;/td&gt;\\n      &lt;td&gt;2.000000&lt;/td&gt;\\n    &lt;/tr&gt;\\n    &lt;tr&gt;\\n      &lt;th&gt;9&lt;/th&gt;\\n      &lt;td&gt;WB_LI&lt;/td&gt;\\n      &lt;td&gt;1977&lt;/td&gt;\\n      &lt;td&gt;1.033333&lt;/td&gt;\\n    &lt;/tr&gt;\\n    &lt;tr&gt;\\n      &lt;th&gt;10&lt;/th&gt;\\n      &lt;td&gt;WB_HI&lt;/td&gt;\\n      &lt;td&gt;1977&lt;/td&gt;\\n      &lt;td&gt;9.000000&lt;/td&gt;\\n    &lt;/tr&gt;\\n    &lt;tr&gt;\\n      &lt;th&gt;11&lt;/th&gt;\\n      &lt;td&gt;WB_UMI&lt;/td&gt;\\n      &lt;td&gt;1977&lt;/td&gt;\\n      &lt;td&gt;4.533333&lt;/td&gt;\\n    &lt;/tr&gt;\\n    &lt;tr&gt;\\n      &lt;th&gt;12&lt;/th&gt;\\n      &lt;td&gt;WB_LMI&lt;/td&gt;\\n      &lt;td&gt;1978&lt;/td&gt;\\n      &lt;td&gt;2.100000&lt;/td&gt;\\n    &lt;/tr&gt;\\n    &lt;tr&gt;\\n      &lt;th&gt;13&lt;/th&gt;\\n      &lt;td&gt;WB_LI&lt;/td&gt;\\n      &lt;td&gt;1978&lt;/td&gt;\\n      &lt;td&gt;1.066667&lt;/td&gt;\\n    &lt;/tr&gt;\\n    &lt;tr&gt;\\n      &lt;th&gt;14&lt;/th&gt;\\n      &lt;td&gt;WB_HI&lt;/td&gt;\\n      &lt;td&gt;1978&lt;/td&gt;\\n      &lt;td&gt;9.233333&lt;/td&gt;\\n    &lt;/tr&gt;\\n    &lt;tr&gt;\\n      &lt;th&gt;15&lt;/th&gt;\\n      &lt;td&gt;WB_UMI&lt;/td&gt;\\n      &lt;td&gt;1978&lt;/td&gt;\\n      &lt;td&gt;4.633333&lt;/td&gt;\\n    &lt;/tr&gt;\\n    &lt;tr&gt;\\n      &lt;th&gt;16&lt;/th&gt;\\n      &lt;td&gt;WB_LMI&lt;/td&gt;\\n      &lt;td&gt;1979&lt;/td&gt;\\n      &lt;td&gt;2.166667&lt;/td&gt;\\n    &lt;/tr&gt;\\n    &lt;tr&gt;\\n      &lt;th&gt;17&lt;/th&gt;\\n      &lt;td&gt;WB_LI&lt;/td&gt;\\n      &lt;td&gt;1979&lt;/td&gt;\\n      &lt;td&gt;1.133333&lt;/td&gt;\\n    &lt;/tr&gt;\\n    &lt;tr&gt;\\n      &lt;th&gt;18&lt;/th&gt;\\n      &lt;td&gt;WB_UMI&lt;/td&gt;\\n      &lt;td&gt;1979&lt;/td&gt;\\n      &lt;td&gt;4.766667&lt;/td&gt;\\n    &lt;/tr&gt;\\n    &lt;tr&gt;\\n      &lt;th&gt;19&lt;/th&gt;\\n      &lt;td&gt;WB_HI&lt;/td&gt;\\n      &lt;td&gt;1979&lt;/td&gt;\\n      &lt;td&gt;9.500000&lt;/td&gt;\\n    &lt;/tr&gt;\\n    &lt;tr&gt;\\n      &lt;th&gt;20&lt;/th&gt;\\n      &lt;td&gt;WB_HI&lt;/td&gt;\\n      &lt;td&gt;1980&lt;/td&gt;\\n      &lt;td&gt;9.733333&lt;/td&gt;\\n    &lt;/tr&gt;\\n    &lt;tr&gt;\\n      &lt;th&gt;21&lt;/th&gt;\\n      &lt;td&gt;WB_LMI&lt;/td&gt;\\n      &lt;td&gt;1980&lt;/td&gt;\\n      &lt;td&gt;2.200000&lt;/td&gt;\\n    &lt;/tr&gt;\\n    &lt;tr&gt;\\n      &lt;th&gt;22&lt;/th&gt;\\n      &lt;td&gt;WB_UMI&lt;/td&gt;\\n      &lt;td&gt;1980&lt;/td&gt;\\n      &lt;td&gt;4.933333&lt;/td&gt;\\n    &lt;/tr&gt;\\n    &lt;tr&gt;\\n      &lt;th&gt;23&lt;/th&gt;\\n      &lt;td&gt;WB_LI&lt;/td&gt;\\n      &lt;td&gt;1980&lt;/td&gt;\\n      &lt;td&gt;1.166667&lt;/td&gt;\\n    &lt;/tr&gt;\\n    &lt;tr&gt;\\n      &lt;th&gt;24&lt;/th&gt;\\n      &lt;td&gt;WB_LI&lt;/td&gt;\\n      &lt;td&gt;1981&lt;/td&gt;\\n      &lt;td&gt;1.266667&lt;/td&gt;\\n    &lt;/tr&gt;\\n    &lt;tr&gt;\\n      &lt;th&gt;25&lt;/th&gt;\\n      &lt;td&gt;WB_LMI&lt;/td&gt;\\n      &lt;td&gt;1981&lt;/td&gt;\\n      &lt;td&gt;2.300000&lt;/td&gt;\\n    &lt;/tr&gt;\\n    &lt;tr&gt;\\n      &lt;th&gt;26&lt;/th&gt;\\n      &lt;td&gt;WB_UMI&lt;/td&gt;\\n      &lt;td&gt;1981&lt;/td&gt;\\n      &lt;td&gt;5.033333&lt;/td&gt;\\n    &lt;/tr&gt;\\n    &lt;tr&gt;\\n      &lt;th&gt;27&lt;/th&gt;\\n      &lt;td&gt;WB_HI&lt;/td&gt;\\n      &lt;td&gt;1981&lt;/td&gt;\\n      &lt;td&gt;10.033333&lt;/td&gt;\\n    &lt;/tr&gt;\\n    &lt;tr&gt;\\n      &lt;th&gt;28&lt;/th&gt;\\n      &lt;td&gt;WB_HI&lt;/td&gt;\\n      &lt;td&gt;1982&lt;/td&gt;\\n      &lt;td&gt;10.300000&lt;/td&gt;\\n    &lt;/tr&gt;\\n    &lt;tr&gt;\\n      &lt;th&gt;29&lt;/th&gt;\\n      &lt;td&gt;WB_LI&lt;/td&gt;\\n      &lt;td&gt;1982&lt;/td&gt;\\n      &lt;td&gt;1.333333&lt;/td&gt;\\n    &lt;/tr&gt;\\n    &lt;tr&gt;\\n      &lt;th&gt;30&lt;/th&gt;\\n      &lt;td&gt;WB_LMI&lt;/td&gt;\\n      &lt;td&gt;1982&lt;/td&gt;\\n      &lt;td&gt;2.366667&lt;/td&gt;\\n    &lt;/tr&gt;\\n    &lt;tr&gt;\\n      &lt;th&gt;31&lt;/th&gt;\\n      &lt;td&gt;WB_UMI&lt;/td&gt;\\n      &lt;td&gt;1982&lt;/td&gt;\\n      &lt;td&gt;5.166667&lt;/td&gt;\\n    &lt;/tr&gt;\\n    &lt;tr&gt;\\n      &lt;th&gt;32&lt;/th&gt;\\n      &lt;td&gt;WB_LMI&lt;/td&gt;\\n      &lt;td&gt;1983&lt;/td&gt;\\n      &lt;td&gt;2.433333&lt;/td&gt;\\n    &lt;/tr&gt;\\n    &lt;tr&gt;\\n      &lt;th&gt;33&lt;/th&gt;\\n      &lt;td&gt;WB_UMI&lt;/td&gt;\\n      &lt;td&gt;1983&lt;/td&gt;\\n      &lt;td&gt;5.333333&lt;/td&gt;\\n    &lt;/tr&gt;\\n    &lt;tr&gt;\\n      &lt;th&gt;34&lt;/th&gt;\\n      &lt;td&gt;WB_HI&lt;/td&gt;\\n      &lt;td&gt;1983&lt;/td&gt;\\n      &lt;td&gt;10.600000&lt;/td&gt;\\n    &lt;/tr&gt;\\n    &lt;tr&gt;\\n      &lt;th&gt;35&lt;/th&gt;\\n      &lt;td&gt;WB_LI&lt;/td&gt;\\n      &lt;td&gt;1983&lt;/td&gt;\\n      &lt;td&gt;1.400000&lt;/td&gt;\\n    &lt;/tr&gt;\\n    &lt;tr&gt;\\n      &lt;th&gt;36&lt;/th&gt;\\n      &lt;td&gt;WB_LMI&lt;/td&gt;\\n      &lt;td&gt;1984&lt;/td&gt;\\n      &lt;td&gt;2.533333&lt;/td&gt;\\n    &lt;/tr&gt;\\n    &lt;tr&gt;\\n      &lt;th&gt;37&lt;/th&gt;\\n      &lt;td&gt;WB_LI&lt;/td&gt;\\n      &lt;td&gt;1984&lt;/td&gt;\\n      &lt;td&gt;1.500000&lt;/td&gt;\\n    &lt;/tr&gt;\\n    &lt;tr&gt;\\n      &lt;th&gt;38&lt;/th&gt;\\n      &lt;td&gt;WB_UMI&lt;/td&gt;\\n      &lt;td&gt;1984&lt;/td&gt;\\n      &lt;td&gt;5.466667&lt;/td&gt;\\n    &lt;/tr&gt;\\n    &lt;tr&gt;\\n      &lt;th&gt;39&lt;/th&gt;\\n      &lt;td&gt;WB_HI&lt;/td&gt;\\n      &lt;td&gt;1984&lt;/td&gt;\\n      &lt;td&gt;10.900000&lt;/td&gt;\\n    &lt;/tr&gt;\\n    &lt;tr&gt;\\n      &lt;th&gt;40&lt;/th&gt;\\n      &lt;td&gt;WB_LMI&lt;/td&gt;\\n      &lt;td&gt;1985&lt;/td&gt;\\n      &lt;td&gt;2.600000&lt;/td&gt;\\n    &lt;/tr&gt;\\n    &lt;tr&gt;\\n      &lt;th&gt;41&lt;/th&gt;\\n      &lt;td&gt;WB_LI&lt;/td&gt;\\n      &lt;td&gt;1985&lt;/td&gt;\\n      &lt;td&gt;1.566667&lt;/td&gt;\\n    &lt;/tr&gt;\\n    &lt;tr&gt;\\n      &lt;th&gt;42&lt;/th&gt;\\n      &lt;td&gt;WB_UMI&lt;/td&gt;\\n      &lt;td&gt;1985&lt;/td&gt;\\n      &lt;td&gt;5.633333&lt;/td&gt;\\n    &lt;/tr&gt;\\n    &lt;tr&gt;\\n      &lt;th&gt;43&lt;/th&gt;\\n      &lt;td&gt;WB_HI&lt;/td&gt;\\n      &lt;td&gt;1985&lt;/td&gt;\\n      &lt;td&gt;11.200000&lt;/td&gt;\\n    &lt;/tr&gt;\\n    &lt;tr&gt;\\n      &lt;th&gt;44&lt;/th&gt;\\n      &lt;td&gt;WB_LMI&lt;/td&gt;\\n      &lt;td&gt;1986&lt;/td&gt;\\n      &lt;td&gt;2.700000&lt;/td&gt;\\n    &lt;/tr&gt;\\n    &lt;tr&gt;\\n      &lt;th&gt;45&lt;/th&gt;\\n      &lt;td&gt;WB_LI&lt;/td&gt;\\n      &lt;td&gt;1986&lt;/td&gt;\\n      &lt;td&gt;1.633333&lt;/td&gt;\\n    &lt;/tr&gt;\\n    &lt;tr&gt;\\n      &lt;th&gt;46&lt;/th&gt;\\n      &lt;td&gt;WB_HI&lt;/td&gt;\\n      &lt;td&gt;1986&lt;/td&gt;\\n      &lt;td&gt;11.500000&lt;/td&gt;\\n    &lt;/tr&gt;\\n    &lt;tr&gt;\\n      &lt;th&gt;47&lt;/th&gt;\\n      &lt;td&gt;WB_UMI&lt;/td&gt;\\n      &lt;td&gt;1986&lt;/td&gt;\\n      &lt;td&gt;5.766667&lt;/td&gt;\\n    &lt;/tr&gt;\\n    &lt;tr&gt;\\n      &lt;th&gt;48&lt;/th&gt;\\n      &lt;td&gt;WB_HI&lt;/td&gt;\\n      &lt;td&gt;1987&lt;/td&gt;\\n      &lt;td&gt;11.833333&lt;/td&gt;\\n    &lt;/tr&gt;\\n    &lt;tr&gt;\\n      &lt;th&gt;49&lt;/th&gt;\\n      &lt;td&gt;WB_UMI&lt;/td&gt;\\n      &lt;td&gt;1987&lt;/td&gt;\\n      &lt;td&gt;5.933333&lt;/td&gt;\\n    &lt;/tr&gt;\\n    &lt;tr&gt;\\n      &lt;th&gt;...&lt;/th&gt;\\n      &lt;td&gt;...&lt;/td&gt;\\n      &lt;td&gt;...&lt;/td&gt;\\n      &lt;td&gt;...&lt;/td&gt;\\n    &lt;/tr&gt;\\n    &lt;tr&gt;\\n      &lt;th&gt;110&lt;/th&gt;\\n      &lt;td&gt;WB_LMI&lt;/td&gt;\\n      &lt;td&gt;2002&lt;/td&gt;\\n      &lt;td&gt;4.466667&lt;/td&gt;\\n    &lt;/tr&gt;\\n    &lt;tr&gt;\\n      &lt;th&gt;111&lt;/th&gt;\\n      &lt;td&gt;WB_UMI&lt;/td&gt;\\n      &lt;td&gt;2002&lt;/td&gt;\\n      &lt;td&gt;8.966667&lt;/td&gt;\\n    &lt;/tr&gt;\\n    &lt;tr&gt;\\n      &lt;th&gt;112&lt;/th&gt;\\n      &lt;td&gt;WB_HI&lt;/td&gt;\\n      &lt;td&gt;2003&lt;/td&gt;\\n      &lt;td&gt;18.266667&lt;/td&gt;\\n    &lt;/tr&gt;\\n    &lt;tr&gt;\\n      &lt;th&gt;113&lt;/th&gt;\\n      &lt;td&gt;WB_LMI&lt;/td&gt;\\n      &lt;td&gt;2003&lt;/td&gt;\\n      &lt;td&gt;4.600000&lt;/td&gt;\\n    &lt;/tr&gt;\\n    &lt;tr&gt;\\n      &lt;th&gt;114&lt;/th&gt;\\n      &lt;td&gt;WB_UMI&lt;/td&gt;\\n      &lt;td&gt;2003&lt;/td&gt;\\n      &lt;td&gt;9.166667&lt;/td&gt;\\n    &lt;/tr&gt;\\n    &lt;tr&gt;\\n      &lt;th&gt;115&lt;/th&gt;\\n      &lt;td&gt;WB_LI&lt;/td&gt;\\n      &lt;td&gt;2003&lt;/td&gt;\\n      &lt;td&gt;3.833333&lt;/td&gt;\\n    &lt;/tr&gt;\\n    &lt;tr&gt;\\n      &lt;th&gt;116&lt;/th&gt;\\n      &lt;td&gt;WB_LI&lt;/td&gt;\\n      &lt;td&gt;2004&lt;/td&gt;\\n      &lt;td&gt;3.966667&lt;/td&gt;\\n    &lt;/tr&gt;\\n    &lt;tr&gt;\\n      &lt;th&gt;117&lt;/th&gt;\\n      &lt;td&gt;WB_LMI&lt;/td&gt;\\n      &lt;td&gt;2004&lt;/td&gt;\\n      &lt;td&gt;4.800000&lt;/td&gt;\\n    &lt;/tr&gt;\\n    &lt;tr&gt;\\n      &lt;th&gt;118&lt;/th&gt;\\n      &lt;td&gt;WB_UMI&lt;/td&gt;\\n      &lt;td&gt;2004&lt;/td&gt;\\n      &lt;td&gt;9.466667&lt;/td&gt;\\n    &lt;/tr&gt;\\n    &lt;tr&gt;\\n      &lt;th&gt;119&lt;/th&gt;\\n      &lt;td&gt;WB_HI&lt;/td&gt;\\n      &lt;td&gt;2004&lt;/td&gt;\\n      &lt;td&gt;18.766667&lt;/td&gt;\\n    &lt;/tr&gt;\\n    &lt;tr&gt;\\n      &lt;th&gt;120&lt;/th&gt;\\n      &lt;td&gt;WB_LI&lt;/td&gt;\\n      &lt;td&gt;2005&lt;/td&gt;\\n      &lt;td&gt;4.133333&lt;/td&gt;\\n    &lt;/tr&gt;\\n    &lt;tr&gt;\\n      &lt;th&gt;121&lt;/th&gt;\\n      &lt;td&gt;WB_UMI&lt;/td&gt;\\n      &lt;td&gt;2005&lt;/td&gt;\\n      &lt;td&gt;9.766667&lt;/td&gt;\\n    &lt;/tr&gt;\\n    &lt;tr&gt;\\n      &lt;th&gt;122&lt;/th&gt;\\n      &lt;td&gt;WB_HI&lt;/td&gt;\\n      &lt;td&gt;2005&lt;/td&gt;\\n      &lt;td&gt;19.200000&lt;/td&gt;\\n    &lt;/tr&gt;\\n    &lt;tr&gt;\\n      &lt;th&gt;123&lt;/th&gt;\\n      &lt;td&gt;WB_LMI&lt;/td&gt;\\n      &lt;td&gt;2005&lt;/td&gt;\\n      &lt;td&gt;4.966667&lt;/td&gt;\\n    &lt;/tr&gt;\\n    &lt;tr&gt;\\n      &lt;th&gt;124&lt;/th&gt;\\n      &lt;td&gt;WB_HI&lt;/td&gt;\\n      &lt;td&gt;2006&lt;/td&gt;\\n      &lt;td&gt;19.666667&lt;/td&gt;\\n    &lt;/tr&gt;\\n    &lt;tr&gt;\\n      &lt;th&gt;125&lt;/th&gt;\\n      &lt;td&gt;WB_UMI&lt;/td&gt;\\n      &lt;td&gt;2006&lt;/td&gt;\\n      &lt;td&gt;10.066667&lt;/td&gt;\\n    &lt;/tr&gt;\\n    &lt;tr&gt;\\n      &lt;th&gt;126&lt;/th&gt;\\n      &lt;td&gt;WB_LI&lt;/td&gt;\\n      &lt;td&gt;2006&lt;/td&gt;\\n      &lt;td&gt;4.333333&lt;/td&gt;\\n    &lt;/tr&gt;\\n    &lt;tr&gt;\\n      &lt;th&gt;127&lt;/th&gt;\\n      &lt;td&gt;WB_LMI&lt;/td&gt;\\n      &lt;td&gt;2006&lt;/td&gt;\\n      &lt;td&gt;5.166667&lt;/td&gt;\\n    &lt;/tr&gt;\\n    &lt;tr&gt;\\n      &lt;th&gt;128&lt;/th&gt;\\n      &lt;td&gt;WB_HI&lt;/td&gt;\\n      &lt;td&gt;2007&lt;/td&gt;\\n      &lt;td&gt;20.133333&lt;/td&gt;\\n    &lt;/tr&gt;\\n    &lt;tr&gt;\\n      &lt;th&gt;129&lt;/th&gt;\\n      &lt;td&gt;WB_LMI&lt;/td&gt;\\n      &lt;td&gt;2007&lt;/td&gt;\\n      &lt;td&gt;5.366667&lt;/td&gt;\\n    &lt;/tr&gt;\\n    &lt;tr&gt;\\n      &lt;th&gt;130&lt;/th&gt;\\n      &lt;td&gt;WB_UMI&lt;/td&gt;\\n      &lt;td&gt;2007&lt;/td&gt;\\n      &lt;td&gt;10.366667&lt;/td&gt;\\n    &lt;/tr&gt;\\n    &lt;tr&gt;\\n      &lt;th&gt;131&lt;/th&gt;\\n      &lt;td&gt;WB_LI&lt;/td&gt;\\n      &lt;td&gt;2007&lt;/td&gt;\\n      &lt;td&gt;4.533333&lt;/td&gt;\\n    &lt;/tr&gt;\\n    &lt;tr&gt;\\n      &lt;th&gt;132&lt;/th&gt;\\n      &lt;td&gt;WB_LI&lt;/td&gt;\\n      &lt;td&gt;2008&lt;/td&gt;\\n      &lt;td&gt;4.733333&lt;/td&gt;\\n    &lt;/tr&gt;\\n    &lt;tr&gt;\\n      &lt;th&gt;133&lt;/th&gt;\\n      &lt;td&gt;WB_HI&lt;/td&gt;\\n      &lt;td&gt;2008&lt;/td&gt;\\n      &lt;td&gt;20.600000&lt;/td&gt;\\n    &lt;/tr&gt;\\n    &lt;tr&gt;\\n      &lt;th&gt;134&lt;/th&gt;\\n      &lt;td&gt;WB_UMI&lt;/td&gt;\\n      &lt;td&gt;2008&lt;/td&gt;\\n      &lt;td&gt;10.666667&lt;/td&gt;\\n    &lt;/tr&gt;\\n    &lt;tr&gt;\\n      &lt;th&gt;135&lt;/th&gt;\\n      &lt;td&gt;WB_LMI&lt;/td&gt;\\n      &lt;td&gt;2008&lt;/td&gt;\\n      &lt;td&gt;5.566667&lt;/td&gt;\\n    &lt;/tr&gt;\\n    &lt;tr&gt;\\n      &lt;th&gt;136&lt;/th&gt;\\n      &lt;td&gt;WB_UMI&lt;/td&gt;\\n      &lt;td&gt;2009&lt;/td&gt;\\n      &lt;td&gt;11.033333&lt;/td&gt;\\n    &lt;/tr&gt;\\n    &lt;tr&gt;\\n      &lt;th&gt;137&lt;/th&gt;\\n      &lt;td&gt;WB_LI&lt;/td&gt;\\n      &lt;td&gt;2009&lt;/td&gt;\\n      &lt;td&gt;4.966667&lt;/td&gt;\\n    &lt;/tr&gt;\\n    &lt;tr&gt;\\n      &lt;th&gt;138&lt;/th&gt;\\n      &lt;td&gt;WB_HI&lt;/td&gt;\\n      &lt;td&gt;2009&lt;/td&gt;\\n      &lt;td&gt;21.100000&lt;/td&gt;\\n    &lt;/tr&gt;\\n    &lt;tr&gt;\\n      &lt;th&gt;139&lt;/th&gt;\\n      &lt;td&gt;WB_LMI&lt;/td&gt;\\n      &lt;td&gt;2009&lt;/td&gt;\\n      &lt;td&gt;5.800000&lt;/td&gt;\\n    &lt;/tr&gt;\\n    &lt;tr&gt;\\n      &lt;th&gt;140&lt;/th&gt;\\n      &lt;td&gt;WB_UMI&lt;/td&gt;\\n      &lt;td&gt;2010&lt;/td&gt;\\n      &lt;td&gt;11.400000&lt;/td&gt;\\n    &lt;/tr&gt;\\n    &lt;tr&gt;\\n      &lt;th&gt;141&lt;/th&gt;\\n      &lt;td&gt;WB_LMI&lt;/td&gt;\\n      &lt;td&gt;2010&lt;/td&gt;\\n      &lt;td&gt;5.966667&lt;/td&gt;\\n    &lt;/tr&gt;\\n    &lt;tr&gt;\\n      &lt;th&gt;142&lt;/th&gt;\\n      &lt;td&gt;WB_LI&lt;/td&gt;\\n      &lt;td&gt;2010&lt;/td&gt;\\n      &lt;td&gt;5.166667&lt;/td&gt;\\n    &lt;/tr&gt;\\n    &lt;tr&gt;\\n      &lt;th&gt;143&lt;/th&gt;\\n      &lt;td&gt;WB_HI&lt;/td&gt;\\n      &lt;td&gt;2010&lt;/td&gt;\\n      &lt;td&gt;21.566667&lt;/td&gt;\\n    &lt;/tr&gt;\\n    &lt;tr&gt;\\n      &lt;th&gt;144&lt;/th&gt;\\n      &lt;td&gt;WB_LMI&lt;/td&gt;\\n      &lt;td&gt;2011&lt;/td&gt;\\n      &lt;td&gt;6.200000&lt;/td&gt;\\n    &lt;/tr&gt;\\n    &lt;tr&gt;\\n      &lt;th&gt;145&lt;/th&gt;\\n      &lt;td&gt;WB_LI&lt;/td&gt;\\n      &lt;td&gt;2011&lt;/td&gt;\\n      &lt;td&gt;5.400000&lt;/td&gt;\\n    &lt;/tr&gt;\\n    &lt;tr&gt;\\n      &lt;th&gt;146&lt;/th&gt;\\n      &lt;td&gt;WB_HI&lt;/td&gt;\\n      &lt;td&gt;2011&lt;/td&gt;\\n      &lt;td&gt;22.066667&lt;/td&gt;\\n    &lt;/tr&gt;\\n    &lt;tr&gt;\\n      &lt;th&gt;147&lt;/th&gt;\\n      &lt;td&gt;WB_UMI&lt;/td&gt;\\n      &lt;td&gt;2011&lt;/td&gt;\\n      &lt;td&gt;11.733333&lt;/td&gt;\\n    &lt;/tr&gt;\\n    &lt;tr&gt;\\n      &lt;th&gt;148&lt;/th&gt;\\n      &lt;td&gt;WB_LMI&lt;/td&gt;\\n      &lt;td&gt;2012&lt;/td&gt;\\n      &lt;td&gt;6.466667&lt;/td&gt;\\n    &lt;/tr&gt;\\n    &lt;tr&gt;\\n      &lt;th&gt;149&lt;/th&gt;\\n      &lt;td&gt;WB_UMI&lt;/td&gt;\\n      &lt;td&gt;2012&lt;/td&gt;\\n      &lt;td&gt;12.133333&lt;/td&gt;\\n    &lt;/tr&gt;\\n    &lt;tr&gt;\\n      &lt;th&gt;150&lt;/th&gt;\\n      &lt;td&gt;WB_HI&lt;/td&gt;\\n      &lt;td&gt;2012&lt;/td&gt;\\n      &lt;td&gt;22.566667&lt;/td&gt;\\n    &lt;/tr&gt;\\n    &lt;tr&gt;\\n      &lt;th&gt;151&lt;/th&gt;\\n      &lt;td&gt;WB_LI&lt;/td&gt;\\n      &lt;td&gt;2012&lt;/td&gt;\\n      &lt;td&gt;5.666667&lt;/td&gt;\\n    &lt;/tr&gt;\\n    &lt;tr&gt;\\n      &lt;th&gt;152&lt;/th&gt;\\n      &lt;td&gt;WB_LMI&lt;/td&gt;\\n      &lt;td&gt;2013&lt;/td&gt;\\n      &lt;td&gt;6.733333&lt;/td&gt;\\n    &lt;/tr&gt;\\n    &lt;tr&gt;\\n      &lt;th&gt;153&lt;/th&gt;\\n      &lt;td&gt;WB_UMI&lt;/td&gt;\\n      &lt;td&gt;2013&lt;/td&gt;\\n      &lt;td&gt;12.533333&lt;/td&gt;\\n    &lt;/tr&gt;\\n    &lt;tr&gt;\\n      &lt;th&gt;154&lt;/th&gt;\\n      &lt;td&gt;WB_LI&lt;/td&gt;\\n      &lt;td&gt;2013&lt;/td&gt;\\n      &lt;td&gt;5.900000&lt;/td&gt;\\n    &lt;/tr&gt;\\n    &lt;tr&gt;\\n      &lt;th&gt;155&lt;/th&gt;\\n      &lt;td&gt;WB_HI&lt;/td&gt;\\n      &lt;td&gt;2013&lt;/td&gt;\\n      &lt;td&gt;23.066667&lt;/td&gt;\\n    &lt;/tr&gt;\\n    &lt;tr&gt;\\n      &lt;th&gt;156&lt;/th&gt;\\n      &lt;td&gt;WB_LI&lt;/td&gt;\\n      &lt;td&gt;2014&lt;/td&gt;\\n      &lt;td&gt;6.200000&lt;/td&gt;\\n    &lt;/tr&gt;\\n    &lt;tr&gt;\\n      &lt;th&gt;157&lt;/th&gt;\\n      &lt;td&gt;WB_HI&lt;/td&gt;\\n      &lt;td&gt;2014&lt;/td&gt;\\n      &lt;td&gt;23.566667&lt;/td&gt;\\n    &lt;/tr&gt;\\n    &lt;tr&gt;\\n      &lt;th&gt;158&lt;/th&gt;\\n      &lt;td&gt;WB_LMI&lt;/td&gt;\\n      &lt;td&gt;2014&lt;/td&gt;\\n      &lt;td&gt;7.000000&lt;/td&gt;\\n    &lt;/tr&gt;\\n    &lt;tr&gt;\\n      &lt;th&gt;159&lt;/th&gt;\\n      &lt;td&gt;WB_UMI&lt;/td&gt;\\n      &lt;td&gt;2014&lt;/td&gt;\\n      &lt;td&gt;12.933333&lt;/td&gt;\\n    &lt;/tr&gt;\\n  &lt;/tbody&gt;\\n&lt;/table&gt;\"},\"id\":\"13200\",\"type\":\"panel.models.markup.HTML\"},{\"attributes\":{\"margin\":[5,5,5,5],\"name\":\"HSpacer59586\",\"sizing_mode\":\"stretch_width\"},\"id\":\"13198\",\"type\":\"Spacer\"}],\"root_ids\":[\"13192\",\"13201\"]},\"title\":\"Bokeh Application\",\"version\":\"2.4.3\"}};\n",
       "    var render_items = [{\"docid\":\"be1232a4-c750-4dd1-982c-5e2e3913db02\",\"root_ids\":[\"13192\"],\"roots\":{\"13192\":\"e81dcc4e-3de7-4d5b-adae-ab9e0c9434db\"}}];\n",
       "    root.Bokeh.embed.embed_items_notebook(docs_json, render_items);\n",
       "    for (const render_item of render_items) {\n",
       "      for (const root_id of render_item.root_ids) {\n",
       "\tconst id_el = document.getElementById(root_id)\n",
       "\tif (id_el.children.length && (id_el.children[0].className === 'bk-root')) {\n",
       "\t  const root_el = id_el.children[0]\n",
       "\t  root_el.id = root_el.id + '-rendered'\n",
       "\t}\n",
       "      }\n",
       "    }\n",
       "  }\n",
       "  if (root.Bokeh !== undefined && root.Bokeh.Panel !== undefined && ( root['Tabulator'] !== undefined) && ( root['Tabulator'] !== undefined)) {\n",
       "    embed_document(root);\n",
       "  } else {\n",
       "    var attempts = 0;\n",
       "    var timer = setInterval(function(root) {\n",
       "      if (root.Bokeh !== undefined && root.Bokeh.Panel !== undefined && (root['Tabulator'] !== undefined) && (root['Tabulator'] !== undefined)) {\n",
       "        clearInterval(timer);\n",
       "        embed_document(root);\n",
       "      } else if (document.readyState == \"complete\") {\n",
       "        attempts++;\n",
       "        if (attempts > 200) {\n",
       "          clearInterval(timer);\n",
       "          console.log(\"Bokeh: ERROR: Unable to run BokehJS code because BokehJS library is missing\");\n",
       "        }\n",
       "      }\n",
       "    }, 25, root)\n",
       "  }\n",
       "})(window);</script>"
      ],
      "text/plain": [
       "<hvplot.interactive.Interactive at 0x7fde5ce79b80>"
      ]
     },
     "execution_count": 52,
     "metadata": {
      "application/vnd.holoviews_exec.v0+json": {
       "id": "13192"
      }
     },
     "output_type": "execute_result"
    }
   ],
   "source": [
    "bmi_over_adult_pipeline"
   ]
  },
  {
   "cell_type": "code",
   "execution_count": 83,
   "id": "01a06db8-c88e-44e6-9fb1-bef159d05b5e",
   "metadata": {
    "tags": []
   },
   "outputs": [
    {
     "data": {},
     "metadata": {},
     "output_type": "display_data"
    },
    {
     "data": {},
     "metadata": {},
     "output_type": "display_data"
    },
    {
     "data": {
      "application/vnd.holoviews_exec.v0+json": "",
      "text/html": [
       "<div id='16586'>\n",
       "  <div class=\"bk-root\" id=\"b1610400-b3dd-4a3a-9003-e8b08bc33162\" data-root-id=\"16586\"></div>\n",
       "</div>\n",
       "<script type=\"application/javascript\">(function(root) {\n",
       "  function embed_document(root) {\n",
       "    var docs_json = {\"5edc2eb4-576d-41c6-8544-38d19a816377\":{\"defs\":[{\"extends\":null,\"module\":null,\"name\":\"ReactiveHTML1\",\"overrides\":[],\"properties\":[]},{\"extends\":null,\"module\":null,\"name\":\"FlexBox1\",\"overrides\":[],\"properties\":[{\"default\":\"flex-start\",\"kind\":null,\"name\":\"align_content\"},{\"default\":\"flex-start\",\"kind\":null,\"name\":\"align_items\"},{\"default\":\"row\",\"kind\":null,\"name\":\"flex_direction\"},{\"default\":\"wrap\",\"kind\":null,\"name\":\"flex_wrap\"},{\"default\":\"flex-start\",\"kind\":null,\"name\":\"justify_content\"}]},{\"extends\":null,\"module\":null,\"name\":\"GridStack1\",\"overrides\":[],\"properties\":[{\"default\":\"warn\",\"kind\":null,\"name\":\"mode\"},{\"default\":null,\"kind\":null,\"name\":\"ncols\"},{\"default\":null,\"kind\":null,\"name\":\"nrows\"},{\"default\":true,\"kind\":null,\"name\":\"allow_resize\"},{\"default\":true,\"kind\":null,\"name\":\"allow_drag\"},{\"default\":[],\"kind\":null,\"name\":\"state\"}]},{\"extends\":null,\"module\":null,\"name\":\"click1\",\"overrides\":[],\"properties\":[{\"default\":\"\",\"kind\":null,\"name\":\"terminal_output\"},{\"default\":\"\",\"kind\":null,\"name\":\"debug_name\"},{\"default\":0,\"kind\":null,\"name\":\"clears\"}]},{\"extends\":null,\"module\":null,\"name\":\"NotificationAreaBase1\",\"overrides\":[],\"properties\":[{\"default\":\"bottom-right\",\"kind\":null,\"name\":\"position\"},{\"default\":0,\"kind\":null,\"name\":\"_clear\"}]},{\"extends\":null,\"module\":null,\"name\":\"NotificationArea1\",\"overrides\":[],\"properties\":[{\"default\":[],\"kind\":null,\"name\":\"notifications\"},{\"default\":\"bottom-right\",\"kind\":null,\"name\":\"position\"},{\"default\":0,\"kind\":null,\"name\":\"_clear\"},{\"default\":[{\"background\":\"#ffc107\",\"icon\":{\"className\":\"fas fa-exclamation-triangle\",\"color\":\"white\",\"tagName\":\"i\"},\"type\":\"warning\"},{\"background\":\"#007bff\",\"icon\":{\"className\":\"fas fa-info-circle\",\"color\":\"white\",\"tagName\":\"i\"},\"type\":\"info\"}],\"kind\":null,\"name\":\"types\"}]},{\"extends\":null,\"module\":null,\"name\":\"Notification\",\"overrides\":[],\"properties\":[{\"default\":null,\"kind\":null,\"name\":\"background\"},{\"default\":3000,\"kind\":null,\"name\":\"duration\"},{\"default\":null,\"kind\":null,\"name\":\"icon\"},{\"default\":\"\",\"kind\":null,\"name\":\"message\"},{\"default\":null,\"kind\":null,\"name\":\"notification_type\"},{\"default\":false,\"kind\":null,\"name\":\"_destroyed\"}]},{\"extends\":null,\"module\":null,\"name\":\"TemplateActions1\",\"overrides\":[],\"properties\":[{\"default\":0,\"kind\":null,\"name\":\"open_modal\"},{\"default\":0,\"kind\":null,\"name\":\"close_modal\"}]},{\"extends\":null,\"module\":null,\"name\":\"MaterialTemplateActions1\",\"overrides\":[],\"properties\":[{\"default\":0,\"kind\":null,\"name\":\"open_modal\"},{\"default\":0,\"kind\":null,\"name\":\"close_modal\"}]}],\"roots\":{\"references\":[{\"attributes\":{},\"id\":\"16698\",\"type\":\"UnionRenderers\"},{\"attributes\":{\"end\":2016.0,\"reset_end\":2016.0,\"reset_start\":1975.0,\"start\":1975.0,\"tags\":[[[\"TimeDim\",\"TimeDim\",null]]]},\"id\":\"16594\",\"type\":\"Range1d\"},{\"attributes\":{\"line_alpha\":0.1,\"line_color\":\"#30a2da\",\"line_width\":2,\"x\":{\"field\":\"TimeDim\"},\"y\":{\"field\":\"NumericValue\"}},\"id\":\"16640\",\"type\":\"Line\"},{\"attributes\":{\"coordinates\":null,\"data_source\":{\"id\":\"16636\"},\"glyph\":{\"id\":\"16639\"},\"group\":null,\"hover_glyph\":null,\"muted_glyph\":{\"id\":\"16641\"},\"nonselection_glyph\":{\"id\":\"16640\"},\"selection_glyph\":{\"id\":\"16656\"},\"view\":{\"id\":\"16643\"}},\"id\":\"16642\",\"type\":\"GlyphRenderer\"},{\"attributes\":{\"end\":27.02,\"reset_end\":27.02,\"reset_start\":-0.8199999999999998,\"start\":-0.8199999999999998,\"tags\":[[[\"NumericValue\",\"NumericValue\",null]]]},\"id\":\"16595\",\"type\":\"Range1d\"},{\"attributes\":{\"line_color\":\"#30a2da\",\"line_width\":2,\"x\":{\"field\":\"TimeDim\"},\"y\":{\"field\":\"NumericValue\"}},\"id\":\"16639\",\"type\":\"Line\"},{\"attributes\":{\"label\":{\"value\":\"WB_HI\"},\"renderers\":[{\"id\":\"16642\"}]},\"id\":\"16655\",\"type\":\"LegendItem\"},{\"attributes\":{\"line_alpha\":0.2,\"line_color\":\"#30a2da\",\"line_width\":2,\"x\":{\"field\":\"TimeDim\"},\"y\":{\"field\":\"NumericValue\"}},\"id\":\"16641\",\"type\":\"Line\"},{\"attributes\":{},\"id\":\"16637\",\"type\":\"Selection\"},{\"attributes\":{\"children\":[{\"id\":\"16588\"},{\"id\":\"16600\"}],\"margin\":[0,0,0,0],\"name\":\"Column70426\"},\"id\":\"16587\",\"type\":\"Column\"},{\"attributes\":{\"data\":{\"NumericValue\":{\"__ndarray__\":\"AAAAAAAACEDNzMzMzMwIQM3MzMzMzAhAmpmZmZmZCUBmZmZmZmYKQDMzMzMzMwtAAAAAAAAADEDNzMzMzMwMQJqZmZmZmQ1AZmZmZmZmDkAzMzMzMzMPQAAAAAAAABBAZmZmZmZmEEDNzMzMzMwQQDMzMzMzMxFAmpmZmZmZEUBmZmZmZmYSQM3MzMzMzBJAMzMzMzMzE0CamZmZmZkTQGZmZmZmZhRAzczMzMzMFECamZmZmZkVQAAAAAAAABZAzczMzMzMFkAzMzMzMzMXQAAAAAAAABhAzczMzMzMGECamZmZmZkZQGZmZmZmZhpAMzMzMzMzG0AAAAAAAAAcQDMzMzMzMx1AAAAAAAAAHkAzMzMzMzMfQAAAAAAAACBAmpmZmZmZIEAzMzMzMzMhQM3MzMzMzCFAZmZmZmZmIkAAAAAAAAAjQM3MzMzMzCNA\",\"dtype\":\"float64\",\"order\":\"little\",\"shape\":[42]},\"SpatialDimensionValueCode\":[\"WB_LMI\",\"WB_LMI\",\"WB_LMI\",\"WB_LMI\",\"WB_LMI\",\"WB_LMI\",\"WB_LMI\",\"WB_LMI\",\"WB_LMI\",\"WB_LMI\",\"WB_LMI\",\"WB_LMI\",\"WB_LMI\",\"WB_LMI\",\"WB_LMI\",\"WB_LMI\",\"WB_LMI\",\"WB_LMI\",\"WB_LMI\",\"WB_LMI\",\"WB_LMI\",\"WB_LMI\",\"WB_LMI\",\"WB_LMI\",\"WB_LMI\",\"WB_LMI\",\"WB_LMI\",\"WB_LMI\",\"WB_LMI\",\"WB_LMI\",\"WB_LMI\",\"WB_LMI\",\"WB_LMI\",\"WB_LMI\",\"WB_LMI\",\"WB_LMI\",\"WB_LMI\",\"WB_LMI\",\"WB_LMI\",\"WB_LMI\",\"WB_LMI\",\"WB_LMI\"],\"TimeDim\":[1975,1976,1977,1978,1979,1980,1981,1982,1983,1984,1985,1986,1987,1988,1989,1990,1991,1992,1993,1994,1995,1996,1997,1998,1999,2000,2001,2002,2003,2004,2005,2006,2007,2008,2009,2010,2011,2012,2013,2014,2015,2016]},\"selected\":{\"id\":\"16680\"},\"selection_policy\":{\"id\":\"16698\"}},\"id\":\"16679\",\"type\":\"ColumnDataSource\"},{\"attributes\":{\"callback\":null,\"renderers\":[{\"id\":\"16642\"},{\"id\":\"16663\"},{\"id\":\"16685\"},{\"id\":\"16709\"}],\"tags\":[\"hv_created\"],\"tooltips\":[[\"SpatialDimensionValueCode\",\"@{SpatialDimensionValueCode}\"],[\"TimeDim\",\"@{TimeDim}\"],[\"NumericValue\",\"@{NumericValue}\"]]},\"id\":\"16596\",\"type\":\"HoverTool\"},{\"attributes\":{},\"id\":\"16605\",\"type\":\"LinearScale\"},{\"attributes\":{\"source\":{\"id\":\"16636\"}},\"id\":\"16643\",\"type\":\"CDSView\"},{\"attributes\":{\"line_color\":\"#fc4f30\",\"line_width\":2,\"x\":{\"field\":\"TimeDim\"},\"y\":{\"field\":\"NumericValue\"}},\"id\":\"16660\",\"type\":\"Line\"},{\"attributes\":{\"source\":{\"id\":\"16657\"}},\"id\":\"16664\",\"type\":\"CDSView\"},{\"attributes\":{\"below\":[{\"id\":\"16609\"}],\"center\":[{\"id\":\"16612\"},{\"id\":\"16616\"}],\"height\":300,\"left\":[{\"id\":\"16613\"}],\"margin\":[5,5,5,5],\"min_border_bottom\":10,\"min_border_left\":10,\"min_border_right\":10,\"min_border_top\":10,\"renderers\":[{\"id\":\"16642\"},{\"id\":\"16663\"},{\"id\":\"16685\"},{\"id\":\"16709\"}],\"right\":[{\"id\":\"16654\"}],\"sizing_mode\":\"fixed\",\"title\":{\"id\":\"16601\"},\"toolbar\":{\"id\":\"16623\"},\"width\":800,\"x_range\":{\"id\":\"16594\"},\"x_scale\":{\"id\":\"16605\"},\"y_range\":{\"id\":\"16595\"},\"y_scale\":{\"id\":\"16607\"}},\"id\":\"16600\",\"subtype\":\"Figure\",\"type\":\"Plot\"},{\"attributes\":{},\"id\":\"16704\",\"type\":\"Selection\"},{\"attributes\":{\"click_policy\":\"mute\",\"coordinates\":null,\"group\":null,\"items\":[{\"id\":\"16655\"},{\"id\":\"16677\"},{\"id\":\"16701\"},{\"id\":\"16727\"}],\"location\":[0,0],\"title\":\"SpatialDimensionValueCode\"},\"id\":\"16654\",\"type\":\"Legend\"},{\"attributes\":{\"line_color\":\"#30a2da\",\"line_width\":2,\"x\":{\"field\":\"TimeDim\"},\"y\":{\"field\":\"NumericValue\"}},\"id\":\"16656\",\"type\":\"Line\"},{\"attributes\":{\"margin\":[5,5,5,5],\"name\":\"HSpacer70419\",\"sizing_mode\":\"stretch_width\"},\"id\":\"16593\",\"type\":\"Spacer\"},{\"attributes\":{\"line_alpha\":0.1,\"line_color\":\"#e5ae38\",\"line_width\":2,\"x\":{\"field\":\"TimeDim\"},\"y\":{\"field\":\"NumericValue\"}},\"id\":\"16683\",\"type\":\"Line\"},{\"attributes\":{\"coordinates\":null,\"data_source\":{\"id\":\"16657\"},\"glyph\":{\"id\":\"16660\"},\"group\":null,\"hover_glyph\":null,\"muted_glyph\":{\"id\":\"16662\"},\"nonselection_glyph\":{\"id\":\"16661\"},\"selection_glyph\":{\"id\":\"16678\"},\"view\":{\"id\":\"16664\"}},\"id\":\"16663\",\"type\":\"GlyphRenderer\"},{\"attributes\":{\"coordinates\":null,\"group\":null,\"text\":\"Age-standardised prevalence of overweight adults (BMI >30 kg/m2) by income groups\",\"text_color\":\"black\",\"text_font_size\":\"12pt\"},\"id\":\"16601\",\"type\":\"Title\"},{\"attributes\":{\"line_alpha\":0.2,\"line_color\":\"#e5ae38\",\"line_width\":2,\"x\":{\"field\":\"TimeDim\"},\"y\":{\"field\":\"NumericValue\"}},\"id\":\"16684\",\"type\":\"Line\"},{\"attributes\":{},\"id\":\"16618\",\"type\":\"PanTool\"},{\"attributes\":{\"label\":{\"value\":\"WB_LMI\"},\"renderers\":[{\"id\":\"16685\"}]},\"id\":\"16701\",\"type\":\"LegendItem\"},{\"attributes\":{\"line_alpha\":0.1,\"line_color\":\"#fc4f30\",\"line_width\":2,\"x\":{\"field\":\"TimeDim\"},\"y\":{\"field\":\"NumericValue\"}},\"id\":\"16661\",\"type\":\"Line\"},{\"attributes\":{\"axis\":{\"id\":\"16609\"},\"coordinates\":null,\"grid_line_color\":null,\"group\":null,\"ticker\":null},\"id\":\"16612\",\"type\":\"Grid\"},{\"attributes\":{\"line_color\":\"#e5ae38\",\"line_width\":2,\"x\":{\"field\":\"TimeDim\"},\"y\":{\"field\":\"NumericValue\"}},\"id\":\"16702\",\"type\":\"Line\"},{\"attributes\":{\"axis_label\":\"TimeDim\",\"coordinates\":null,\"formatter\":{\"id\":\"16631\"},\"group\":null,\"major_label_policy\":{\"id\":\"16632\"},\"ticker\":{\"id\":\"16610\"}},\"id\":\"16609\",\"type\":\"LinearAxis\"},{\"attributes\":{\"line_alpha\":0.2,\"line_color\":\"#fc4f30\",\"line_width\":2,\"x\":{\"field\":\"TimeDim\"},\"y\":{\"field\":\"NumericValue\"}},\"id\":\"16662\",\"type\":\"Line\"},{\"attributes\":{\"source\":{\"id\":\"16703\"}},\"id\":\"16710\",\"type\":\"CDSView\"},{\"attributes\":{},\"id\":\"16607\",\"type\":\"LinearScale\"},{\"attributes\":{},\"id\":\"16658\",\"type\":\"Selection\"},{\"attributes\":{\"label\":{\"value\":\"WB_LI\"},\"renderers\":[{\"id\":\"16663\"}]},\"id\":\"16677\",\"type\":\"LegendItem\"},{\"attributes\":{\"data\":{\"NumericValue\":{\"__ndarray__\":\"AAAAAAAAGkBmZmZmZmYaQDMzMzMzMxtAmpmZmZmZG0BmZmZmZmYcQDMzMzMzMx1AmpmZmZmZHUBmZmZmZmYeQDMzMzMzMx9AmpmZmZmZH0AzMzMzMzMgQJqZmZmZmSBAzczMzMzMIEAzMzMzMzMhQJqZmZmZmSFAAAAAAAAAIkBmZmZmZmYiQJqZmZmZmSJAAAAAAAAAI0BmZmZmZmYjQM3MzMzMzCNAMzMzMzMzJEDNzMzMzMwkQDMzMzMzMyVAmpmZmZmZJUAzMzMzMzMmQJqZmZmZmSZAMzMzMzMzJ0CamZmZmZknQDMzMzMzMyhAzczMzMzMKEBmZmZmZmYpQAAAAAAAACpAmpmZmZmZKkAzMzMzMzMrQAAAAAAAACxAmpmZmZmZLEBmZmZmZmYtQDMzMzMzMy5AzczMzMzMLkCamZmZmZkvQDMzMzMzMzBA\",\"dtype\":\"float64\",\"order\":\"little\",\"shape\":[42]},\"SpatialDimensionValueCode\":[\"WB_UMI\",\"WB_UMI\",\"WB_UMI\",\"WB_UMI\",\"WB_UMI\",\"WB_UMI\",\"WB_UMI\",\"WB_UMI\",\"WB_UMI\",\"WB_UMI\",\"WB_UMI\",\"WB_UMI\",\"WB_UMI\",\"WB_UMI\",\"WB_UMI\",\"WB_UMI\",\"WB_UMI\",\"WB_UMI\",\"WB_UMI\",\"WB_UMI\",\"WB_UMI\",\"WB_UMI\",\"WB_UMI\",\"WB_UMI\",\"WB_UMI\",\"WB_UMI\",\"WB_UMI\",\"WB_UMI\",\"WB_UMI\",\"WB_UMI\",\"WB_UMI\",\"WB_UMI\",\"WB_UMI\",\"WB_UMI\",\"WB_UMI\",\"WB_UMI\",\"WB_UMI\",\"WB_UMI\",\"WB_UMI\",\"WB_UMI\",\"WB_UMI\",\"WB_UMI\"],\"TimeDim\":[1975,1976,1977,1978,1979,1980,1981,1982,1983,1984,1985,1986,1987,1988,1989,1990,1991,1992,1993,1994,1995,1996,1997,1998,1999,2000,2001,2002,2003,2004,2005,2006,2007,2008,2009,2010,2011,2012,2013,2014,2015,2016]},\"selected\":{\"id\":\"16704\"},\"selection_policy\":{\"id\":\"16724\"}},\"id\":\"16703\",\"type\":\"ColumnDataSource\"},{\"attributes\":{},\"id\":\"16610\",\"type\":\"BasicTicker\"},{\"attributes\":{\"end\":2016,\"margin\":[5,10,5,10],\"start\":1975,\"title\":\"Year slider\",\"value\":2016},\"id\":\"16590\",\"type\":\"Slider\"},{\"attributes\":{},\"id\":\"16632\",\"type\":\"AllLabels\"},{\"attributes\":{\"children\":[{\"id\":\"16587\"}],\"margin\":[0,0,0,0],\"name\":\"Row70427\"},\"id\":\"16586\",\"type\":\"Row\"},{\"attributes\":{\"axis_label\":\"NumericValue\",\"coordinates\":null,\"formatter\":{\"id\":\"16634\"},\"group\":null,\"major_label_policy\":{\"id\":\"16635\"},\"ticker\":{\"id\":\"16614\"}},\"id\":\"16613\",\"type\":\"LinearAxis\"},{\"attributes\":{\"margin\":[5,10,5,10],\"options\":[\"BTSX\",\"FMLE\",\"MLE\"],\"title\":\"DisaggregatingDimension1ValueCode\",\"value\":\"FMLE\"},\"id\":\"16591\",\"type\":\"panel.models.widgets.CustomSelect\"},{\"attributes\":{\"axis\":{\"id\":\"16613\"},\"coordinates\":null,\"dimension\":1,\"grid_line_color\":null,\"group\":null,\"ticker\":null},\"id\":\"16616\",\"type\":\"Grid\"},{\"attributes\":{},\"id\":\"16674\",\"type\":\"UnionRenderers\"},{\"attributes\":{},\"id\":\"16614\",\"type\":\"BasicTicker\"},{\"attributes\":{\"line_alpha\":0.1,\"line_color\":\"#6d904f\",\"line_width\":2,\"x\":{\"field\":\"TimeDim\"},\"y\":{\"field\":\"NumericValue\"}},\"id\":\"16707\",\"type\":\"Line\"},{\"attributes\":{},\"id\":\"16619\",\"type\":\"WheelZoomTool\"},{\"attributes\":{\"client_comm_id\":\"892d40a65afb435f9ec4b1b61eae9733\",\"comm_id\":\"91089c3e1f0b437fae193ae716d49f45\",\"plot_id\":\"16586\"},\"id\":\"16797\",\"type\":\"panel.models.comm_manager.CommManager\"},{\"attributes\":{\"line_color\":\"#6d904f\",\"line_width\":2,\"x\":{\"field\":\"TimeDim\"},\"y\":{\"field\":\"NumericValue\"}},\"id\":\"16706\",\"type\":\"Line\"},{\"attributes\":{},\"id\":\"16617\",\"type\":\"SaveTool\"},{\"attributes\":{\"line_alpha\":0.2,\"line_color\":\"#6d904f\",\"line_width\":2,\"x\":{\"field\":\"TimeDim\"},\"y\":{\"field\":\"NumericValue\"}},\"id\":\"16708\",\"type\":\"Line\"},{\"attributes\":{\"overlay\":{\"id\":\"16622\"}},\"id\":\"16620\",\"type\":\"BoxZoomTool\"},{\"attributes\":{\"coordinates\":null,\"data_source\":{\"id\":\"16703\"},\"glyph\":{\"id\":\"16706\"},\"group\":null,\"hover_glyph\":null,\"muted_glyph\":{\"id\":\"16708\"},\"nonselection_glyph\":{\"id\":\"16707\"},\"selection_glyph\":{\"id\":\"16728\"},\"view\":{\"id\":\"16710\"}},\"id\":\"16709\",\"type\":\"GlyphRenderer\"},{\"attributes\":{},\"id\":\"16621\",\"type\":\"ResetTool\"},{\"attributes\":{\"active\":0,\"button_type\":\"success\",\"labels\":[\"NumericValue\",\"Low\",\"High\"],\"margin\":[5,10,5,10]},\"id\":\"16592\",\"type\":\"RadioButtonGroup\"},{\"attributes\":{\"label\":{\"value\":\"WB_UMI\"},\"renderers\":[{\"id\":\"16709\"}]},\"id\":\"16727\",\"type\":\"LegendItem\"},{\"attributes\":{\"bottom_units\":\"screen\",\"coordinates\":null,\"fill_alpha\":0.5,\"fill_color\":\"lightgrey\",\"group\":null,\"left_units\":\"screen\",\"level\":\"overlay\",\"line_alpha\":1.0,\"line_color\":\"black\",\"line_dash\":[4,4],\"line_width\":2,\"right_units\":\"screen\",\"syncable\":false,\"top_units\":\"screen\"},\"id\":\"16622\",\"type\":\"BoxAnnotation\"},{\"attributes\":{},\"id\":\"16651\",\"type\":\"UnionRenderers\"},{\"attributes\":{},\"id\":\"16724\",\"type\":\"UnionRenderers\"},{\"attributes\":{\"children\":[{\"id\":\"16589\"},{\"id\":\"16593\"}],\"margin\":[0,0,0,0],\"name\":\"Row70420\"},\"id\":\"16588\",\"type\":\"Row\"},{\"attributes\":{\"data\":{\"NumericValue\":{\"__ndarray__\":\"AAAAAAAA+D+amZmZmZn5PzMzMzMzM/s/MzMzMzMz+z/NzMzMzMz8P2ZmZmZmZv4/AAAAAAAAAEDNzMzMzMwAQGZmZmZmZgJAMzMzMzMzA0AAAAAAAAAEQM3MzMzMzARAZmZmZmZmBkAzMzMzMzMHQM3MzMzMzAhAmpmZmZmZCUAzMzMzMzMLQM3MzMzMzAxAmpmZmZmZDUAzMzMzMzMPQGZmZmZmZhBAMzMzMzMzEUAAAAAAAAASQM3MzMzMzBJAmpmZmZmZE0BmZmZmZmYUQDMzMzMzMxVAAAAAAAAAFkAzMzMzMzMXQAAAAAAAABhAzczMzMzMGEAAAAAAAAAaQDMzMzMzMxtAZmZmZmZmHECamZmZmZkdQM3MzMzMzB5AAAAAAAAAIEDNzMzMzMwgQGZmZmZmZiFAMzMzMzMzIkAAAAAAAAAjQM3MzMzMzCNA\",\"dtype\":\"float64\",\"order\":\"little\",\"shape\":[42]},\"SpatialDimensionValueCode\":[\"WB_LI\",\"WB_LI\",\"WB_LI\",\"WB_LI\",\"WB_LI\",\"WB_LI\",\"WB_LI\",\"WB_LI\",\"WB_LI\",\"WB_LI\",\"WB_LI\",\"WB_LI\",\"WB_LI\",\"WB_LI\",\"WB_LI\",\"WB_LI\",\"WB_LI\",\"WB_LI\",\"WB_LI\",\"WB_LI\",\"WB_LI\",\"WB_LI\",\"WB_LI\",\"WB_LI\",\"WB_LI\",\"WB_LI\",\"WB_LI\",\"WB_LI\",\"WB_LI\",\"WB_LI\",\"WB_LI\",\"WB_LI\",\"WB_LI\",\"WB_LI\",\"WB_LI\",\"WB_LI\",\"WB_LI\",\"WB_LI\",\"WB_LI\",\"WB_LI\",\"WB_LI\",\"WB_LI\"],\"TimeDim\":[1975,1976,1977,1978,1979,1980,1981,1982,1983,1984,1985,1986,1987,1988,1989,1990,1991,1992,1993,1994,1995,1996,1997,1998,1999,2000,2001,2002,2003,2004,2005,2006,2007,2008,2009,2010,2011,2012,2013,2014,2015,2016]},\"selected\":{\"id\":\"16658\"},\"selection_policy\":{\"id\":\"16674\"}},\"id\":\"16657\",\"type\":\"ColumnDataSource\"},{\"attributes\":{},\"id\":\"16634\",\"type\":\"BasicTickFormatter\"},{\"attributes\":{\"children\":[{\"id\":\"16590\"},{\"id\":\"16591\"},{\"id\":\"16592\"}],\"margin\":[0,0,0,0],\"name\":\"Column70415\"},\"id\":\"16589\",\"type\":\"Column\"},{\"attributes\":{},\"id\":\"16635\",\"type\":\"AllLabels\"},{\"attributes\":{\"active_drag\":{\"id\":\"16618\"},\"active_scroll\":{\"id\":\"16619\"},\"tools\":[{\"id\":\"16596\"},{\"id\":\"16617\"},{\"id\":\"16618\"},{\"id\":\"16619\"},{\"id\":\"16620\"},{\"id\":\"16621\"}]},\"id\":\"16623\",\"type\":\"Toolbar\"},{\"attributes\":{\"line_color\":\"#e5ae38\",\"line_width\":2,\"x\":{\"field\":\"TimeDim\"},\"y\":{\"field\":\"NumericValue\"}},\"id\":\"16682\",\"type\":\"Line\"},{\"attributes\":{\"line_color\":\"#fc4f30\",\"line_width\":2,\"x\":{\"field\":\"TimeDim\"},\"y\":{\"field\":\"NumericValue\"}},\"id\":\"16678\",\"type\":\"Line\"},{\"attributes\":{},\"id\":\"16631\",\"type\":\"BasicTickFormatter\"},{\"attributes\":{\"source\":{\"id\":\"16679\"}},\"id\":\"16686\",\"type\":\"CDSView\"},{\"attributes\":{\"data\":{\"NumericValue\":{\"__ndarray__\":\"AAAAAAAAJEBmZmZmZmYkQAAAAAAAACVAZmZmZmZmJUAAAAAAAAAmQGZmZmZmZiZAAAAAAAAAJ0BmZmZmZmYnQAAAAAAAAChAmpmZmZmZKEAzMzMzMzMpQM3MzMzMzClAZmZmZmZmKkAAAAAAAAArQJqZmZmZmStAZmZmZmZmLEAAAAAAAAAtQJqZmZmZmS1AZmZmZmZmLkAAAAAAAAAvQM3MzMzMzC9AzczMzMxMMEAzMzMzM7MwQJqZmZmZGTFAAAAAAACAMUBmZmZmZuYxQM3MzMzMTDJAMzMzMzOzMkCamZmZmRkzQJqZmZmZmTNAAAAAAAAANEBmZmZmZmY0QM3MzMzMzDRAMzMzMzMzNUAzMzMzM7M1QJqZmZmZGTZAAAAAAACANkBmZmZmZuY2QGZmZmZmZjdAzczMzMzMN0AzMzMzMzM4QDMzMzMzszhA\",\"dtype\":\"float64\",\"order\":\"little\",\"shape\":[42]},\"SpatialDimensionValueCode\":[\"WB_HI\",\"WB_HI\",\"WB_HI\",\"WB_HI\",\"WB_HI\",\"WB_HI\",\"WB_HI\",\"WB_HI\",\"WB_HI\",\"WB_HI\",\"WB_HI\",\"WB_HI\",\"WB_HI\",\"WB_HI\",\"WB_HI\",\"WB_HI\",\"WB_HI\",\"WB_HI\",\"WB_HI\",\"WB_HI\",\"WB_HI\",\"WB_HI\",\"WB_HI\",\"WB_HI\",\"WB_HI\",\"WB_HI\",\"WB_HI\",\"WB_HI\",\"WB_HI\",\"WB_HI\",\"WB_HI\",\"WB_HI\",\"WB_HI\",\"WB_HI\",\"WB_HI\",\"WB_HI\",\"WB_HI\",\"WB_HI\",\"WB_HI\",\"WB_HI\",\"WB_HI\",\"WB_HI\"],\"TimeDim\":[1975,1976,1977,1978,1979,1980,1981,1982,1983,1984,1985,1986,1987,1988,1989,1990,1991,1992,1993,1994,1995,1996,1997,1998,1999,2000,2001,2002,2003,2004,2005,2006,2007,2008,2009,2010,2011,2012,2013,2014,2015,2016]},\"selected\":{\"id\":\"16637\"},\"selection_policy\":{\"id\":\"16651\"}},\"id\":\"16636\",\"type\":\"ColumnDataSource\"},{\"attributes\":{\"coordinates\":null,\"data_source\":{\"id\":\"16679\"},\"glyph\":{\"id\":\"16682\"},\"group\":null,\"hover_glyph\":null,\"muted_glyph\":{\"id\":\"16684\"},\"nonselection_glyph\":{\"id\":\"16683\"},\"selection_glyph\":{\"id\":\"16702\"},\"view\":{\"id\":\"16686\"}},\"id\":\"16685\",\"type\":\"GlyphRenderer\"},{\"attributes\":{\"line_color\":\"#6d904f\",\"line_width\":2,\"x\":{\"field\":\"TimeDim\"},\"y\":{\"field\":\"NumericValue\"}},\"id\":\"16728\",\"type\":\"Line\"},{\"attributes\":{},\"id\":\"16680\",\"type\":\"Selection\"}],\"root_ids\":[\"16586\",\"16797\"]},\"title\":\"Bokeh Application\",\"version\":\"2.4.3\"}};\n",
       "    var render_items = [{\"docid\":\"5edc2eb4-576d-41c6-8544-38d19a816377\",\"root_ids\":[\"16586\"],\"roots\":{\"16586\":\"b1610400-b3dd-4a3a-9003-e8b08bc33162\"}}];\n",
       "    root.Bokeh.embed.embed_items_notebook(docs_json, render_items);\n",
       "    for (const render_item of render_items) {\n",
       "      for (const root_id of render_item.root_ids) {\n",
       "\tconst id_el = document.getElementById(root_id)\n",
       "\tif (id_el.children.length && (id_el.children[0].className === 'bk-root')) {\n",
       "\t  const root_el = id_el.children[0]\n",
       "\t  root_el.id = root_el.id + '-rendered'\n",
       "\t}\n",
       "      }\n",
       "    }\n",
       "  }\n",
       "  if (root.Bokeh !== undefined && root.Bokeh.Panel !== undefined && ( root['Tabulator'] !== undefined) && ( root['Tabulator'] !== undefined)) {\n",
       "    embed_document(root);\n",
       "  } else {\n",
       "    var attempts = 0;\n",
       "    var timer = setInterval(function(root) {\n",
       "      if (root.Bokeh !== undefined && root.Bokeh.Panel !== undefined && (root['Tabulator'] !== undefined) && (root['Tabulator'] !== undefined)) {\n",
       "        clearInterval(timer);\n",
       "        embed_document(root);\n",
       "      } else if (document.readyState == \"complete\") {\n",
       "        attempts++;\n",
       "        if (attempts > 200) {\n",
       "          clearInterval(timer);\n",
       "          console.log(\"Bokeh: ERROR: Unable to run BokehJS code because BokehJS library is missing\");\n",
       "        }\n",
       "      }\n",
       "    }, 25, root)\n",
       "  }\n",
       "})(window);</script>"
      ],
      "text/plain": [
       "<hvplot.interactive.Interactive at 0x7fde30dd7c40>"
      ]
     },
     "execution_count": 83,
     "metadata": {
      "application/vnd.holoviews_exec.v0+json": {
       "id": "16586"
      }
     },
     "output_type": "execute_result"
    }
   ],
   "source": [
    "# Creating a chart for overweight adults\n",
    "bmi_over_adult_plot = bmi_over_adult_pipeline.hvplot(x = 'TimeDim', \n",
    "                                       by = 'SpatialDimensionValueCode', \n",
    "                                       y = yaxis_prevalence, \n",
    "                                       line_width = 2, \n",
    "                                       title = 'Age-standardised prevalence of overweight adults (BMI >30 kg/m2) by income groups', \n",
    "                                       width = 800)\n",
    "bmi_over_adult_plot"
   ]
  },
  {
   "cell_type": "code",
   "execution_count": 84,
   "id": "c234dd1f-086f-4dd6-8d38-dce21d8c165d",
   "metadata": {
    "tags": []
   },
   "outputs": [],
   "source": [
    "# Connecting the widgets to the under_adult (underweight adults) pipeline\n",
    "income_group = ['WB_HI', 'WB_LI', 'WB_LMI', 'WB_UMI']\n",
    "\n",
    "bmi_under_adult_pipeline = (\n",
    "    idf_under_adult[\n",
    "        (idf.TimeDim <= year_slider) & \n",
    "        (idf.DisaggregatingDimension1ValueCode == sex_menu) & \n",
    "        (idf.SpatialDimensionValueCode.isin(income_group))\n",
    "    ]\n",
    "    .groupby(['SpatialDimensionValueCode', 'TimeDim'])[yaxis_prevalence].mean()\n",
    "    .to_frame()\n",
    "    .reset_index()\n",
    "    .sort_values(by = 'TimeDim')\n",
    "    .reset_index(drop = True)\n",
    ")"
   ]
  },
  {
   "cell_type": "code",
   "execution_count": 85,
   "id": "817ca4f5-a50b-4f8b-8f70-5cc30deba133",
   "metadata": {
    "collapsed": true,
    "jupyter": {
     "outputs_hidden": true
    },
    "tags": []
   },
   "outputs": [
    {
     "data": {},
     "metadata": {},
     "output_type": "display_data"
    },
    {
     "data": {
      "application/vnd.holoviews_exec.v0+json": "",
      "text/html": [
       "<div id='16878'>\n",
       "  <div class=\"bk-root\" id=\"cab38fe2-19ad-4bf2-a017-0f335ffed8dc\" data-root-id=\"16878\"></div>\n",
       "</div>\n",
       "<script type=\"application/javascript\">(function(root) {\n",
       "  function embed_document(root) {\n",
       "    var docs_json = {\"2c791300-3db5-4a40-a11e-9b3c855c40f0\":{\"defs\":[{\"extends\":null,\"module\":null,\"name\":\"ReactiveHTML1\",\"overrides\":[],\"properties\":[]},{\"extends\":null,\"module\":null,\"name\":\"FlexBox1\",\"overrides\":[],\"properties\":[{\"default\":\"flex-start\",\"kind\":null,\"name\":\"align_content\"},{\"default\":\"flex-start\",\"kind\":null,\"name\":\"align_items\"},{\"default\":\"row\",\"kind\":null,\"name\":\"flex_direction\"},{\"default\":\"wrap\",\"kind\":null,\"name\":\"flex_wrap\"},{\"default\":\"flex-start\",\"kind\":null,\"name\":\"justify_content\"}]},{\"extends\":null,\"module\":null,\"name\":\"GridStack1\",\"overrides\":[],\"properties\":[{\"default\":\"warn\",\"kind\":null,\"name\":\"mode\"},{\"default\":null,\"kind\":null,\"name\":\"ncols\"},{\"default\":null,\"kind\":null,\"name\":\"nrows\"},{\"default\":true,\"kind\":null,\"name\":\"allow_resize\"},{\"default\":true,\"kind\":null,\"name\":\"allow_drag\"},{\"default\":[],\"kind\":null,\"name\":\"state\"}]},{\"extends\":null,\"module\":null,\"name\":\"click1\",\"overrides\":[],\"properties\":[{\"default\":\"\",\"kind\":null,\"name\":\"terminal_output\"},{\"default\":\"\",\"kind\":null,\"name\":\"debug_name\"},{\"default\":0,\"kind\":null,\"name\":\"clears\"}]},{\"extends\":null,\"module\":null,\"name\":\"NotificationAreaBase1\",\"overrides\":[],\"properties\":[{\"default\":\"bottom-right\",\"kind\":null,\"name\":\"position\"},{\"default\":0,\"kind\":null,\"name\":\"_clear\"}]},{\"extends\":null,\"module\":null,\"name\":\"NotificationArea1\",\"overrides\":[],\"properties\":[{\"default\":[],\"kind\":null,\"name\":\"notifications\"},{\"default\":\"bottom-right\",\"kind\":null,\"name\":\"position\"},{\"default\":0,\"kind\":null,\"name\":\"_clear\"},{\"default\":[{\"background\":\"#ffc107\",\"icon\":{\"className\":\"fas fa-exclamation-triangle\",\"color\":\"white\",\"tagName\":\"i\"},\"type\":\"warning\"},{\"background\":\"#007bff\",\"icon\":{\"className\":\"fas fa-info-circle\",\"color\":\"white\",\"tagName\":\"i\"},\"type\":\"info\"}],\"kind\":null,\"name\":\"types\"}]},{\"extends\":null,\"module\":null,\"name\":\"Notification\",\"overrides\":[],\"properties\":[{\"default\":null,\"kind\":null,\"name\":\"background\"},{\"default\":3000,\"kind\":null,\"name\":\"duration\"},{\"default\":null,\"kind\":null,\"name\":\"icon\"},{\"default\":\"\",\"kind\":null,\"name\":\"message\"},{\"default\":null,\"kind\":null,\"name\":\"notification_type\"},{\"default\":false,\"kind\":null,\"name\":\"_destroyed\"}]},{\"extends\":null,\"module\":null,\"name\":\"TemplateActions1\",\"overrides\":[],\"properties\":[{\"default\":0,\"kind\":null,\"name\":\"open_modal\"},{\"default\":0,\"kind\":null,\"name\":\"close_modal\"}]},{\"extends\":null,\"module\":null,\"name\":\"MaterialTemplateActions1\",\"overrides\":[],\"properties\":[{\"default\":0,\"kind\":null,\"name\":\"open_modal\"},{\"default\":0,\"kind\":null,\"name\":\"close_modal\"}]}],\"roots\":{\"references\":[{\"attributes\":{\"children\":[{\"id\":\"16879\"}],\"margin\":[0,0,0,0],\"name\":\"Row71614\"},\"id\":\"16878\",\"type\":\"Row\"},{\"attributes\":{\"children\":[{\"id\":\"16887\"}],\"margin\":[0,0,0,0],\"name\":\"Row71608\"},\"id\":\"16886\",\"type\":\"Row\"},{\"attributes\":{\"children\":[{\"id\":\"16881\"},{\"id\":\"16885\"}],\"margin\":[0,0,0,0],\"name\":\"Row71612\"},\"id\":\"16880\",\"type\":\"Row\"},{\"attributes\":{\"children\":[{\"id\":\"16880\"},{\"id\":\"16886\"}],\"margin\":[0,0,0,0],\"name\":\"Column71613\"},\"id\":\"16879\",\"type\":\"Column\"},{\"attributes\":{\"active\":0,\"button_type\":\"success\",\"labels\":[\"NumericValue\",\"Low\",\"High\"],\"margin\":[5,10,5,10]},\"id\":\"16884\",\"type\":\"RadioButtonGroup\"},{\"attributes\":{\"margin\":[5,10,5,10],\"options\":[\"BTSX\",\"FMLE\",\"MLE\"],\"title\":\"DisaggregatingDimension1ValueCode\",\"value\":\"FMLE\"},\"id\":\"16883\",\"type\":\"panel.models.widgets.CustomSelect\"},{\"attributes\":{\"children\":[{\"id\":\"16882\"},{\"id\":\"16883\"},{\"id\":\"16884\"}],\"margin\":[0,0,0,0],\"name\":\"Column71603\"},\"id\":\"16881\",\"type\":\"Column\"},{\"attributes\":{\"margin\":[5,5,5,5],\"name\":\"HSpacer71611\",\"sizing_mode\":\"stretch_width\"},\"id\":\"16885\",\"type\":\"Spacer\"},{\"attributes\":{\"end\":2016,\"margin\":[5,10,5,10],\"start\":1975,\"title\":\"Year slider\",\"value\":2016},\"id\":\"16882\",\"type\":\"Slider\"},{\"attributes\":{\"client_comm_id\":\"cb61a5ea292c4f728f58a1b0784c1a69\",\"comm_id\":\"a2180e8c517f47669740f18d9ef11e12\",\"plot_id\":\"16878\"},\"id\":\"16888\",\"type\":\"panel.models.comm_manager.CommManager\"},{\"attributes\":{\"margin\":[5,5,5,5],\"name\":\"DataFrame71609\",\"text\":\"&lt;table class=&quot;dataframe panel-df&quot;&gt;\\n  &lt;thead&gt;\\n    &lt;tr style=&quot;text-align: right;&quot;&gt;\\n      &lt;th&gt;&lt;/th&gt;\\n      &lt;th&gt;SpatialDimensionValueCode&lt;/th&gt;\\n      &lt;th&gt;TimeDim&lt;/th&gt;\\n      &lt;th&gt;NumericValue&lt;/th&gt;\\n    &lt;/tr&gt;\\n  &lt;/thead&gt;\\n  &lt;tbody&gt;\\n    &lt;tr&gt;\\n      &lt;th&gt;0&lt;/th&gt;\\n      &lt;td&gt;WB_HI&lt;/td&gt;\\n      &lt;td&gt;1975&lt;/td&gt;\\n      &lt;td&gt;5.4&lt;/td&gt;\\n    &lt;/tr&gt;\\n    &lt;tr&gt;\\n      &lt;th&gt;1&lt;/th&gt;\\n      &lt;td&gt;WB_UMI&lt;/td&gt;\\n      &lt;td&gt;1975&lt;/td&gt;\\n      &lt;td&gt;11.1&lt;/td&gt;\\n    &lt;/tr&gt;\\n    &lt;tr&gt;\\n      &lt;th&gt;2&lt;/th&gt;\\n      &lt;td&gt;WB_LI&lt;/td&gt;\\n      &lt;td&gt;1975&lt;/td&gt;\\n      &lt;td&gt;20.8&lt;/td&gt;\\n    &lt;/tr&gt;\\n    &lt;tr&gt;\\n      &lt;th&gt;3&lt;/th&gt;\\n      &lt;td&gt;WB_LMI&lt;/td&gt;\\n      &lt;td&gt;1975&lt;/td&gt;\\n      &lt;td&gt;27.7&lt;/td&gt;\\n    &lt;/tr&gt;\\n    &lt;tr&gt;\\n      &lt;th&gt;4&lt;/th&gt;\\n      &lt;td&gt;WB_LMI&lt;/td&gt;\\n      &lt;td&gt;1976&lt;/td&gt;\\n      &lt;td&gt;27.5&lt;/td&gt;\\n    &lt;/tr&gt;\\n    &lt;tr&gt;\\n      &lt;th&gt;5&lt;/th&gt;\\n      &lt;td&gt;WB_HI&lt;/td&gt;\\n      &lt;td&gt;1976&lt;/td&gt;\\n      &lt;td&gt;5.3&lt;/td&gt;\\n    &lt;/tr&gt;\\n    &lt;tr&gt;\\n      &lt;th&gt;6&lt;/th&gt;\\n      &lt;td&gt;WB_UMI&lt;/td&gt;\\n      &lt;td&gt;1976&lt;/td&gt;\\n      &lt;td&gt;11.0&lt;/td&gt;\\n    &lt;/tr&gt;\\n    &lt;tr&gt;\\n      &lt;th&gt;7&lt;/th&gt;\\n      &lt;td&gt;WB_LI&lt;/td&gt;\\n      &lt;td&gt;1976&lt;/td&gt;\\n      &lt;td&gt;20.5&lt;/td&gt;\\n    &lt;/tr&gt;\\n    &lt;tr&gt;\\n      &lt;th&gt;8&lt;/th&gt;\\n      &lt;td&gt;WB_LMI&lt;/td&gt;\\n      &lt;td&gt;1977&lt;/td&gt;\\n      &lt;td&gt;27.3&lt;/td&gt;\\n    &lt;/tr&gt;\\n    &lt;tr&gt;\\n      &lt;th&gt;9&lt;/th&gt;\\n      &lt;td&gt;WB_LI&lt;/td&gt;\\n      &lt;td&gt;1977&lt;/td&gt;\\n      &lt;td&gt;20.3&lt;/td&gt;\\n    &lt;/tr&gt;\\n    &lt;tr&gt;\\n      &lt;th&gt;10&lt;/th&gt;\\n      &lt;td&gt;WB_HI&lt;/td&gt;\\n      &lt;td&gt;1977&lt;/td&gt;\\n      &lt;td&gt;5.2&lt;/td&gt;\\n    &lt;/tr&gt;\\n    &lt;tr&gt;\\n      &lt;th&gt;11&lt;/th&gt;\\n      &lt;td&gt;WB_UMI&lt;/td&gt;\\n      &lt;td&gt;1977&lt;/td&gt;\\n      &lt;td&gt;10.8&lt;/td&gt;\\n    &lt;/tr&gt;\\n    &lt;tr&gt;\\n      &lt;th&gt;12&lt;/th&gt;\\n      &lt;td&gt;WB_HI&lt;/td&gt;\\n      &lt;td&gt;1978&lt;/td&gt;\\n      &lt;td&gt;5.1&lt;/td&gt;\\n    &lt;/tr&gt;\\n    &lt;tr&gt;\\n      &lt;th&gt;13&lt;/th&gt;\\n      &lt;td&gt;WB_LMI&lt;/td&gt;\\n      &lt;td&gt;1978&lt;/td&gt;\\n      &lt;td&gt;27.0&lt;/td&gt;\\n    &lt;/tr&gt;\\n    &lt;tr&gt;\\n      &lt;th&gt;14&lt;/th&gt;\\n      &lt;td&gt;WB_LI&lt;/td&gt;\\n      &lt;td&gt;1978&lt;/td&gt;\\n      &lt;td&gt;20.0&lt;/td&gt;\\n    &lt;/tr&gt;\\n    &lt;tr&gt;\\n      &lt;th&gt;15&lt;/th&gt;\\n      &lt;td&gt;WB_UMI&lt;/td&gt;\\n      &lt;td&gt;1978&lt;/td&gt;\\n      &lt;td&gt;10.6&lt;/td&gt;\\n    &lt;/tr&gt;\\n    &lt;tr&gt;\\n      &lt;th&gt;16&lt;/th&gt;\\n      &lt;td&gt;WB_LMI&lt;/td&gt;\\n      &lt;td&gt;1979&lt;/td&gt;\\n      &lt;td&gt;26.8&lt;/td&gt;\\n    &lt;/tr&gt;\\n    &lt;tr&gt;\\n      &lt;th&gt;17&lt;/th&gt;\\n      &lt;td&gt;WB_HI&lt;/td&gt;\\n      &lt;td&gt;1979&lt;/td&gt;\\n      &lt;td&gt;5.0&lt;/td&gt;\\n    &lt;/tr&gt;\\n    &lt;tr&gt;\\n      &lt;th&gt;18&lt;/th&gt;\\n      &lt;td&gt;WB_UMI&lt;/td&gt;\\n      &lt;td&gt;1979&lt;/td&gt;\\n      &lt;td&gt;10.4&lt;/td&gt;\\n    &lt;/tr&gt;\\n    &lt;tr&gt;\\n      &lt;th&gt;19&lt;/th&gt;\\n      &lt;td&gt;WB_LI&lt;/td&gt;\\n      &lt;td&gt;1979&lt;/td&gt;\\n      &lt;td&gt;19.8&lt;/td&gt;\\n    &lt;/tr&gt;\\n    &lt;tr&gt;\\n      &lt;th&gt;20&lt;/th&gt;\\n      &lt;td&gt;WB_LI&lt;/td&gt;\\n      &lt;td&gt;1980&lt;/td&gt;\\n      &lt;td&gt;19.5&lt;/td&gt;\\n    &lt;/tr&gt;\\n    &lt;tr&gt;\\n      &lt;th&gt;21&lt;/th&gt;\\n      &lt;td&gt;WB_LMI&lt;/td&gt;\\n      &lt;td&gt;1980&lt;/td&gt;\\n      &lt;td&gt;26.6&lt;/td&gt;\\n    &lt;/tr&gt;\\n    &lt;tr&gt;\\n      &lt;th&gt;22&lt;/th&gt;\\n      &lt;td&gt;WB_UMI&lt;/td&gt;\\n      &lt;td&gt;1980&lt;/td&gt;\\n      &lt;td&gt;10.2&lt;/td&gt;\\n    &lt;/tr&gt;\\n    &lt;tr&gt;\\n      &lt;th&gt;23&lt;/th&gt;\\n      &lt;td&gt;WB_HI&lt;/td&gt;\\n      &lt;td&gt;1980&lt;/td&gt;\\n      &lt;td&gt;4.9&lt;/td&gt;\\n    &lt;/tr&gt;\\n    &lt;tr&gt;\\n      &lt;th&gt;24&lt;/th&gt;\\n      &lt;td&gt;WB_HI&lt;/td&gt;\\n      &lt;td&gt;1981&lt;/td&gt;\\n      &lt;td&gt;4.8&lt;/td&gt;\\n    &lt;/tr&gt;\\n    &lt;tr&gt;\\n      &lt;th&gt;25&lt;/th&gt;\\n      &lt;td&gt;WB_LMI&lt;/td&gt;\\n      &lt;td&gt;1981&lt;/td&gt;\\n      &lt;td&gt;26.4&lt;/td&gt;\\n    &lt;/tr&gt;\\n    &lt;tr&gt;\\n      &lt;th&gt;26&lt;/th&gt;\\n      &lt;td&gt;WB_LI&lt;/td&gt;\\n      &lt;td&gt;1981&lt;/td&gt;\\n      &lt;td&gt;19.2&lt;/td&gt;\\n    &lt;/tr&gt;\\n    &lt;tr&gt;\\n      &lt;th&gt;27&lt;/th&gt;\\n      &lt;td&gt;WB_UMI&lt;/td&gt;\\n      &lt;td&gt;1981&lt;/td&gt;\\n      &lt;td&gt;10.0&lt;/td&gt;\\n    &lt;/tr&gt;\\n    &lt;tr&gt;\\n      &lt;th&gt;28&lt;/th&gt;\\n      &lt;td&gt;WB_HI&lt;/td&gt;\\n      &lt;td&gt;1982&lt;/td&gt;\\n      &lt;td&gt;4.7&lt;/td&gt;\\n    &lt;/tr&gt;\\n    &lt;tr&gt;\\n      &lt;th&gt;29&lt;/th&gt;\\n      &lt;td&gt;WB_LMI&lt;/td&gt;\\n      &lt;td&gt;1982&lt;/td&gt;\\n      &lt;td&gt;26.1&lt;/td&gt;\\n    &lt;/tr&gt;\\n    &lt;tr&gt;\\n      &lt;th&gt;30&lt;/th&gt;\\n      &lt;td&gt;WB_LI&lt;/td&gt;\\n      &lt;td&gt;1982&lt;/td&gt;\\n      &lt;td&gt;19.0&lt;/td&gt;\\n    &lt;/tr&gt;\\n    &lt;tr&gt;\\n      &lt;th&gt;31&lt;/th&gt;\\n      &lt;td&gt;WB_UMI&lt;/td&gt;\\n      &lt;td&gt;1982&lt;/td&gt;\\n      &lt;td&gt;9.8&lt;/td&gt;\\n    &lt;/tr&gt;\\n    &lt;tr&gt;\\n      &lt;th&gt;32&lt;/th&gt;\\n      &lt;td&gt;WB_HI&lt;/td&gt;\\n      &lt;td&gt;1983&lt;/td&gt;\\n      &lt;td&gt;4.7&lt;/td&gt;\\n    &lt;/tr&gt;\\n    &lt;tr&gt;\\n      &lt;th&gt;33&lt;/th&gt;\\n      &lt;td&gt;WB_LMI&lt;/td&gt;\\n      &lt;td&gt;1983&lt;/td&gt;\\n      &lt;td&gt;25.9&lt;/td&gt;\\n    &lt;/tr&gt;\\n    &lt;tr&gt;\\n      &lt;th&gt;34&lt;/th&gt;\\n      &lt;td&gt;WB_UMI&lt;/td&gt;\\n      &lt;td&gt;1983&lt;/td&gt;\\n      &lt;td&gt;9.6&lt;/td&gt;\\n    &lt;/tr&gt;\\n    &lt;tr&gt;\\n      &lt;th&gt;35&lt;/th&gt;\\n      &lt;td&gt;WB_LI&lt;/td&gt;\\n      &lt;td&gt;1983&lt;/td&gt;\\n      &lt;td&gt;18.7&lt;/td&gt;\\n    &lt;/tr&gt;\\n    &lt;tr&gt;\\n      &lt;th&gt;36&lt;/th&gt;\\n      &lt;td&gt;WB_UMI&lt;/td&gt;\\n      &lt;td&gt;1984&lt;/td&gt;\\n      &lt;td&gt;9.4&lt;/td&gt;\\n    &lt;/tr&gt;\\n    &lt;tr&gt;\\n      &lt;th&gt;37&lt;/th&gt;\\n      &lt;td&gt;WB_LI&lt;/td&gt;\\n      &lt;td&gt;1984&lt;/td&gt;\\n      &lt;td&gt;18.5&lt;/td&gt;\\n    &lt;/tr&gt;\\n    &lt;tr&gt;\\n      &lt;th&gt;38&lt;/th&gt;\\n      &lt;td&gt;WB_LMI&lt;/td&gt;\\n      &lt;td&gt;1984&lt;/td&gt;\\n      &lt;td&gt;25.7&lt;/td&gt;\\n    &lt;/tr&gt;\\n    &lt;tr&gt;\\n      &lt;th&gt;39&lt;/th&gt;\\n      &lt;td&gt;WB_HI&lt;/td&gt;\\n      &lt;td&gt;1984&lt;/td&gt;\\n      &lt;td&gt;4.6&lt;/td&gt;\\n    &lt;/tr&gt;\\n    &lt;tr&gt;\\n      &lt;th&gt;40&lt;/th&gt;\\n      &lt;td&gt;WB_LMI&lt;/td&gt;\\n      &lt;td&gt;1985&lt;/td&gt;\\n      &lt;td&gt;25.4&lt;/td&gt;\\n    &lt;/tr&gt;\\n    &lt;tr&gt;\\n      &lt;th&gt;41&lt;/th&gt;\\n      &lt;td&gt;WB_HI&lt;/td&gt;\\n      &lt;td&gt;1985&lt;/td&gt;\\n      &lt;td&gt;4.5&lt;/td&gt;\\n    &lt;/tr&gt;\\n    &lt;tr&gt;\\n      &lt;th&gt;42&lt;/th&gt;\\n      &lt;td&gt;WB_LI&lt;/td&gt;\\n      &lt;td&gt;1985&lt;/td&gt;\\n      &lt;td&gt;18.2&lt;/td&gt;\\n    &lt;/tr&gt;\\n    &lt;tr&gt;\\n      &lt;th&gt;43&lt;/th&gt;\\n      &lt;td&gt;WB_UMI&lt;/td&gt;\\n      &lt;td&gt;1985&lt;/td&gt;\\n      &lt;td&gt;9.2&lt;/td&gt;\\n    &lt;/tr&gt;\\n    &lt;tr&gt;\\n      &lt;th&gt;44&lt;/th&gt;\\n      &lt;td&gt;WB_UMI&lt;/td&gt;\\n      &lt;td&gt;1986&lt;/td&gt;\\n      &lt;td&gt;9.1&lt;/td&gt;\\n    &lt;/tr&gt;\\n    &lt;tr&gt;\\n      &lt;th&gt;45&lt;/th&gt;\\n      &lt;td&gt;WB_LI&lt;/td&gt;\\n      &lt;td&gt;1986&lt;/td&gt;\\n      &lt;td&gt;17.9&lt;/td&gt;\\n    &lt;/tr&gt;\\n    &lt;tr&gt;\\n      &lt;th&gt;46&lt;/th&gt;\\n      &lt;td&gt;WB_LMI&lt;/td&gt;\\n      &lt;td&gt;1986&lt;/td&gt;\\n      &lt;td&gt;25.2&lt;/td&gt;\\n    &lt;/tr&gt;\\n    &lt;tr&gt;\\n      &lt;th&gt;47&lt;/th&gt;\\n      &lt;td&gt;WB_HI&lt;/td&gt;\\n      &lt;td&gt;1986&lt;/td&gt;\\n      &lt;td&gt;4.4&lt;/td&gt;\\n    &lt;/tr&gt;\\n    &lt;tr&gt;\\n      &lt;th&gt;48&lt;/th&gt;\\n      &lt;td&gt;WB_HI&lt;/td&gt;\\n      &lt;td&gt;1987&lt;/td&gt;\\n      &lt;td&gt;4.4&lt;/td&gt;\\n    &lt;/tr&gt;\\n    &lt;tr&gt;\\n      &lt;th&gt;49&lt;/th&gt;\\n      &lt;td&gt;WB_LMI&lt;/td&gt;\\n      &lt;td&gt;1987&lt;/td&gt;\\n      &lt;td&gt;24.9&lt;/td&gt;\\n    &lt;/tr&gt;\\n    &lt;tr&gt;\\n      &lt;th&gt;...&lt;/th&gt;\\n      &lt;td&gt;...&lt;/td&gt;\\n      &lt;td&gt;...&lt;/td&gt;\\n      &lt;td&gt;...&lt;/td&gt;\\n    &lt;/tr&gt;\\n    &lt;tr&gt;\\n      &lt;th&gt;118&lt;/th&gt;\\n      &lt;td&gt;WB_HI&lt;/td&gt;\\n      &lt;td&gt;2004&lt;/td&gt;\\n      &lt;td&gt;3.5&lt;/td&gt;\\n    &lt;/tr&gt;\\n    &lt;tr&gt;\\n      &lt;th&gt;119&lt;/th&gt;\\n      &lt;td&gt;WB_UMI&lt;/td&gt;\\n      &lt;td&gt;2004&lt;/td&gt;\\n      &lt;td&gt;6.4&lt;/td&gt;\\n    &lt;/tr&gt;\\n    &lt;tr&gt;\\n      &lt;th&gt;120&lt;/th&gt;\\n      &lt;td&gt;WB_LMI&lt;/td&gt;\\n      &lt;td&gt;2005&lt;/td&gt;\\n      &lt;td&gt;20.3&lt;/td&gt;\\n    &lt;/tr&gt;\\n    &lt;tr&gt;\\n      &lt;th&gt;121&lt;/th&gt;\\n      &lt;td&gt;WB_HI&lt;/td&gt;\\n      &lt;td&gt;2005&lt;/td&gt;\\n      &lt;td&gt;3.4&lt;/td&gt;\\n    &lt;/tr&gt;\\n    &lt;tr&gt;\\n      &lt;th&gt;122&lt;/th&gt;\\n      &lt;td&gt;WB_LI&lt;/td&gt;\\n      &lt;td&gt;2005&lt;/td&gt;\\n      &lt;td&gt;14.0&lt;/td&gt;\\n    &lt;/tr&gt;\\n    &lt;tr&gt;\\n      &lt;th&gt;123&lt;/th&gt;\\n      &lt;td&gt;WB_UMI&lt;/td&gt;\\n      &lt;td&gt;2005&lt;/td&gt;\\n      &lt;td&gt;6.2&lt;/td&gt;\\n    &lt;/tr&gt;\\n    &lt;tr&gt;\\n      &lt;th&gt;124&lt;/th&gt;\\n      &lt;td&gt;WB_HI&lt;/td&gt;\\n      &lt;td&gt;2006&lt;/td&gt;\\n      &lt;td&gt;3.4&lt;/td&gt;\\n    &lt;/tr&gt;\\n    &lt;tr&gt;\\n      &lt;th&gt;125&lt;/th&gt;\\n      &lt;td&gt;WB_LI&lt;/td&gt;\\n      &lt;td&gt;2006&lt;/td&gt;\\n      &lt;td&gt;13.8&lt;/td&gt;\\n    &lt;/tr&gt;\\n    &lt;tr&gt;\\n      &lt;th&gt;126&lt;/th&gt;\\n      &lt;td&gt;WB_UMI&lt;/td&gt;\\n      &lt;td&gt;2006&lt;/td&gt;\\n      &lt;td&gt;6.1&lt;/td&gt;\\n    &lt;/tr&gt;\\n    &lt;tr&gt;\\n      &lt;th&gt;127&lt;/th&gt;\\n      &lt;td&gt;WB_LMI&lt;/td&gt;\\n      &lt;td&gt;2006&lt;/td&gt;\\n      &lt;td&gt;20.0&lt;/td&gt;\\n    &lt;/tr&gt;\\n    &lt;tr&gt;\\n      &lt;th&gt;128&lt;/th&gt;\\n      &lt;td&gt;WB_UMI&lt;/td&gt;\\n      &lt;td&gt;2007&lt;/td&gt;\\n      &lt;td&gt;6.0&lt;/td&gt;\\n    &lt;/tr&gt;\\n    &lt;tr&gt;\\n      &lt;th&gt;129&lt;/th&gt;\\n      &lt;td&gt;WB_LI&lt;/td&gt;\\n      &lt;td&gt;2007&lt;/td&gt;\\n      &lt;td&gt;13.6&lt;/td&gt;\\n    &lt;/tr&gt;\\n    &lt;tr&gt;\\n      &lt;th&gt;130&lt;/th&gt;\\n      &lt;td&gt;WB_HI&lt;/td&gt;\\n      &lt;td&gt;2007&lt;/td&gt;\\n      &lt;td&gt;3.4&lt;/td&gt;\\n    &lt;/tr&gt;\\n    &lt;tr&gt;\\n      &lt;th&gt;131&lt;/th&gt;\\n      &lt;td&gt;WB_LMI&lt;/td&gt;\\n      &lt;td&gt;2007&lt;/td&gt;\\n      &lt;td&gt;19.7&lt;/td&gt;\\n    &lt;/tr&gt;\\n    &lt;tr&gt;\\n      &lt;th&gt;132&lt;/th&gt;\\n      &lt;td&gt;WB_HI&lt;/td&gt;\\n      &lt;td&gt;2008&lt;/td&gt;\\n      &lt;td&gt;3.3&lt;/td&gt;\\n    &lt;/tr&gt;\\n    &lt;tr&gt;\\n      &lt;th&gt;133&lt;/th&gt;\\n      &lt;td&gt;WB_LMI&lt;/td&gt;\\n      &lt;td&gt;2008&lt;/td&gt;\\n      &lt;td&gt;19.4&lt;/td&gt;\\n    &lt;/tr&gt;\\n    &lt;tr&gt;\\n      &lt;th&gt;134&lt;/th&gt;\\n      &lt;td&gt;WB_UMI&lt;/td&gt;\\n      &lt;td&gt;2008&lt;/td&gt;\\n      &lt;td&gt;5.8&lt;/td&gt;\\n    &lt;/tr&gt;\\n    &lt;tr&gt;\\n      &lt;th&gt;135&lt;/th&gt;\\n      &lt;td&gt;WB_LI&lt;/td&gt;\\n      &lt;td&gt;2008&lt;/td&gt;\\n      &lt;td&gt;13.3&lt;/td&gt;\\n    &lt;/tr&gt;\\n    &lt;tr&gt;\\n      &lt;th&gt;136&lt;/th&gt;\\n      &lt;td&gt;WB_HI&lt;/td&gt;\\n      &lt;td&gt;2009&lt;/td&gt;\\n      &lt;td&gt;3.3&lt;/td&gt;\\n    &lt;/tr&gt;\\n    &lt;tr&gt;\\n      &lt;th&gt;137&lt;/th&gt;\\n      &lt;td&gt;WB_UMI&lt;/td&gt;\\n      &lt;td&gt;2009&lt;/td&gt;\\n      &lt;td&gt;5.7&lt;/td&gt;\\n    &lt;/tr&gt;\\n    &lt;tr&gt;\\n      &lt;th&gt;138&lt;/th&gt;\\n      &lt;td&gt;WB_LI&lt;/td&gt;\\n      &lt;td&gt;2009&lt;/td&gt;\\n      &lt;td&gt;13.1&lt;/td&gt;\\n    &lt;/tr&gt;\\n    &lt;tr&gt;\\n      &lt;th&gt;139&lt;/th&gt;\\n      &lt;td&gt;WB_LMI&lt;/td&gt;\\n      &lt;td&gt;2009&lt;/td&gt;\\n      &lt;td&gt;19.1&lt;/td&gt;\\n    &lt;/tr&gt;\\n    &lt;tr&gt;\\n      &lt;th&gt;140&lt;/th&gt;\\n      &lt;td&gt;WB_LMI&lt;/td&gt;\\n      &lt;td&gt;2010&lt;/td&gt;\\n      &lt;td&gt;18.8&lt;/td&gt;\\n    &lt;/tr&gt;\\n    &lt;tr&gt;\\n      &lt;th&gt;141&lt;/th&gt;\\n      &lt;td&gt;WB_UMI&lt;/td&gt;\\n      &lt;td&gt;2010&lt;/td&gt;\\n      &lt;td&gt;5.6&lt;/td&gt;\\n    &lt;/tr&gt;\\n    &lt;tr&gt;\\n      &lt;th&gt;142&lt;/th&gt;\\n      &lt;td&gt;WB_LI&lt;/td&gt;\\n      &lt;td&gt;2010&lt;/td&gt;\\n      &lt;td&gt;12.9&lt;/td&gt;\\n    &lt;/tr&gt;\\n    &lt;tr&gt;\\n      &lt;th&gt;143&lt;/th&gt;\\n      &lt;td&gt;WB_HI&lt;/td&gt;\\n      &lt;td&gt;2010&lt;/td&gt;\\n      &lt;td&gt;3.2&lt;/td&gt;\\n    &lt;/tr&gt;\\n    &lt;tr&gt;\\n      &lt;th&gt;144&lt;/th&gt;\\n      &lt;td&gt;WB_HI&lt;/td&gt;\\n      &lt;td&gt;2011&lt;/td&gt;\\n      &lt;td&gt;3.2&lt;/td&gt;\\n    &lt;/tr&gt;\\n    &lt;tr&gt;\\n      &lt;th&gt;145&lt;/th&gt;\\n      &lt;td&gt;WB_LMI&lt;/td&gt;\\n      &lt;td&gt;2011&lt;/td&gt;\\n      &lt;td&gt;18.5&lt;/td&gt;\\n    &lt;/tr&gt;\\n    &lt;tr&gt;\\n      &lt;th&gt;146&lt;/th&gt;\\n      &lt;td&gt;WB_LI&lt;/td&gt;\\n      &lt;td&gt;2011&lt;/td&gt;\\n      &lt;td&gt;12.7&lt;/td&gt;\\n    &lt;/tr&gt;\\n    &lt;tr&gt;\\n      &lt;th&gt;147&lt;/th&gt;\\n      &lt;td&gt;WB_UMI&lt;/td&gt;\\n      &lt;td&gt;2011&lt;/td&gt;\\n      &lt;td&gt;5.4&lt;/td&gt;\\n    &lt;/tr&gt;\\n    &lt;tr&gt;\\n      &lt;th&gt;148&lt;/th&gt;\\n      &lt;td&gt;WB_UMI&lt;/td&gt;\\n      &lt;td&gt;2012&lt;/td&gt;\\n      &lt;td&gt;5.3&lt;/td&gt;\\n    &lt;/tr&gt;\\n    &lt;tr&gt;\\n      &lt;th&gt;149&lt;/th&gt;\\n      &lt;td&gt;WB_LMI&lt;/td&gt;\\n      &lt;td&gt;2012&lt;/td&gt;\\n      &lt;td&gt;18.2&lt;/td&gt;\\n    &lt;/tr&gt;\\n    &lt;tr&gt;\\n      &lt;th&gt;150&lt;/th&gt;\\n      &lt;td&gt;WB_LI&lt;/td&gt;\\n      &lt;td&gt;2012&lt;/td&gt;\\n      &lt;td&gt;12.5&lt;/td&gt;\\n    &lt;/tr&gt;\\n    &lt;tr&gt;\\n      &lt;th&gt;151&lt;/th&gt;\\n      &lt;td&gt;WB_HI&lt;/td&gt;\\n      &lt;td&gt;2012&lt;/td&gt;\\n      &lt;td&gt;3.2&lt;/td&gt;\\n    &lt;/tr&gt;\\n    &lt;tr&gt;\\n      &lt;th&gt;152&lt;/th&gt;\\n      &lt;td&gt;WB_LMI&lt;/td&gt;\\n      &lt;td&gt;2013&lt;/td&gt;\\n      &lt;td&gt;18.0&lt;/td&gt;\\n    &lt;/tr&gt;\\n    &lt;tr&gt;\\n      &lt;th&gt;153&lt;/th&gt;\\n      &lt;td&gt;WB_LI&lt;/td&gt;\\n      &lt;td&gt;2013&lt;/td&gt;\\n      &lt;td&gt;12.3&lt;/td&gt;\\n    &lt;/tr&gt;\\n    &lt;tr&gt;\\n      &lt;th&gt;154&lt;/th&gt;\\n      &lt;td&gt;WB_HI&lt;/td&gt;\\n      &lt;td&gt;2013&lt;/td&gt;\\n      &lt;td&gt;3.1&lt;/td&gt;\\n    &lt;/tr&gt;\\n    &lt;tr&gt;\\n      &lt;th&gt;155&lt;/th&gt;\\n      &lt;td&gt;WB_UMI&lt;/td&gt;\\n      &lt;td&gt;2013&lt;/td&gt;\\n      &lt;td&gt;5.2&lt;/td&gt;\\n    &lt;/tr&gt;\\n    &lt;tr&gt;\\n      &lt;th&gt;156&lt;/th&gt;\\n      &lt;td&gt;WB_LMI&lt;/td&gt;\\n      &lt;td&gt;2014&lt;/td&gt;\\n      &lt;td&gt;17.7&lt;/td&gt;\\n    &lt;/tr&gt;\\n    &lt;tr&gt;\\n      &lt;th&gt;157&lt;/th&gt;\\n      &lt;td&gt;WB_UMI&lt;/td&gt;\\n      &lt;td&gt;2014&lt;/td&gt;\\n      &lt;td&gt;5.1&lt;/td&gt;\\n    &lt;/tr&gt;\\n    &lt;tr&gt;\\n      &lt;th&gt;158&lt;/th&gt;\\n      &lt;td&gt;WB_HI&lt;/td&gt;\\n      &lt;td&gt;2014&lt;/td&gt;\\n      &lt;td&gt;3.1&lt;/td&gt;\\n    &lt;/tr&gt;\\n    &lt;tr&gt;\\n      &lt;th&gt;159&lt;/th&gt;\\n      &lt;td&gt;WB_LI&lt;/td&gt;\\n      &lt;td&gt;2014&lt;/td&gt;\\n      &lt;td&gt;12.1&lt;/td&gt;\\n    &lt;/tr&gt;\\n    &lt;tr&gt;\\n      &lt;th&gt;160&lt;/th&gt;\\n      &lt;td&gt;WB_LMI&lt;/td&gt;\\n      &lt;td&gt;2015&lt;/td&gt;\\n      &lt;td&gt;17.4&lt;/td&gt;\\n    &lt;/tr&gt;\\n    &lt;tr&gt;\\n      &lt;th&gt;161&lt;/th&gt;\\n      &lt;td&gt;WB_UMI&lt;/td&gt;\\n      &lt;td&gt;2015&lt;/td&gt;\\n      &lt;td&gt;5.0&lt;/td&gt;\\n    &lt;/tr&gt;\\n    &lt;tr&gt;\\n      &lt;th&gt;162&lt;/th&gt;\\n      &lt;td&gt;WB_LI&lt;/td&gt;\\n      &lt;td&gt;2015&lt;/td&gt;\\n      &lt;td&gt;11.9&lt;/td&gt;\\n    &lt;/tr&gt;\\n    &lt;tr&gt;\\n      &lt;th&gt;163&lt;/th&gt;\\n      &lt;td&gt;WB_HI&lt;/td&gt;\\n      &lt;td&gt;2015&lt;/td&gt;\\n      &lt;td&gt;3.1&lt;/td&gt;\\n    &lt;/tr&gt;\\n    &lt;tr&gt;\\n      &lt;th&gt;164&lt;/th&gt;\\n      &lt;td&gt;WB_LI&lt;/td&gt;\\n      &lt;td&gt;2016&lt;/td&gt;\\n      &lt;td&gt;11.7&lt;/td&gt;\\n    &lt;/tr&gt;\\n    &lt;tr&gt;\\n      &lt;th&gt;165&lt;/th&gt;\\n      &lt;td&gt;WB_HI&lt;/td&gt;\\n      &lt;td&gt;2016&lt;/td&gt;\\n      &lt;td&gt;3.1&lt;/td&gt;\\n    &lt;/tr&gt;\\n    &lt;tr&gt;\\n      &lt;th&gt;166&lt;/th&gt;\\n      &lt;td&gt;WB_LMI&lt;/td&gt;\\n      &lt;td&gt;2016&lt;/td&gt;\\n      &lt;td&gt;17.1&lt;/td&gt;\\n    &lt;/tr&gt;\\n    &lt;tr&gt;\\n      &lt;th&gt;167&lt;/th&gt;\\n      &lt;td&gt;WB_UMI&lt;/td&gt;\\n      &lt;td&gt;2016&lt;/td&gt;\\n      &lt;td&gt;4.9&lt;/td&gt;\\n    &lt;/tr&gt;\\n  &lt;/tbody&gt;\\n&lt;/table&gt;\"},\"id\":\"16887\",\"type\":\"panel.models.markup.HTML\"}],\"root_ids\":[\"16878\",\"16888\"]},\"title\":\"Bokeh Application\",\"version\":\"2.4.3\"}};\n",
       "    var render_items = [{\"docid\":\"2c791300-3db5-4a40-a11e-9b3c855c40f0\",\"root_ids\":[\"16878\"],\"roots\":{\"16878\":\"cab38fe2-19ad-4bf2-a017-0f335ffed8dc\"}}];\n",
       "    root.Bokeh.embed.embed_items_notebook(docs_json, render_items);\n",
       "    for (const render_item of render_items) {\n",
       "      for (const root_id of render_item.root_ids) {\n",
       "\tconst id_el = document.getElementById(root_id)\n",
       "\tif (id_el.children.length && (id_el.children[0].className === 'bk-root')) {\n",
       "\t  const root_el = id_el.children[0]\n",
       "\t  root_el.id = root_el.id + '-rendered'\n",
       "\t}\n",
       "      }\n",
       "    }\n",
       "  }\n",
       "  if (root.Bokeh !== undefined && root.Bokeh.Panel !== undefined && ( root['Tabulator'] !== undefined) && ( root['Tabulator'] !== undefined)) {\n",
       "    embed_document(root);\n",
       "  } else {\n",
       "    var attempts = 0;\n",
       "    var timer = setInterval(function(root) {\n",
       "      if (root.Bokeh !== undefined && root.Bokeh.Panel !== undefined && (root['Tabulator'] !== undefined) && (root['Tabulator'] !== undefined)) {\n",
       "        clearInterval(timer);\n",
       "        embed_document(root);\n",
       "      } else if (document.readyState == \"complete\") {\n",
       "        attempts++;\n",
       "        if (attempts > 200) {\n",
       "          clearInterval(timer);\n",
       "          console.log(\"Bokeh: ERROR: Unable to run BokehJS code because BokehJS library is missing\");\n",
       "        }\n",
       "      }\n",
       "    }, 25, root)\n",
       "  }\n",
       "})(window);</script>"
      ],
      "text/plain": [
       "<hvplot.interactive.Interactive at 0x7fde30e8b8e0>"
      ]
     },
     "execution_count": 85,
     "metadata": {
      "application/vnd.holoviews_exec.v0+json": {
       "id": "16878"
      }
     },
     "output_type": "execute_result"
    }
   ],
   "source": [
    "bmi_under_adult_pipeline"
   ]
  },
  {
   "cell_type": "code",
   "execution_count": 100,
   "id": "a748042a-22d6-4b60-8eb4-f3c9850aa0d0",
   "metadata": {
    "tags": []
   },
   "outputs": [
    {
     "data": {},
     "metadata": {},
     "output_type": "display_data"
    },
    {
     "data": {},
     "metadata": {},
     "output_type": "display_data"
    },
    {
     "data": {
      "application/vnd.holoviews_exec.v0+json": "",
      "text/html": [
       "<div id='33936'>\n",
       "  <div class=\"bk-root\" id=\"66f55e5a-27c6-4e10-bff2-0cb99e4d8ee3\" data-root-id=\"33936\"></div>\n",
       "</div>\n",
       "<script type=\"application/javascript\">(function(root) {\n",
       "  function embed_document(root) {\n",
       "    var docs_json = {\"064fb059-d490-44e5-a39f-8da3b9fa53b0\":{\"defs\":[{\"extends\":null,\"module\":null,\"name\":\"ReactiveHTML1\",\"overrides\":[],\"properties\":[]},{\"extends\":null,\"module\":null,\"name\":\"FlexBox1\",\"overrides\":[],\"properties\":[{\"default\":\"flex-start\",\"kind\":null,\"name\":\"align_content\"},{\"default\":\"flex-start\",\"kind\":null,\"name\":\"align_items\"},{\"default\":\"row\",\"kind\":null,\"name\":\"flex_direction\"},{\"default\":\"wrap\",\"kind\":null,\"name\":\"flex_wrap\"},{\"default\":\"flex-start\",\"kind\":null,\"name\":\"justify_content\"}]},{\"extends\":null,\"module\":null,\"name\":\"GridStack1\",\"overrides\":[],\"properties\":[{\"default\":\"warn\",\"kind\":null,\"name\":\"mode\"},{\"default\":null,\"kind\":null,\"name\":\"ncols\"},{\"default\":null,\"kind\":null,\"name\":\"nrows\"},{\"default\":true,\"kind\":null,\"name\":\"allow_resize\"},{\"default\":true,\"kind\":null,\"name\":\"allow_drag\"},{\"default\":[],\"kind\":null,\"name\":\"state\"}]},{\"extends\":null,\"module\":null,\"name\":\"click1\",\"overrides\":[],\"properties\":[{\"default\":\"\",\"kind\":null,\"name\":\"terminal_output\"},{\"default\":\"\",\"kind\":null,\"name\":\"debug_name\"},{\"default\":0,\"kind\":null,\"name\":\"clears\"}]},{\"extends\":null,\"module\":null,\"name\":\"NotificationAreaBase1\",\"overrides\":[],\"properties\":[{\"default\":\"bottom-right\",\"kind\":null,\"name\":\"position\"},{\"default\":0,\"kind\":null,\"name\":\"_clear\"}]},{\"extends\":null,\"module\":null,\"name\":\"NotificationArea1\",\"overrides\":[],\"properties\":[{\"default\":[],\"kind\":null,\"name\":\"notifications\"},{\"default\":\"bottom-right\",\"kind\":null,\"name\":\"position\"},{\"default\":0,\"kind\":null,\"name\":\"_clear\"},{\"default\":[{\"background\":\"#ffc107\",\"icon\":{\"className\":\"fas fa-exclamation-triangle\",\"color\":\"white\",\"tagName\":\"i\"},\"type\":\"warning\"},{\"background\":\"#007bff\",\"icon\":{\"className\":\"fas fa-info-circle\",\"color\":\"white\",\"tagName\":\"i\"},\"type\":\"info\"}],\"kind\":null,\"name\":\"types\"}]},{\"extends\":null,\"module\":null,\"name\":\"Notification\",\"overrides\":[],\"properties\":[{\"default\":null,\"kind\":null,\"name\":\"background\"},{\"default\":3000,\"kind\":null,\"name\":\"duration\"},{\"default\":null,\"kind\":null,\"name\":\"icon\"},{\"default\":\"\",\"kind\":null,\"name\":\"message\"},{\"default\":null,\"kind\":null,\"name\":\"notification_type\"},{\"default\":false,\"kind\":null,\"name\":\"_destroyed\"}]},{\"extends\":null,\"module\":null,\"name\":\"TemplateActions1\",\"overrides\":[],\"properties\":[{\"default\":0,\"kind\":null,\"name\":\"open_modal\"},{\"default\":0,\"kind\":null,\"name\":\"close_modal\"}]},{\"extends\":null,\"module\":null,\"name\":\"MaterialTemplateActions1\",\"overrides\":[],\"properties\":[{\"default\":0,\"kind\":null,\"name\":\"open_modal\"},{\"default\":0,\"kind\":null,\"name\":\"close_modal\"}]}],\"roots\":{\"references\":[{\"attributes\":{\"axis\":{\"id\":\"33959\"},\"coordinates\":null,\"grid_line_color\":null,\"group\":null,\"ticker\":null},\"id\":\"33962\",\"type\":\"Grid\"},{\"attributes\":{\"source\":{\"id\":\"34053\"}},\"id\":\"34060\",\"type\":\"CDSView\"},{\"attributes\":{\"label\":{\"value\":\"WB_UMI\"},\"renderers\":[{\"id\":\"34059\"}]},\"id\":\"34077\",\"type\":\"LegendItem\"},{\"attributes\":{\"axis_label\":\"Prevalence (%)\",\"coordinates\":null,\"formatter\":{\"id\":\"33984\"},\"group\":null,\"major_label_policy\":{\"id\":\"33985\"},\"ticker\":{\"id\":\"33964\"}},\"id\":\"33963\",\"type\":\"LinearAxis\"},{\"attributes\":{},\"id\":\"33982\",\"type\":\"AllLabels\"},{\"attributes\":{\"overlay\":{\"id\":\"33972\"}},\"id\":\"33970\",\"type\":\"BoxZoomTool\"},{\"attributes\":{\"margin\":[5,5,5,5],\"name\":\"HSpacer80791\",\"sizing_mode\":\"stretch_width\"},\"id\":\"33943\",\"type\":\"Spacer\"},{\"attributes\":{\"coordinates\":null,\"data_source\":{\"id\":\"34053\"},\"glyph\":{\"id\":\"34056\"},\"group\":null,\"hover_glyph\":null,\"muted_glyph\":{\"id\":\"34058\"},\"nonselection_glyph\":{\"id\":\"34057\"},\"selection_glyph\":{\"id\":\"34078\"},\"view\":{\"id\":\"34060\"}},\"id\":\"34059\",\"type\":\"GlyphRenderer\"},{\"attributes\":{\"data\":{\"NumericValue\":{\"__ndarray__\":\"zczMzMzMNEAAAAAAAIA0QM3MzMzMTDRAAAAAAAAANEDNzMzMzMwzQAAAAAAAgDNAMzMzMzMzM0AAAAAAAAAzQDMzMzMzszJAAAAAAACAMkAzMzMzMzMyQGZmZmZm5jFAMzMzMzOzMUBmZmZmZmYxQDMzMzMzMzFAAAAAAAAAMUDNzMzMzMwwQJqZmZmZmTBAZmZmZmZmMEAzMzMzMzMwQAAAAAAAADBAmpmZmZmZL0AzMzMzMzMvQM3MzMzMzC5AZmZmZmZmLkAAAAAAAAAuQJqZmZmZmS1AMzMzMzMzLUDNzMzMzMwsQGZmZmZmZixAAAAAAAAALECamZmZmZkrQDMzMzMzMytAmpmZmZmZKkAzMzMzMzMqQM3MzMzMzClAZmZmZmZmKUAAAAAAAAApQJqZmZmZmShAMzMzMzMzKEDNzMzMzMwnQGZmZmZmZidA\",\"dtype\":\"float64\",\"order\":\"little\",\"shape\":[42]},\"SpatialDimensionValueCode\":[\"WB_LI\",\"WB_LI\",\"WB_LI\",\"WB_LI\",\"WB_LI\",\"WB_LI\",\"WB_LI\",\"WB_LI\",\"WB_LI\",\"WB_LI\",\"WB_LI\",\"WB_LI\",\"WB_LI\",\"WB_LI\",\"WB_LI\",\"WB_LI\",\"WB_LI\",\"WB_LI\",\"WB_LI\",\"WB_LI\",\"WB_LI\",\"WB_LI\",\"WB_LI\",\"WB_LI\",\"WB_LI\",\"WB_LI\",\"WB_LI\",\"WB_LI\",\"WB_LI\",\"WB_LI\",\"WB_LI\",\"WB_LI\",\"WB_LI\",\"WB_LI\",\"WB_LI\",\"WB_LI\",\"WB_LI\",\"WB_LI\",\"WB_LI\",\"WB_LI\",\"WB_LI\",\"WB_LI\"],\"TimeDim\":[1975,1976,1977,1978,1979,1980,1981,1982,1983,1984,1985,1986,1987,1988,1989,1990,1991,1992,1993,1994,1995,1996,1997,1998,1999,2000,2001,2002,2003,2004,2005,2006,2007,2008,2009,2010,2011,2012,2013,2014,2015,2016]},\"selected\":{\"id\":\"34008\"},\"selection_policy\":{\"id\":\"34024\"}},\"id\":\"34007\",\"type\":\"ColumnDataSource\"},{\"attributes\":{\"end\":2016,\"margin\":[5,10,5,10],\"start\":1975,\"title\":\"Year slider\",\"value\":2016},\"id\":\"33940\",\"type\":\"Slider\"},{\"attributes\":{},\"id\":\"33968\",\"type\":\"PanTool\"},{\"attributes\":{\"line_alpha\":0.1,\"line_color\":\"#fc4f30\",\"line_width\":2,\"x\":{\"field\":\"TimeDim\"},\"y\":{\"field\":\"NumericValue\"}},\"id\":\"34011\",\"type\":\"Line\"},{\"attributes\":{},\"id\":\"34054\",\"type\":\"Selection\"},{\"attributes\":{\"end\":2016.0,\"reset_end\":2016.0,\"reset_start\":1975.0,\"start\":1975.0,\"tags\":[[[\"TimeDim\",\"TimeDim\",null]]]},\"id\":\"33944\",\"type\":\"Range1d\"},{\"attributes\":{},\"id\":\"33971\",\"type\":\"ResetTool\"},{\"attributes\":{},\"id\":\"34030\",\"type\":\"Selection\"},{\"attributes\":{\"data\":{\"NumericValue\":{\"__ndarray__\":\"MzMzMzOzO0AAAAAAAIA7QM3MzMzMTDtAAAAAAAAAO0DNzMzMzMw6QJqZmZmZmTpAZmZmZmZmOkCamZmZmRk6QGZmZmZm5jlAMzMzMzOzOUBmZmZmZmY5QDMzMzMzMzlAZmZmZmbmOEAzMzMzM7M4QAAAAAAAgDhAMzMzMzMzOEAAAAAAAAA4QDMzMzMzszdAAAAAAACAN0AzMzMzMzM3QAAAAAAAADdAzczMzMzMNkAAAAAAAIA2QDMzMzMzMzZAAAAAAAAANkAzMzMzM7M1QGZmZmZmZjVAMzMzMzMzNUBmZmZmZuY0QJqZmZmZmTRAzczMzMxMNEAAAAAAAAA0QDMzMzMzszNAZmZmZmZmM0CamZmZmRkzQM3MzMzMzDJAAAAAAACAMkAzMzMzMzMyQAAAAAAAADJAMzMzMzOzMUBmZmZmZmYxQJqZmZmZGTFA\",\"dtype\":\"float64\",\"order\":\"little\",\"shape\":[42]},\"SpatialDimensionValueCode\":[\"WB_LMI\",\"WB_LMI\",\"WB_LMI\",\"WB_LMI\",\"WB_LMI\",\"WB_LMI\",\"WB_LMI\",\"WB_LMI\",\"WB_LMI\",\"WB_LMI\",\"WB_LMI\",\"WB_LMI\",\"WB_LMI\",\"WB_LMI\",\"WB_LMI\",\"WB_LMI\",\"WB_LMI\",\"WB_LMI\",\"WB_LMI\",\"WB_LMI\",\"WB_LMI\",\"WB_LMI\",\"WB_LMI\",\"WB_LMI\",\"WB_LMI\",\"WB_LMI\",\"WB_LMI\",\"WB_LMI\",\"WB_LMI\",\"WB_LMI\",\"WB_LMI\",\"WB_LMI\",\"WB_LMI\",\"WB_LMI\",\"WB_LMI\",\"WB_LMI\",\"WB_LMI\",\"WB_LMI\",\"WB_LMI\",\"WB_LMI\",\"WB_LMI\",\"WB_LMI\"],\"TimeDim\":[1975,1976,1977,1978,1979,1980,1981,1982,1983,1984,1985,1986,1987,1988,1989,1990,1991,1992,1993,1994,1995,1996,1997,1998,1999,2000,2001,2002,2003,2004,2005,2006,2007,2008,2009,2010,2011,2012,2013,2014,2015,2016]},\"selected\":{\"id\":\"34030\"},\"selection_policy\":{\"id\":\"34048\"}},\"id\":\"34029\",\"type\":\"ColumnDataSource\"},{\"attributes\":{\"line_alpha\":0.2,\"line_color\":\"#fc4f30\",\"line_width\":2,\"x\":{\"field\":\"TimeDim\"},\"y\":{\"field\":\"NumericValue\"}},\"id\":\"34012\",\"type\":\"Line\"},{\"attributes\":{\"children\":[{\"id\":\"33937\"}],\"margin\":[0,0,0,0],\"name\":\"Row80799\"},\"id\":\"33936\",\"type\":\"Row\"},{\"attributes\":{\"axis\":{\"id\":\"33963\"},\"coordinates\":null,\"dimension\":1,\"grid_line_color\":null,\"group\":null,\"ticker\":null},\"id\":\"33966\",\"type\":\"Grid\"},{\"attributes\":{\"line_color\":\"#fc4f30\",\"line_width\":2,\"x\":{\"field\":\"TimeDim\"},\"y\":{\"field\":\"NumericValue\"}},\"id\":\"34028\",\"type\":\"Line\"},{\"attributes\":{},\"id\":\"33964\",\"type\":\"BasicTicker\"},{\"attributes\":{\"source\":{\"id\":\"33986\"}},\"id\":\"33993\",\"type\":\"CDSView\"},{\"attributes\":{\"line_alpha\":0.1,\"line_color\":\"#6d904f\",\"line_width\":2,\"x\":{\"field\":\"TimeDim\"},\"y\":{\"field\":\"NumericValue\"}},\"id\":\"34057\",\"type\":\"Line\"},{\"attributes\":{\"line_color\":\"#30a2da\",\"line_width\":2,\"x\":{\"field\":\"TimeDim\"},\"y\":{\"field\":\"NumericValue\"}},\"id\":\"33989\",\"type\":\"Line\"},{\"attributes\":{\"line_color\":\"#e5ae38\",\"line_width\":2,\"x\":{\"field\":\"TimeDim\"},\"y\":{\"field\":\"NumericValue\"}},\"id\":\"34052\",\"type\":\"Line\"},{\"attributes\":{\"children\":[{\"id\":\"33940\"},{\"id\":\"33941\"},{\"id\":\"33942\"}],\"margin\":[0,0,0,0],\"name\":\"Column80787\"},\"id\":\"33939\",\"type\":\"Column\"},{\"attributes\":{},\"id\":\"33957\",\"type\":\"LinearScale\"},{\"attributes\":{\"axis_label\":\"Years\",\"coordinates\":null,\"formatter\":{\"id\":\"33981\"},\"group\":null,\"major_label_policy\":{\"id\":\"33982\"},\"ticker\":{\"id\":\"33960\"}},\"id\":\"33959\",\"type\":\"LinearAxis\"},{\"attributes\":{},\"id\":\"33955\",\"type\":\"LinearScale\"},{\"attributes\":{},\"id\":\"33981\",\"type\":\"BasicTickFormatter\"},{\"attributes\":{},\"id\":\"34001\",\"type\":\"UnionRenderers\"},{\"attributes\":{\"children\":[{\"id\":\"33938\"},{\"id\":\"33950\"}],\"margin\":[0,0,0,0],\"name\":\"Column80798\"},\"id\":\"33937\",\"type\":\"Column\"},{\"attributes\":{\"callback\":null,\"renderers\":[{\"id\":\"33992\"},{\"id\":\"34013\"},{\"id\":\"34035\"},{\"id\":\"34059\"}],\"tags\":[\"hv_created\"],\"tooltips\":[[\"SpatialDimensionValueCode\",\"@{SpatialDimensionValueCode}\"],[\"TimeDim\",\"@{TimeDim}\"],[\"NumericValue\",\"@{NumericValue}\"]]},\"id\":\"33946\",\"type\":\"HoverTool\"},{\"attributes\":{},\"id\":\"33960\",\"type\":\"BasicTicker\"},{\"attributes\":{\"below\":[{\"id\":\"33959\"}],\"center\":[{\"id\":\"33962\"},{\"id\":\"33966\"}],\"height\":400,\"left\":[{\"id\":\"33963\"}],\"margin\":[5,5,5,5],\"min_border_bottom\":10,\"min_border_left\":10,\"min_border_right\":10,\"min_border_top\":10,\"renderers\":[{\"id\":\"33992\"},{\"id\":\"34013\"},{\"id\":\"34035\"},{\"id\":\"34059\"}],\"right\":[{\"id\":\"34004\"}],\"sizing_mode\":\"fixed\",\"title\":{\"id\":\"33951\"},\"toolbar\":{\"id\":\"33973\"},\"width\":800,\"x_range\":{\"id\":\"33944\"},\"x_scale\":{\"id\":\"33955\"},\"y_range\":{\"id\":\"33945\"},\"y_scale\":{\"id\":\"33957\"}},\"id\":\"33950\",\"subtype\":\"Figure\",\"type\":\"Plot\"},{\"attributes\":{},\"id\":\"34048\",\"type\":\"UnionRenderers\"},{\"attributes\":{\"label\":{\"value\":\"WB_LI\"},\"renderers\":[{\"id\":\"34013\"}]},\"id\":\"34027\",\"type\":\"LegendItem\"},{\"attributes\":{},\"id\":\"33984\",\"type\":\"BasicTickFormatter\"},{\"attributes\":{\"line_alpha\":0.1,\"line_color\":\"#e5ae38\",\"line_width\":2,\"x\":{\"field\":\"TimeDim\"},\"y\":{\"field\":\"NumericValue\"}},\"id\":\"34033\",\"type\":\"Line\"},{\"attributes\":{},\"id\":\"33967\",\"type\":\"SaveTool\"},{\"attributes\":{\"line_color\":\"#fc4f30\",\"line_width\":2,\"x\":{\"field\":\"TimeDim\"},\"y\":{\"field\":\"NumericValue\"}},\"id\":\"34010\",\"type\":\"Line\"},{\"attributes\":{\"client_comm_id\":\"dc2f009ff4954eb4bc0ab4d0c3faa799\",\"comm_id\":\"57690e3eed0042079f793078bdf3c9b4\",\"plot_id\":\"33936\"},\"id\":\"34147\",\"type\":\"panel.models.comm_manager.CommManager\"},{\"attributes\":{\"line_alpha\":0.2,\"line_color\":\"#30a2da\",\"line_width\":2,\"x\":{\"field\":\"TimeDim\"},\"y\":{\"field\":\"NumericValue\"}},\"id\":\"33991\",\"type\":\"Line\"},{\"attributes\":{\"active\":0,\"button_type\":\"success\",\"labels\":[\"NumericValue\",\"Low\",\"High\"],\"margin\":[5,10,5,10]},\"id\":\"33942\",\"type\":\"RadioButtonGroup\"},{\"attributes\":{\"end\":30.16,\"reset_end\":30.16,\"reset_start\":0.6400000000000001,\"start\":0.6400000000000001,\"tags\":[[[\"NumericValue\",\"NumericValue\",null]]]},\"id\":\"33945\",\"type\":\"Range1d\"},{\"attributes\":{},\"id\":\"34074\",\"type\":\"UnionRenderers\"},{\"attributes\":{\"bottom_units\":\"screen\",\"coordinates\":null,\"fill_alpha\":0.5,\"fill_color\":\"lightgrey\",\"group\":null,\"left_units\":\"screen\",\"level\":\"overlay\",\"line_alpha\":1.0,\"line_color\":\"black\",\"line_dash\":[4,4],\"line_width\":2,\"right_units\":\"screen\",\"syncable\":false,\"top_units\":\"screen\"},\"id\":\"33972\",\"type\":\"BoxAnnotation\"},{\"attributes\":{\"line_color\":\"#30a2da\",\"line_width\":2,\"x\":{\"field\":\"TimeDim\"},\"y\":{\"field\":\"NumericValue\"}},\"id\":\"34006\",\"type\":\"Line\"},{\"attributes\":{\"source\":{\"id\":\"34007\"}},\"id\":\"34014\",\"type\":\"CDSView\"},{\"attributes\":{\"coordinates\":null,\"group\":null,\"text\":\"Age-standardised prevalence of underweight adults (BMI <18 kg/m2) by income groups\",\"text_color\":\"black\",\"text_font_size\":\"12pt\"},\"id\":\"33951\",\"type\":\"Title\"},{\"attributes\":{\"data\":{\"NumericValue\":{\"__ndarray__\":\"MzMzMzMzJkAAAAAAAAAmQJqZmZmZmSVAMzMzMzMzJUDNzMzMzMwkQGZmZmZmZiRAAAAAAAAAJECamZmZmZkjQDMzMzMzMyNAzczMzMzMIkBmZmZmZmYiQDMzMzMzMyJAzczMzMzMIUBmZmZmZmYhQDMzMzMzMyFAzczMzMzMIEBmZmZmZmYgQDMzMzMzMyBAmpmZmZmZH0AzMzMzMzMfQGZmZmZmZh5AAAAAAAAAHkAzMzMzMzMdQM3MzMzMzBxAZmZmZmZmHECamZmZmZkbQDMzMzMzMxtAZmZmZmZmGkAAAAAAAAAaQJqZmZmZmRlAzczMzMzMGEBmZmZmZmYYQAAAAAAAABhAMzMzMzMzF0DNzMzMzMwWQGZmZmZmZhZAmpmZmZmZFUAzMzMzMzMVQM3MzMzMzBRAZmZmZmZmFEAAAAAAAAAUQJqZmZmZmRNA\",\"dtype\":\"float64\",\"order\":\"little\",\"shape\":[42]},\"SpatialDimensionValueCode\":[\"WB_UMI\",\"WB_UMI\",\"WB_UMI\",\"WB_UMI\",\"WB_UMI\",\"WB_UMI\",\"WB_UMI\",\"WB_UMI\",\"WB_UMI\",\"WB_UMI\",\"WB_UMI\",\"WB_UMI\",\"WB_UMI\",\"WB_UMI\",\"WB_UMI\",\"WB_UMI\",\"WB_UMI\",\"WB_UMI\",\"WB_UMI\",\"WB_UMI\",\"WB_UMI\",\"WB_UMI\",\"WB_UMI\",\"WB_UMI\",\"WB_UMI\",\"WB_UMI\",\"WB_UMI\",\"WB_UMI\",\"WB_UMI\",\"WB_UMI\",\"WB_UMI\",\"WB_UMI\",\"WB_UMI\",\"WB_UMI\",\"WB_UMI\",\"WB_UMI\",\"WB_UMI\",\"WB_UMI\",\"WB_UMI\",\"WB_UMI\",\"WB_UMI\",\"WB_UMI\"],\"TimeDim\":[1975,1976,1977,1978,1979,1980,1981,1982,1983,1984,1985,1986,1987,1988,1989,1990,1991,1992,1993,1994,1995,1996,1997,1998,1999,2000,2001,2002,2003,2004,2005,2006,2007,2008,2009,2010,2011,2012,2013,2014,2015,2016]},\"selected\":{\"id\":\"34054\"},\"selection_policy\":{\"id\":\"34074\"}},\"id\":\"34053\",\"type\":\"ColumnDataSource\"},{\"attributes\":{\"line_color\":\"#6d904f\",\"line_width\":2,\"x\":{\"field\":\"TimeDim\"},\"y\":{\"field\":\"NumericValue\"}},\"id\":\"34078\",\"type\":\"Line\"},{\"attributes\":{\"line_color\":\"#6d904f\",\"line_width\":2,\"x\":{\"field\":\"TimeDim\"},\"y\":{\"field\":\"NumericValue\"}},\"id\":\"34056\",\"type\":\"Line\"},{\"attributes\":{},\"id\":\"33987\",\"type\":\"Selection\"},{\"attributes\":{},\"id\":\"34008\",\"type\":\"Selection\"},{\"attributes\":{\"source\":{\"id\":\"34029\"}},\"id\":\"34036\",\"type\":\"CDSView\"},{\"attributes\":{},\"id\":\"33985\",\"type\":\"AllLabels\"},{\"attributes\":{},\"id\":\"33969\",\"type\":\"WheelZoomTool\"},{\"attributes\":{},\"id\":\"34024\",\"type\":\"UnionRenderers\"},{\"attributes\":{\"margin\":[5,10,5,10],\"options\":[\"BTSX\",\"FMLE\",\"MLE\"],\"title\":\"DisaggregatingDimension1ValueCode\",\"value\":\"FMLE\"},\"id\":\"33941\",\"type\":\"panel.models.widgets.CustomSelect\"},{\"attributes\":{\"label\":{\"value\":\"WB_HI\"},\"renderers\":[{\"id\":\"33992\"}]},\"id\":\"34005\",\"type\":\"LegendItem\"},{\"attributes\":{\"coordinates\":null,\"data_source\":{\"id\":\"34029\"},\"glyph\":{\"id\":\"34032\"},\"group\":null,\"hover_glyph\":null,\"muted_glyph\":{\"id\":\"34034\"},\"nonselection_glyph\":{\"id\":\"34033\"},\"selection_glyph\":{\"id\":\"34052\"},\"view\":{\"id\":\"34036\"}},\"id\":\"34035\",\"type\":\"GlyphRenderer\"},{\"attributes\":{\"line_color\":\"#e5ae38\",\"line_width\":2,\"x\":{\"field\":\"TimeDim\"},\"y\":{\"field\":\"NumericValue\"}},\"id\":\"34032\",\"type\":\"Line\"},{\"attributes\":{\"click_policy\":\"mute\",\"coordinates\":null,\"group\":null,\"items\":[{\"id\":\"34005\"},{\"id\":\"34027\"},{\"id\":\"34051\"},{\"id\":\"34077\"}],\"location\":[0,0],\"title\":\"SpatialDimensionValueCode\"},\"id\":\"34004\",\"type\":\"Legend\"},{\"attributes\":{\"line_alpha\":0.1,\"line_color\":\"#30a2da\",\"line_width\":2,\"x\":{\"field\":\"TimeDim\"},\"y\":{\"field\":\"NumericValue\"}},\"id\":\"33990\",\"type\":\"Line\"},{\"attributes\":{\"coordinates\":null,\"data_source\":{\"id\":\"34007\"},\"glyph\":{\"id\":\"34010\"},\"group\":null,\"hover_glyph\":null,\"muted_glyph\":{\"id\":\"34012\"},\"nonselection_glyph\":{\"id\":\"34011\"},\"selection_glyph\":{\"id\":\"34028\"},\"view\":{\"id\":\"34014\"}},\"id\":\"34013\",\"type\":\"GlyphRenderer\"},{\"attributes\":{\"children\":[{\"id\":\"33939\"},{\"id\":\"33943\"}],\"margin\":[0,0,0,0],\"name\":\"Row80792\"},\"id\":\"33938\",\"type\":\"Row\"},{\"attributes\":{\"data\":{\"NumericValue\":{\"__ndarray__\":\"mpmZmZmZFUAzMzMzMzMVQM3MzMzMzBRAZmZmZmZmFEAAAAAAAAAUQJqZmZmZmRNAMzMzMzMzE0DNzMzMzMwSQM3MzMzMzBJAZmZmZmZmEkAAAAAAAAASQJqZmZmZmRFAmpmZmZmZEUAzMzMzMzMRQM3MzMzMzBBAzczMzMzMEEBmZmZmZmYQQGZmZmZmZhBAAAAAAAAAEEAAAAAAAAAQQDMzMzMzMw9AMzMzMzMzD0BmZmZmZmYOQGZmZmZmZg5AmpmZmZmZDUCamZmZmZkNQM3MzMzMzAxAzczMzMzMDEAAAAAAAAAMQAAAAAAAAAxAMzMzMzMzC0AzMzMzMzMLQDMzMzMzMwtAZmZmZmZmCkBmZmZmZmYKQJqZmZmZmQlAmpmZmZmZCUCamZmZmZkJQM3MzMzMzAhAzczMzMzMCEDNzMzMzMwIQM3MzMzMzAhA\",\"dtype\":\"float64\",\"order\":\"little\",\"shape\":[42]},\"SpatialDimensionValueCode\":[\"WB_HI\",\"WB_HI\",\"WB_HI\",\"WB_HI\",\"WB_HI\",\"WB_HI\",\"WB_HI\",\"WB_HI\",\"WB_HI\",\"WB_HI\",\"WB_HI\",\"WB_HI\",\"WB_HI\",\"WB_HI\",\"WB_HI\",\"WB_HI\",\"WB_HI\",\"WB_HI\",\"WB_HI\",\"WB_HI\",\"WB_HI\",\"WB_HI\",\"WB_HI\",\"WB_HI\",\"WB_HI\",\"WB_HI\",\"WB_HI\",\"WB_HI\",\"WB_HI\",\"WB_HI\",\"WB_HI\",\"WB_HI\",\"WB_HI\",\"WB_HI\",\"WB_HI\",\"WB_HI\",\"WB_HI\",\"WB_HI\",\"WB_HI\",\"WB_HI\",\"WB_HI\",\"WB_HI\"],\"TimeDim\":[1975,1976,1977,1978,1979,1980,1981,1982,1983,1984,1985,1986,1987,1988,1989,1990,1991,1992,1993,1994,1995,1996,1997,1998,1999,2000,2001,2002,2003,2004,2005,2006,2007,2008,2009,2010,2011,2012,2013,2014,2015,2016]},\"selected\":{\"id\":\"33987\"},\"selection_policy\":{\"id\":\"34001\"}},\"id\":\"33986\",\"type\":\"ColumnDataSource\"},{\"attributes\":{\"coordinates\":null,\"data_source\":{\"id\":\"33986\"},\"glyph\":{\"id\":\"33989\"},\"group\":null,\"hover_glyph\":null,\"muted_glyph\":{\"id\":\"33991\"},\"nonselection_glyph\":{\"id\":\"33990\"},\"selection_glyph\":{\"id\":\"34006\"},\"view\":{\"id\":\"33993\"}},\"id\":\"33992\",\"type\":\"GlyphRenderer\"},{\"attributes\":{\"label\":{\"value\":\"WB_LMI\"},\"renderers\":[{\"id\":\"34035\"}]},\"id\":\"34051\",\"type\":\"LegendItem\"},{\"attributes\":{\"active_drag\":{\"id\":\"33968\"},\"active_scroll\":{\"id\":\"33969\"},\"tools\":[{\"id\":\"33946\"},{\"id\":\"33967\"},{\"id\":\"33968\"},{\"id\":\"33969\"},{\"id\":\"33970\"},{\"id\":\"33971\"}]},\"id\":\"33973\",\"type\":\"Toolbar\"},{\"attributes\":{\"line_alpha\":0.2,\"line_color\":\"#6d904f\",\"line_width\":2,\"x\":{\"field\":\"TimeDim\"},\"y\":{\"field\":\"NumericValue\"}},\"id\":\"34058\",\"type\":\"Line\"},{\"attributes\":{\"line_alpha\":0.2,\"line_color\":\"#e5ae38\",\"line_width\":2,\"x\":{\"field\":\"TimeDim\"},\"y\":{\"field\":\"NumericValue\"}},\"id\":\"34034\",\"type\":\"Line\"}],\"root_ids\":[\"33936\",\"34147\"]},\"title\":\"Bokeh Application\",\"version\":\"2.4.3\"}};\n",
       "    var render_items = [{\"docid\":\"064fb059-d490-44e5-a39f-8da3b9fa53b0\",\"root_ids\":[\"33936\"],\"roots\":{\"33936\":\"66f55e5a-27c6-4e10-bff2-0cb99e4d8ee3\"}}];\n",
       "    root.Bokeh.embed.embed_items_notebook(docs_json, render_items);\n",
       "    for (const render_item of render_items) {\n",
       "      for (const root_id of render_item.root_ids) {\n",
       "\tconst id_el = document.getElementById(root_id)\n",
       "\tif (id_el.children.length && (id_el.children[0].className === 'bk-root')) {\n",
       "\t  const root_el = id_el.children[0]\n",
       "\t  root_el.id = root_el.id + '-rendered'\n",
       "\t}\n",
       "      }\n",
       "    }\n",
       "  }\n",
       "  if (root.Bokeh !== undefined && root.Bokeh.Panel !== undefined && ( root['Tabulator'] !== undefined) && ( root['Tabulator'] !== undefined)) {\n",
       "    embed_document(root);\n",
       "  } else {\n",
       "    var attempts = 0;\n",
       "    var timer = setInterval(function(root) {\n",
       "      if (root.Bokeh !== undefined && root.Bokeh.Panel !== undefined && (root['Tabulator'] !== undefined) && (root['Tabulator'] !== undefined)) {\n",
       "        clearInterval(timer);\n",
       "        embed_document(root);\n",
       "      } else if (document.readyState == \"complete\") {\n",
       "        attempts++;\n",
       "        if (attempts > 200) {\n",
       "          clearInterval(timer);\n",
       "          console.log(\"Bokeh: ERROR: Unable to run BokehJS code because BokehJS library is missing\");\n",
       "        }\n",
       "      }\n",
       "    }, 25, root)\n",
       "  }\n",
       "})(window);</script>"
      ],
      "text/plain": [
       "<hvplot.interactive.Interactive at 0x7fde5d561a00>"
      ]
     },
     "execution_count": 100,
     "metadata": {
      "application/vnd.holoviews_exec.v0+json": {
       "id": "33936"
      }
     },
     "output_type": "execute_result"
    }
   ],
   "source": [
    "# Creating a chart for underweight adults\n",
    "bmi_under_adult_plot = bmi_under_adult_pipeline.hvplot(x = 'TimeDim', \n",
    "                                       by = 'SpatialDimensionValueCode', \n",
    "                                       y = yaxis_prevalence, \n",
    "                                       xlabel = \"Years\",\n",
    "                                       ylabel = \"Prevalence (%)\",\n",
    "                                       line_width = 2, \n",
    "                                       title = 'Age-standardised prevalence of underweight adults (BMI <18 kg/m2) by income groups', \n",
    "                                       width = 800, height = 400)\n",
    "bmi_under_adult_plot"
   ]
  },
  {
   "cell_type": "code",
   "execution_count": 101,
   "id": "87b00f8e-21e3-4efe-b018-0ecf5f4687fb",
   "metadata": {
    "tags": []
   },
   "outputs": [
    {
     "name": "stderr",
     "output_type": "stream",
     "text": [
      "WARNING:param.FastListTemplate80931: Setting non-parameter attribute header_base_color=#88d8b0 using a mechanism intended only for parameters\n"
     ]
    },
    {
     "name": "stdout",
     "output_type": "stream",
     "text": [
      "Launching server at http://localhost:53117\n"
     ]
    },
    {
     "data": {
      "text/plain": [
       "<panel.io.server.Server at 0x7fde5d17b280>"
      ]
     },
     "execution_count": 101,
     "metadata": {},
     "output_type": "execute_result"
    }
   ],
   "source": [
    "# Creating the dashboard\n",
    "template = pn.template.FastListTemplate(\n",
    "    title = 'Global Obesity Prevalence',\n",
    "    sidebar = [pn.pane.Markdown(\"Global prevalence of overweight and underweight people\"),\n",
    "              pn.pane.Markdown(\"#### Increased income and globalisation has led to an explosion of readily-available foods.\"),\n",
    "              pn.pane.JPG('fast-food-junk-food-concept.jpg', sizing_mode = 'scale_both'),\n",
    "              pn.pane.Markdown(\"##Settings\"),\n",
    "              year_slider,\n",
    "              sex_menu,\n",
    "              pn.pane.Markdown(\"#### Data used for this analysis is from \")],\n",
    "    main = [pn.Row(pn.Column(yaxis_prevalence, bmi_all_plot.panel(width = 800, height = 300), margin = (0, 25))),\n",
    "            pn.Row(pn.Column(yaxis_prevalence, bmi_over_adult_plot.panel(width = 800, height = 300), margin = (0, 25))),\n",
    "            pn.Row(pn.Column(yaxis_prevalence, bmi_under_adult_plot.panel(width = 800, height = 300), margin = (0, 25)))],\n",
    "    accent_base_color = \"#88d8b0\",\n",
    "    header_base_color = \"#88d8b0\",\n",
    ")\n",
    "template.show()\n",
    "#template.servable()"
   ]
  },
  {
   "cell_type": "code",
   "execution_count": null,
   "id": "b7529251-d275-48d8-b1fe-fc9676c7102e",
   "metadata": {},
   "outputs": [],
   "source": []
  }
 ],
 "metadata": {
  "kernelspec": {
   "display_name": "Python 3 (ipykernel)",
   "language": "python",
   "name": "python3"
  },
  "language_info": {
   "codemirror_mode": {
    "name": "ipython",
    "version": 3
   },
   "file_extension": ".py",
   "mimetype": "text/x-python",
   "name": "python",
   "nbconvert_exporter": "python",
   "pygments_lexer": "ipython3",
   "version": "3.11.2"
  }
 },
 "nbformat": 4,
 "nbformat_minor": 5
}
