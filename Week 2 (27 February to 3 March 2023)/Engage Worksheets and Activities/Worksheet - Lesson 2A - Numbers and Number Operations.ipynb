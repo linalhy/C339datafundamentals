{
 "cells": [
  {
   "cell_type": "markdown",
   "metadata": {},
   "source": [
    "# Worksheet: Numbers and Number Operations\n",
    "This worksheet includes the practice activities for *Lesson 2A: Numbers and Number Operations* in the online course. Refer to that lesson as necessary to complete these activities."
   ]
  },
  {
   "cell_type": "markdown",
   "metadata": {},
   "source": [
    "## Practice 1 \n",
    "Create these variables:\n",
    "* One variable to store the number of days in a year\n",
    "* One variable to store the number of minutes in a day\n",
    "* Two variables to store the latitude and longitude of the city where you live \n",
    "\n",
    "You can use the [LatLong.net](https://www.latlong.net/) website to retrieve the latitude and longitude values of your city. "
   ]
  },
  {
   "cell_type": "code",
   "execution_count": null,
   "metadata": {
    "collapsed": true
   },
   "outputs": [],
   "source": [
    "# your code here\n",
    "\n",
    "daysYear = 2023\n",
    "minsDay = (60*60) * 24\n",
    "latVal = 1.553504\n",
    "longVal = 110.359291"
   ]
  },
  {
   "cell_type": "markdown",
   "metadata": {},
   "source": [
    "## Practice 2\n",
    "* Modify the code below so that Python displays the type for each of the variables.\n",
    "* Create a new variable that uses only numeric characters, but define it as a string. Use `type` to verify that Python treats it as a string."
   ]
  },
  {
   "cell_type": "code",
   "execution_count": 2,
   "metadata": {},
   "outputs": [
    {
     "name": "stdout",
     "output_type": "stream",
     "text": [
      "<class 'int'>\n",
      "<class 'float'>\n",
      "<class 'complex'>\n",
      "<class 'str'>\n"
     ]
    }
   ],
   "source": [
    "age = 33 #integer \n",
    "tax_rate = 0.06  #float type\n",
    "coordinates = 1+3.4j #complex type z : a+b*j\n",
    "\n",
    "print(type(age))\n",
    "print(type(tax_rate))\n",
    "print(type(coordinates))\n",
    "\n",
    "someStrings = str(34095834)\n",
    "print(type(someStrings))"
   ]
  },
  {
   "cell_type": "markdown",
   "metadata": {},
   "source": [
    "## Practice 3\n",
    "Create a Python script that starts with three declared values, `a`, `b`, and `c`, with numeric values of your choice.\n",
    "\n",
    "Using those values, perform the following calculations and print the results of each:\n",
    "\n",
    "* `a` plus `b` minus `c`\n",
    "* `a` minus `b` times `c`\n",
    "* `a` divided by `b` divided by `c`\n",
    "* The remainder of `a` divided by `b` to the power of `c`\n",
    "* `a` plus `c` divided by `b`"
   ]
  },
  {
   "cell_type": "code",
   "execution_count": 9,
   "metadata": {
    "collapsed": true
   },
   "outputs": [
    {
     "name": "stdout",
     "output_type": "stream",
     "text": [
      "0\n",
      "-3\n",
      "0.16666666666666666\n",
      "1\n",
      "2.0\n"
     ]
    }
   ],
   "source": [
    "# your code here\n",
    "a = 1\n",
    "b = 2\n",
    "c = 3\n",
    "d = a % b\n",
    "\n",
    "print(f\"{a+b-c}\")\n",
    "print(f\"{(a - b) * c}\")\n",
    "print(f\"{(a / b) / c}\")\n",
    "print(f\"{(d ** c)}\")\n",
    "print(f\"{(a + c) / b}\")"
   ]
  },
  {
   "cell_type": "markdown",
   "metadata": {},
   "source": [
    "## Practice 4\n",
    "Create a Python script that starts with three declared values, `a`, `b`, and `c`, with numeric values of your choice.\n",
    "\n",
    "Using those values, perform the following calculations and print the results of each. For each calculation, use a single statement that executes the operations in the order described here:\n",
    "\n",
    "* `c` plus `a`, minus `b`\n",
    "* `c` minus `a`, times `b`\n",
    "* `c` divided by `a`, with the result divided by `b`\n",
    "* The remainder of `c` divided by `a`, then the remainder to the power of `b`\n",
    "* `c` plus `b`, divided by `a`\n"
   ]
  },
  {
   "cell_type": "code",
   "execution_count": 10,
   "metadata": {},
   "outputs": [
    {
     "name": "stdout",
     "output_type": "stream",
     "text": [
      "2, 4, 1.5, 0, 5.0\n"
     ]
    }
   ],
   "source": [
    "a = 1\n",
    "b = 2\n",
    "c = 3\n",
    "\n",
    "print(f\"{c + a - b}, {(c - a) * b}, {(c / a) / b}, {(c % a) ** b}, {(c + b) / a}\")"
   ]
  },
  {
   "cell_type": "markdown",
   "metadata": {},
   "source": [
    "## Practice 5\n",
    "Create a series of variables, `a`, `b`, and `c`, using float values of your choice.\n",
    "\n",
    "Create expressions that perform the following calculations:\n",
    "* `a` multiplied by `c`, with the result rounded up to the closest integer\n",
    "* `a` divided by `b`, with the result rounded down to the closest integer\n",
    "* The square root of `b`, rounded to three decimal places\n",
    "* `c` plus `b`, divided by `a`, with the result rounded up to the closest integer\n",
    "* The binary equivalent of `b` rounded to the closest integer"
   ]
  },
  {
   "cell_type": "code",
   "execution_count": 14,
   "metadata": {},
   "outputs": [
    {
     "name": "stdout",
     "output_type": "stream",
     "text": [
      "4\n",
      "0\n",
      "1.667\n",
      "5\n",
      "0b11\n"
     ]
    }
   ],
   "source": [
    "a = 1.25\n",
    "b = 2.78\n",
    "c = 3.0894\n",
    "\n",
    "print(round(a * c))\n",
    "print(round(a / b))\n",
    "print(round((b ** 0.5), 3))\n",
    "print(round((c + b)/ a))\n",
    "print((bin(round(b))))\n",
    "\n"
   ]
  },
  {
   "cell_type": "markdown",
   "metadata": {},
   "source": [
    "## Practice 6\n",
    "Create a Python script that performs the following steps: \n",
    "* Assign a floating point number of your choice to a variable `num1`.\n",
    "* Round `num1` up to the nearest integer and stores the result in a variable `a`.\n",
    "* Assign a second floating point number of your choice to a variable `num2`.\n",
    "* Round `num2` down to the nearest integer and store the result in a variable `b`.\n",
    "* Print the sum of `a` and `b`."
   ]
  },
  {
   "cell_type": "code",
   "execution_count": 15,
   "metadata": {
    "collapsed": true
   },
   "outputs": [
    {
     "name": "stdout",
     "output_type": "stream",
     "text": [
      "The sum of a and b is 7\n"
     ]
    }
   ],
   "source": [
    "num1 = 1.678\n",
    "a = round(num1)\n",
    "\n",
    "num2 = 5.378\n",
    "b = round(num2)\n",
    "\n",
    "print(f\"The sum of a and b is {a+b}\")"
   ]
  },
  {
   "cell_type": "markdown",
   "metadata": {},
   "source": [
    "## Practice 7a\n",
    "Create a script that performs the following steps:\n",
    "1. Prompt the user for a four-digit year.\n",
    "1. Prompt the user to enter an integer of their choice.\n",
    "1. Display the year it will be after that many years from the original input year, with an appropriate feedback message.\n",
    "\n",
    "For example, if the user inputs 2020 and 42, the result should be 2062."
   ]
  },
  {
   "cell_type": "code",
   "execution_count": 16,
   "metadata": {},
   "outputs": [
    {
     "name": "stdout",
     "output_type": "stream",
     "text": [
      "The sum of your favourite year and number is 1939\n"
     ]
    }
   ],
   "source": [
    "year = int(input(\"Ener your favourite year: \"))\n",
    "num = int(input(\"Enter your favourite number: \"))\n",
    "\n",
    "sum = year + num\n",
    "\n",
    "print(f\"The sum of your favourite year and number is {sum}.\")"
   ]
  },
  {
   "cell_type": "markdown",
   "metadata": {},
   "source": [
    "## Practice 7b\n",
    "Create a script that calculates the sales tax on a purchase and displays the total purchase price.\n",
    "1. Prompt the user for a pre-tax total.\n",
    "1. Prompt the user for the local sales tax.\n",
    "1. Multiply the pre-tax total by the local sales tax and add the result to the pre-tax total.\n",
    "1. Display the total price to the user with an appropriate feedback message.\n",
    "\n",
    "**Tip**: Think about whether `int()` or `float()` would be better here. Why?"
   ]
  },
  {
   "cell_type": "code",
   "execution_count": 23,
   "metadata": {},
   "outputs": [
    {
     "name": "stdout",
     "output_type": "stream",
     "text": [
      "Your pre-tax total is 123.56 EUR.\n",
      "Your sales tax is 19.0%\n",
      "Therefore, your total price is 123.8 EUR.\n"
     ]
    }
   ],
   "source": [
    "preTax = float(input(\"What is your pre-tax total?\"))\n",
    "salesTax = float(input(\"What is your local sales tax (%)?\"))\n",
    "\n",
    "totalPrice = round((preTax * (salesTax/100)) + preTax, 1)\n",
    "\n",
    "print(f\"Your pre-tax total is {preTax} EUR.\")\n",
    "print(f\"Your sales tax is {salesTax * 100}%\")\n",
    "print(f\"Therefore, your total price is {totalPrice} EUR.\")"
   ]
  }
 ],
 "metadata": {
  "kernelspec": {
   "display_name": "Python 3.9.13 ('base')",
   "language": "python",
   "name": "python3"
  },
  "language_info": {
   "codemirror_mode": {
    "name": "ipython",
    "version": 3
   },
   "file_extension": ".py",
   "mimetype": "text/x-python",
   "name": "python",
   "nbconvert_exporter": "python",
   "pygments_lexer": "ipython3",
   "version": "3.9.13"
  },
  "vscode": {
   "interpreter": {
    "hash": "c641f30c3153c9b0b4d8325f69d8d0cc6bb6304f4c4d7ae077e8c56261f67af4"
   }
  }
 },
 "nbformat": 4,
 "nbformat_minor": 2
}
