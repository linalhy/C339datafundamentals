{
 "cells": [
  {
   "cell_type": "markdown",
   "metadata": {},
   "source": [
    "# Module 1 - Lesson 2 Activities\n",
    "The activities here will give you the opportunity to practice the skills and tools presented in Lesson 2, with the following objectives:\n",
    "1. Demonstrate the use of a variety of data types in Python, including numbers, booleans, and strings.\n",
    "1. Distinguish between float values, integers, and complex numbers.\n",
    "1. Use Python to perform operations using numbers.\n",
    "1. Use Python to perform logic operations using booleans.\n",
    "1. Use Python to manipulate string values.\n",
    "\n",
    "Software development skills build on each other, so many of the activities here will also require skills and tools presented in earlier lessons."
   ]
  },
  {
   "cell_type": "markdown",
   "metadata": {},
   "source": [
    "## Activity 1\n",
    "Create a program that prompts the user to enter a number and then displays the type of the number entered (e.g., complex, integer, or float). \n",
    "\n",
    "For example, if the user enters `6`, the output should be `int` (for integer). "
   ]
  },
  {
   "cell_type": "code",
   "execution_count": 2,
   "metadata": {},
   "outputs": [
    {
     "name": "stdout",
     "output_type": "stream",
     "text": [
      "<class 'int'>\n"
     ]
    }
   ],
   "source": [
    "# your code here\n",
    "number = int(input(\"Enter a number:\"))\n",
    "print (type(number))"
   ]
  },
  {
   "cell_type": "markdown",
   "metadata": {},
   "source": [
    "## Activity 2\n",
    "Update the code below so that the result is equal to 576. Do not change any of the existing values or operators or the order in which they appear."
   ]
  },
  {
   "cell_type": "code",
   "execution_count": 6,
   "metadata": {},
   "outputs": [
    {
     "name": "stdout",
     "output_type": "stream",
     "text": [
      "576\n"
     ]
    }
   ],
   "source": [
    "# do not change the order in which the numbers and operators appear in the next line\n",
    "result = 5 + 3 ** 2 * 9 \n",
    "\n",
    "# solution:\n",
    "result = ((5 + 3) ** 2) * 9\n",
    "\n",
    "print(result) # the output should be 576"
   ]
  },
  {
   "cell_type": "markdown",
   "metadata": {},
   "source": [
    "## Activity 3\n",
    "Create a program that prompts the user for a float number and returns the integer portion of the floating number."
   ]
  },
  {
   "cell_type": "code",
   "execution_count": 11,
   "metadata": {},
   "outputs": [
    {
     "name": "stdout",
     "output_type": "stream",
     "text": [
      "The integer portion of your float number is 36\n"
     ]
    }
   ],
   "source": [
    "# your code here\n",
    "\n",
    "floatNumber = float(input(\" Enter a float number:\"))\n",
    "floatNumberInt = round(floatNumber)\n",
    "print(f\"The integer portion of your float number is {floatNumberInt}\")"
   ]
  },
  {
   "cell_type": "markdown",
   "metadata": {},
   "source": [
    "## Activity 4\n",
    "Write a program that calculates and displays the current value of an investment for a given initial deposit, interest rate, the number of times interest is calculated per year, and the number of years since the initial deposit.\n",
    "\n",
    "The program should prompt the user for each of the values and use the following formula to calculate the current value of the deposit:\n",
    "\n",
    "    V = P(1 + r/n)^nt\n",
    "    \n",
    "Where each letter represents concepts listed below:\n",
    "* `V`: Value\n",
    "* `P`: Initial deposit\n",
    "* `r`: Interest rate as a fraction (e.g., 0.05)\n",
    "* `n`: Number of times per year interest is calculated\n",
    "* `t`: Number of years since the initial deposit\n",
    "\t\n",
    "\t    \n",
    "The program should show the user the results of the calculation and each of the input values in a meaningful way (so that the user can easily tell what each value represents)."
   ]
  },
  {
   "cell_type": "code",
   "execution_count": null,
   "metadata": {},
   "outputs": [],
   "source": [
    "# your code here\n",
    "P = int(input(\"Enter your initial deposit:\"))\n",
    "r = float(input(\"What is the interest rate per year (e.g. 0.05)?\"))\n",
    "n = int(input(\"How many times per year is interest calculated?\"))\n",
    "t = int(input(\"How many years has it been since your initial deposit?\"))\n",
    "\n",
    "currentDepositValue = round(P * ((1 + (r/n))**(n*t)), 2)\n",
    "\n",
    "print(f\"Your initial deposit: {P}\")\n",
    "print(f\"Your interest rate per year: {r}\")\n",
    "print(f\"Your interest is calculated {n} times per year\")\n",
    "print(f\"It has been {t} years since your initial deposit\")\n",
    "print(\"\")\n",
    "print(f\"Your current deposit value is {currentDepositValue}!\")"
   ]
  },
  {
   "cell_type": "markdown",
   "metadata": {},
   "source": [
    "## Activity 5\n",
    "Write a program that prompts the user for a principal amount, the rate of interest, and the number of days for a loan, and then calculates and returns the simple interest for the life of the loan. Use the formula below:\n",
    "\n",
    "    interest = principal * rate * days / 365"
   ]
  },
  {
   "cell_type": "code",
   "execution_count": null,
   "metadata": {},
   "outputs": [],
   "source": [
    "# your code here\n",
    "\n",
    "principal = int(input(\"What is your principal amount?\"))\n",
    "rate = float(input(\"What is your interest rate (e.g. 0.05)?\"))\n",
    "days = int(input(\"For how many days is your loan?\"))\n",
    "\n",
    "interest = (principal * rate * days) / 365\n",
    "\n",
    "print(f\"Your interest for the loan lasting {days} is {interest}\")"
   ]
  },
  {
   "cell_type": "markdown",
   "metadata": {},
   "source": [
    "## Activity 6\n",
    "Create a program that displays three statements that evaluate to True and three statements that evaluate to False.\n",
    "\n",
    "Example:\n",
    "\n",
    "    a = 0\n",
    "    b = 1 \n",
    "    \n",
    "    Output: a < b = True"
   ]
  },
  {
   "cell_type": "code",
   "execution_count": null,
   "metadata": {},
   "outputs": [],
   "source": [
    "# your code here\n",
    "\n",
    "a = 15\n",
    "b = 20\n",
    "\n",
    "print(\"Is a greater than b?\", a > b)\n",
    "print(\"Is a equal to b?\", a == b)\n",
    "print(\"Is a identical to b?\", a is b)\n",
    "print(\"\")\n",
    "print(\"Is a smaller than b?\", a < b)\n",
    "print(\"Is a smaller or equal to b?\", a <= b)\n",
    "print(\"Is a not equal to b?\", a != b)"
   ]
  },
  {
   "cell_type": "markdown",
   "metadata": {},
   "source": [
    "## Activity 7\n",
    "Create a program that prompts the user for a number and calculates the following:\n",
    "* The boolean of the number entered\n",
    "* The binary equivalent of the number entered\n",
    "* The square root of the number entered\n",
    "\n",
    "The program should display the following to the user:\n",
    "* The number the user entered, in a phrase like, \"You selected `value`.\"\n",
    "* The boolean of the number, in a phrase like, \"The boolean of your number is `value`.\"\n",
    "* The binary equivalent of the number, in a phrase like, \"The binary equivalent of your number is `value`.\"\n",
    "* The square root of the number, with the value rounded to three decimal places, in a phrase like, \"The square root of your number is `value`.\""
   ]
  },
  {
   "cell_type": "code",
   "execution_count": null,
   "metadata": {},
   "outputs": [],
   "source": [
    "# your code here\n",
    "number1 = int(input(\"Please enter a number:\"))\n",
    "boolNumber = bool(number1)\n",
    "binaryNumber = bin(number1)\n",
    "sqrtNumber = (number1) ** 0.5\n",
    "\n",
    "print(f\"You selected {number1}.\")\n",
    "print(f\"The boolean of your number is {boolNumber}.\")\n",
    "print(f\"The binary equivalent of your number is {binaryNumber}\")\n",
    "print(f\"The square root of your number is {sqrtNumber}\")"
   ]
  },
  {
   "cell_type": "markdown",
   "metadata": {},
   "source": [
    "## Activity 8\n",
    "Create a program that completes the following tasks:\n",
    "1. Prompt the user for a series of five integers. \n",
    "    * The user must be asked for five numbers.\n",
    "1. After the fifth entry, stop prompting for values and calculate the following: \n",
    "    * The product of the integers\n",
    "    * The average of the integers\n",
    "    * The sum of the integers\n",
    "1. After performing the calculations, display the following to the user: \n",
    "    * The values the user entered\n",
    "    * The values of the calculations, using a phrase that identifies the value"
   ]
  },
  {
   "cell_type": "code",
   "execution_count": null,
   "metadata": {},
   "outputs": [],
   "source": [
    "# your code here\n",
    "\n",
    "n1 = int(input(\"Enter the first number\"))\n",
    "n2 = int(input(\"Enter the second number\"))\n",
    "n3 = int(input(\"Enter the third number\"))\n",
    "n4 = int(input(\"Enter the fourth number\"))\n",
    "n5 = int(input(\"Enter the fifth number\"))\n",
    "\n",
    "allNs = [n1, n2, n3, n4, n5]\n",
    "\n",
    "productN = n1 * n2 * n3 * n4 * n5\n",
    "sumN = n1 + n2 + n3 + n4 + n5\n",
    "averageN = sumN/5\n",
    "\n",
    "print(f\"You have entered {n1}, {n2}, {n3}, {n4}, and {n5} as your numbers.\")\n",
    "print(f\"The product of your numbers is {productN}\")\n",
    "print(f\"The average of your numbers is {averageN}\")\n",
    "print(f\"The sum of all your numbers is {sumN}\")\n"
   ]
  },
  {
   "cell_type": "markdown",
   "metadata": {},
   "source": [
    "## Activity 9\n",
    "1. Start with a street address that includes a building/house number, the name of the street, and the type of street (Street, Avenue, Boulevard, etc.). \n",
    "    * You can use any address you wish and abbreviations are acceptable.\n",
    "    * For example: 25 Main Street\n",
    "1. Display the full address to the user.\n",
    "1. Display the house number only in a phrase like, \"The building or house number is 25.\"\n",
    "1. Display the street name in a phrase like, \"The street name is Main Street.\""
   ]
  },
  {
   "cell_type": "code",
   "execution_count": null,
   "metadata": {},
   "outputs": [],
   "source": [
    "# your code here\n",
    "\n",
    "houseNo = input(\"Enter your buidling/house number\")\n",
    "street = input(\"Enter your street name\")\n",
    "streetType = input(\"Enter your street type (e.g. street, avenue, boulevard, etc.\")\n",
    "\n",
    "print(f\"Your full address is {houseNo} {street} {streetType}.\")\n",
    "print(f\"The building or house number is {houseNo}.\")\n",
    "print(f\"The steet name is {street} {streetType}.\")"
   ]
  },
  {
   "cell_type": "code",
   "execution_count": null,
   "metadata": {},
   "outputs": [],
   "source": []
  }
 ],
 "metadata": {
  "kernelspec": {
   "display_name": "Python 3.9.13 ('base')",
   "language": "python",
   "name": "python3"
  },
  "language_info": {
   "codemirror_mode": {
    "name": "ipython",
    "version": 3
   },
   "file_extension": ".py",
   "mimetype": "text/x-python",
   "name": "python",
   "nbconvert_exporter": "python",
   "pygments_lexer": "ipython3",
   "version": "3.9.13"
  },
  "vscode": {
   "interpreter": {
    "hash": "c641f30c3153c9b0b4d8325f69d8d0cc6bb6304f4c4d7ae077e8c56261f67af4"
   }
  }
 },
 "nbformat": 4,
 "nbformat_minor": 2
}
