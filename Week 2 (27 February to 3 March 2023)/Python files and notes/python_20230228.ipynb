{
 "cells": [
  {
   "cell_type": "code",
   "execution_count": 7,
   "metadata": {},
   "outputs": [
    {
     "name": "stdout",
     "output_type": "stream",
     "text": [
      "[0, 1, 2, 3, 4, 5, 6, 7, 8, 9, 10, 11, 12, 13, 14]\n",
      "[4, 5, 6, 7, 8]\n",
      "[5, 9, 13, 17, 21]\n",
      "[10, 8, 6, 4, 2]\n",
      "0\n",
      "1\n",
      "2\n",
      "3\n",
      "4\n",
      "5\n",
      "6\n",
      "7\n",
      "8\n",
      "9\n",
      "10\n",
      "End of loop!\n"
     ]
    }
   ],
   "source": [
    "# The range() function returns a sequence of numbers, starting from 0 by default, and increments by 1 (by default)\n",
    "# and stops before a specified number\n",
    "\n",
    "print(list(range(15)))\n",
    "print(list(range(4, 9)))\n",
    "print(list(range(5, 25, 4)))\n",
    "print(list(range(10, 0, -2))) # going backwards\n",
    "\n",
    "list_1 = range(15)\n",
    "for i in list_1:\n",
    "    print(i)\n",
    "    if i == 10:\n",
    "        break\n",
    "print(\"End of loop!\")"
   ]
  },
  {
   "cell_type": "code",
   "execution_count": null,
   "metadata": {},
   "outputs": [],
   "source": [
    "string1 = \"Python loop\"\n",
    "\n",
    "for s in string1:\n",
    "    if s == \"o\":\n",
    "        print(\"if block\")\n",
    "    else:\n",
    "            print(s)\n",
    "\n",
    "            \n",
    "print(list(reversed(range(5))))\n",
    "\n",
    "for i in reversed(range(5)):\n",
    "    print(i, sep=\"\\n\")"
   ]
  },
  {
   "cell_type": "code",
   "execution_count": 19,
   "metadata": {},
   "outputs": [
    {
     "name": "stdout",
     "output_type": "stream",
     "text": [
      "1\n",
      "3\n",
      "5\n",
      "7\n",
      "9\n",
      "11\n",
      "13\n",
      "15\n",
      "17\n",
      "19\n",
      "Printed numbers are odd\n",
      "The number is odd!\n"
     ]
    }
   ],
   "source": [
    "myTuple = (range(20))\n",
    "for i in myTuple:\n",
    "    if i % 2 != 0:\n",
    "        print(i)\n",
    "print(\"Printed numbers are odd\")"
   ]
  },
  {
   "cell_type": "code",
   "execution_count": 22,
   "metadata": {},
   "outputs": [
    {
     "name": "stdout",
     "output_type": "stream",
     "text": [
      "657 is odd!\n"
     ]
    }
   ],
   "source": [
    "inputNumber = int(input(\"Enter any number to test whether it is odd or even: \"))\n",
    "if (inputNumber % 2) == 0:\n",
    "    print(input(), \"is even!\")\n",
    "else: \n",
    "    print(input(), \"is odd!\")"
   ]
  },
  {
   "cell_type": "markdown",
   "metadata": {},
   "source": []
  },
  {
   "cell_type": "code",
   "execution_count": 20,
   "metadata": {},
   "outputs": [
    {
     "name": "stdout",
     "output_type": "stream",
     "text": [
      "Python loops\n",
      "Python loops\n",
      "Python loops\n",
      "Python loops\n",
      "Python loops\n",
      "Python loops\n",
      "Python loops\n",
      "Python loops\n",
      "Python loops\n",
      "Python loops\n"
     ]
    }
   ],
   "source": [
    "counter = 0\n",
    "while counter < 10:\n",
    "        counter = counter + 1\n",
    "        print(\"Python loops\")\n",
    "        "
   ]
  },
  {
   "cell_type": "code",
   "execution_count": 39,
   "metadata": {},
   "outputs": [
    {
     "name": "stdout",
     "output_type": "stream",
     "text": [
      "Current Letter : P\n",
      "Current Letter : y\n",
      "Current Letter : t\n",
      "Current Letter : o\n",
      "Current Letter : n\n"
     ]
    }
   ],
   "source": [
    "# The 'pass' statement is used as a placeholder for future code. \n",
    "# When the 'pass' statement is executed,\n",
    "\n",
    "# 'pass' statement here does nothing for the if block\n",
    "\n",
    "# Example of continue\n",
    "for string in \"Python\":\n",
    "    if string == \"h\":\n",
    "        continue\n",
    "        print(\"This is continue block\")\n",
    "    print(\"Current Letter :\", string)\n",
    "\n",
    "# Example of pass\n",
    "#for string in \"Python\":\n",
    "#    if string == \"h\":\n",
    "#        pass\n",
    "#        print(\"This is pass block\")\n",
    "#    print(\"Current Letter :\", string)"
   ]
  },
  {
   "cell_type": "code",
   "execution_count": 35,
   "metadata": {},
   "outputs": [
    {
     "name": "stdout",
     "output_type": "stream",
     "text": [
      "49849\n"
     ]
    }
   ],
   "source": [
    "numbers=[3, 2, 5, 223, 1, 9]\n",
    "\n",
    "sum = 0\n",
    "\n",
    "for num in range(len(numbers)):\n",
    "    sum = sum + numbers[num] ** 2 # ** refers to power\n",
    "print(sum)"
   ]
  },
  {
   "cell_type": "code",
   "execution_count": 55,
   "metadata": {},
   "outputs": [
    {
     "name": "stdout",
     "output_type": "stream",
     "text": [
      "Marks of student ObiWan Kenobi are:  90\n",
      "Marks of student ('Obi', 'Wan Kenobi') are:  90\n",
      "Marks of student ObiWan Kenobi are:  90\n"
     ]
    },
    {
     "data": {
      "text/plain": [
       "90"
      ]
     },
     "execution_count": 55,
     "metadata": {},
     "output_type": "execute_result"
    }
   ],
   "source": [
    "student_fn = [\"Obi\"]\n",
    "student_ln = \"Wan Kenobi\"\n",
    "\n",
    "record = {\n",
    "    \"Obi\": 90,\n",
    "    \"Lemon\": 76,\n",
    "    \"R2D2\": 56\n",
    "}\n",
    "print(f\"Marks of student {student_fn}{student_ln} are: \", record[student_fn])\n",
    "print(f\"Marks of student {student_fn, student_ln} are: \", record[student_fn])\n",
    "\n",
    "# In Python a function is defined using the def keyword. A function's syntax is generally as below:\n",
    "# def function_name(parameterOne, parameterTwo, parameterN):\n",
    "#   what you want the function to do\n",
    "#   return [expression]\n",
    "\n",
    "# 'getMyMarks' is the name of the function\n",
    "# Information can be passed into functions as arguments. In this case, 'student_fn' is the argument.\n",
    "\n",
    "def getMyMarks(student_fn):\n",
    "    return record[student_fn] \n",
    "print(f\"Marks of student {student_fn}{student_ln} are: \", record[student_fn])\n",
    "\n",
    "getMyMarks(\"Obi\")\n"
   ]
  },
  {
   "cell_type": "code",
   "execution_count": 1,
   "metadata": {},
   "outputs": [
    {
     "name": "stdout",
     "output_type": "stream",
     "text": [
      "Emil Refsnes\n",
      "Tobias Refsnes\n",
      "Linus Refsnes\n",
      "The total is:  13\n",
      "None\n"
     ]
    }
   ],
   "source": [
    "def my_function(fname):\n",
    "  print(fname + \" Refsnes\")\n",
    "\n",
    "my_function(\"Emil\")\n",
    "my_function(\"Tobias\")\n",
    "my_function(\"Linus\")\n",
    "\n",
    "def summing_numbers(num1, num2, num3): # Define the function\n",
    "    total = num1 + num2\n",
    "    print(\"The total is: \", total)\n",
    "\n",
    "summation = summing_numbers(3, 10, 25)\n",
    "print(summation)"
   ]
  },
  {
   "cell_type": "code",
   "execution_count": null,
   "metadata": {},
   "outputs": [],
   "source": [
    "# Nested loops\n",
    "# A nested loop is a loop inside a loop.\n",
    "# The \"inner loop\" will be executed one time for each iteration of the \"outer loop\".\n",
    "# \n",
    "\n",
    "\n",
    "# Example 1\n",
    "adj = [\"red\", \"big\", \"yummy\"]\n",
    "fruits = [\"apple\", \"banana\", \"cherry\"]\n",
    "\n",
    "for x in adj:\n",
    "    for y in fruits:\n",
    "        print(x,y)\n",
    "\n",
    "for i in range(1, 11):\n",
    "    for j in range(1, 11): # iterate from 1 to 10\n",
    "         print(i * j, end=' ') # print multiplication\n",
    "    print(f\": \", {i}, \"times tables\")\n",
    "\n",
    "num = 21\n",
    "counter = 1\n",
    "print(f\"The multiplication table of {num}\")\n",
    "while counter <= 10:\n",
    "        ans = num * counter\n",
    "        print (num, 'x', counter, '=', ans)\n",
    "        counter = counter + 1"
   ]
  },
  {
   "cell_type": "code",
   "execution_count": 31,
   "metadata": {},
   "outputs": [
    {
     "name": "stdout",
     "output_type": "stream",
     "text": [
      "[36, 16, 1, 25, 9]\n",
      "apple\n"
     ]
    }
   ],
   "source": [
    "# STACK\n",
    "# A stack is a linear data structure that stores items in a Last-in/First-out manner or\n",
    "# First-In/Last-Out (FILO) manner. \n",
    "# In a stack, a new element is added at one end and an element is removed form that end only.\n",
    "# The insert and delete operations are often called 'push' and 'pop'\n",
    "\n",
    "another_list = [3, 5, 1, 4, 6]\n",
    "term = []\n",
    "while another_list:\n",
    "    term.append((another_list.pop()) ** 2)\n",
    "print(term)\n",
    "\n",
    "fruits = ['apple', 'banana', 'cherry']\n",
    "x = fruits.pop(0)\n",
    "print(x)"
   ]
  },
  {
   "cell_type": "code",
   "execution_count": 20,
   "metadata": {},
   "outputs": [
    {
     "name": "stdout",
     "output_type": "stream",
     "text": [
      "[1, 2, 3, 4, 5, 6, 7, 8, 9, 10, 11, 12, 13]\n",
      "True\n",
      "13\n"
     ]
    }
   ],
   "source": [
    "list3 = [1,2,3,4,5,6,7]\n",
    "list4 = [8,9,10,11,12,13]\n",
    "\n",
    "list_combined = list3 + list4\n",
    "print(list_combined)\n",
    "\n",
    "len(list_combined)\n",
    "\n",
    "print(12 in list_combined) # Determines whether 12 is present in list_add or not.\n",
    "print(max(list_combined)) # Returns maximum value in list_combined.\n",
    "print(min(list_combined)) # Returns minimum value in list_combined.\n",
    "\n",
    "# "
   ]
  },
  {
   "cell_type": "code",
   "execution_count": 65,
   "metadata": {},
   "outputs": [
    {
     "name": "stdout",
     "output_type": "stream",
     "text": [
      "list5:  [1, 2, 3, 4, 5, 6, 7, 8, 9]\n",
      "prefixArray:  [1, 3, 6, 10, 15, 21, 28, 36, 45]\n",
      "15\n"
     ]
    }
   ],
   "source": [
    "list5 = [1, 2, 3, 4, 5, 6 , 7, 8, 9]\n",
    "print(\"list5: \", list5)\n",
    "prefixArray = [0] * len(list5)\n",
    "prefixArray[0] = list5[0]\n",
    "for i in range(1, len(list5)):\n",
    "    prefixArray[i] = prefixArray[i-1] + list5[i]\n",
    "print(\"prefixArray: \", prefixArray)\n",
    "\n",
    "def sumAll(startIndex, endIndex):\n",
    "    if startIndex == 0:\n",
    "        return prefixArray[endIndex]\n",
    "    return prefixArray[endIndex] - prefixArray[startIndex - 1]\n",
    "\n",
    "print(sumAll(3,5))\n"
   ]
  },
  {
   "cell_type": "code",
   "execution_count": null,
   "metadata": {},
   "outputs": [],
   "source": [
    "tuple = (\"Python\", \"Tuple\", \"Apple\", \"Banana\", \"Peach\", \"Pineapple\")\n",
    "print(tuple[1:3])\n",
    "print(tuple[:-4]) # counts from right to left\n",
    "print(tuple[:])\n",
    "print(tuple)"
   ]
  },
  {
   "cell_type": "code",
   "execution_count": null,
   "metadata": {},
   "outputs": [],
   "source": []
  }
 ],
 "metadata": {
  "kernelspec": {
   "display_name": "Python 3.9.13 ('base')",
   "language": "python",
   "name": "python3"
  },
  "language_info": {
   "codemirror_mode": {
    "name": "ipython",
    "version": 3
   },
   "file_extension": ".py",
   "mimetype": "text/x-python",
   "name": "python",
   "nbconvert_exporter": "python",
   "pygments_lexer": "ipython3",
   "version": "3.9.13"
  },
  "orig_nbformat": 4,
  "vscode": {
   "interpreter": {
    "hash": "c641f30c3153c9b0b4d8325f69d8d0cc6bb6304f4c4d7ae077e8c56261f67af4"
   }
  }
 },
 "nbformat": 4,
 "nbformat_minor": 2
}
