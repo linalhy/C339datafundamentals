{
 "cells": [
  {
   "cell_type": "code",
   "execution_count": 1,
   "metadata": {},
   "outputs": [
    {
     "name": "stdout",
     "output_type": "stream",
     "text": [
      "Hello World\n"
     ]
    }
   ],
   "source": [
    "print(\"Hello World\")"
   ]
  },
  {
   "cell_type": "code",
   "execution_count": 5,
   "metadata": {},
   "outputs": [
    {
     "name": "stdout",
     "output_type": "stream",
     "text": [
      "potato chips are good!"
     ]
    }
   ],
   "source": [
    "a = \"potato\"\n",
    "b = \"chips\"\n",
    "c = \"good\"\n",
    "print(a, b, \"are\", c, sep= \" \", end=\"!\")"
   ]
  },
  {
   "cell_type": "code",
   "execution_count": 3,
   "metadata": {},
   "outputs": [
    {
     "name": "stdout",
     "output_type": "stream",
     "text": [
      "2\n",
      "5\n"
     ]
    }
   ],
   "source": [
    "a = int(input(\"Enter the number\"))\n",
    "print(a)\n",
    "b = int(input(\"Enter the second number\"))\n",
    "print(a + b)"
   ]
  },
  {
   "cell_type": "code",
   "execution_count": 8,
   "metadata": {},
   "outputs": [
    {
     "name": "stdout",
     "output_type": "stream",
     "text": [
      "['John', 102, 'USA']\n",
      "[1, 2, 3, 4, 5, 6]\n",
      "<class 'list'>\n",
      "<class 'int'>\n",
      "<class 'list'>\n"
     ]
    }
   ],
   "source": [
    "# Strings and numbers can be stored in lists using square brackets []\n",
    "\n",
    "list1 = [\"John\", 102, \"USA\"]\n",
    "list2 = [1, 2, 3, 4, 5, 6]\n",
    "list3 = []\n",
    "print(list1)\n",
    "print(list2) \n",
    "\n",
    "print(type(list1))\n",
    "print(type(a))\n",
    "print(type(list3))"
   ]
  },
  {
   "cell_type": "code",
   "execution_count": 24,
   "metadata": {},
   "outputs": [
    {
     "name": "stdout",
     "output_type": "stream",
     "text": [
      "p\n",
      "<class 'str'>\n",
      "<class 'str'>\n"
     ]
    }
   ],
   "source": [
    "tup = (\"Apple\", \"Mango\", \"Orange\", \"Banana\") # Creating a tuple using () instead of [].\n",
    "another_tuple = (\"potato\") # A tuple cannot have only one element. Here, another_tuple is a string.\n",
    "tuple_again = tuple(\"potato\")\n",
    "\n",
    "print(another_tuple[0])\n",
    "print(type(another_tuple))\n",
    "print(type(tuple_again))\n",
    "\n",
    "tup_list = list(tup) # Converting a tuple into a list\n",
    "print(type(tup)) # Tupples cannot be modified\n",
    "\n",
    "list_tup = tuple(list1) # Converting a list to a tuple \n",
    "tup[2] = \"Papaya\" # Insert into position 2 \"papaya\"\n"
   ]
  },
  {
   "cell_type": "code",
   "execution_count": 29,
   "metadata": {},
   "outputs": [
    {
     "name": "stdout",
     "output_type": "stream",
     "text": [
      "Hello Python!\n",
      "Hello Python!\n",
      "''Hello Python!''\n"
     ]
    }
   ],
   "source": [
    "string_1 = \"Hello Python!\"\n",
    "string_2 = 'Hello Python!'\n",
    "string_3 = \"''Hello Python!''\"\n",
    "print(string_1, string_2, string_3, sep=\"\\n\")"
   ]
  },
  {
   "cell_type": "code",
   "execution_count": 34,
   "metadata": {},
   "outputs": [
    {
     "name": "stdout",
     "output_type": "stream",
     "text": [
      "<class 'dict'>\n",
      "{'name': 'lina', 'salary': 23455, 'company': 'Giraffe GmbH'}\n",
      "dict_keys(['name', 'salary', 'company'])\n",
      "dict_values(['lina', 23455, 'Giraffe GmbH'])\n",
      "dict_items([('name', 'lina'), ('salary', 23455), ('company', 'Giraffe GmbH')])\n"
     ]
    }
   ],
   "source": [
    "# Creating dictionaries. \n",
    "# Dictionaries are used to store data values in key: value pairs.\n",
    "# A dictionary is a collection which is ordered, changeable, and do not allow duplicates\n",
    "# Dictionaries are written with curly brackets, and have keys and values.\n",
    "employee_dict = {\n",
    "    \"name\": \"lina\", \n",
    "    \"salary\": 23455, \n",
    "    \"company\": \"Giraffe GmbH\"\n",
    "}\n",
    "print(type(employee_dict))\n",
    "print(employee_dict)\n",
    "\n",
    "print(employee_dict.keys())\n",
    "print(employee_dict.values())\n",
    "print(employee_dict.items())"
   ]
  },
  {
   "cell_type": "code",
   "execution_count": 32,
   "metadata": {},
   "outputs": [
    {
     "name": "stdout",
     "output_type": "stream",
     "text": [
      "<class 'set'>\n",
      "{'March', 'January', 'April', 'February'}\n"
     ]
    }
   ],
   "source": [
    "# Creating sets.\n",
    "# Sets are used \n",
    "\n",
    "month = {\n",
    "    \"January\", \n",
    "    \"February\", \n",
    "    \"March\", \n",
    "    \"April\"\n",
    "}\n",
    "print(type(month))\n",
    "print(month)"
   ]
  },
  {
   "cell_type": "code",
   "execution_count": 35,
   "metadata": {},
   "outputs": [
    {
     "name": "stdout",
     "output_type": "stream",
     "text": [
      "1\n",
      "2\n",
      "3\n",
      "4\n",
      "End of loop\n"
     ]
    }
   ],
   "source": [
    "list = [1, 2, 3, 4, 5]\n",
    "for i in list:\n",
    "    print(i)\n",
    "    if i == 4:\n",
    "        break\n",
    "\n",
    "print(\"End of loop\")"
   ]
  },
  {
   "cell_type": "code",
   "execution_count": 45,
   "metadata": {},
   "outputs": [
    {
     "name": "stdout",
     "output_type": "stream",
     "text": [
      "140695898105856\n",
      "140695897879872\n",
      "\n",
      "140695898105856\n",
      "140695899147040\n",
      "140695360399472\n",
      "140695360401328\n"
     ]
    }
   ],
   "source": [
    "# Mutable and immutable data types\n",
    "# Immutable data types = int, float, decimal, bool, string, tuple, range\n",
    "# Mutable data types = List, dictionary, set, and user-defined calsses\n",
    "# From here, the identity of the list is not changed. Meaning that, the list has been expanded.\n",
    "# However, the identity of the tuple has changed because a new tuple has been created.\n",
    "# Therefore, lists are more memory efficient than tuples.\n",
    "\n",
    "\n",
    "list_values = [1, 2, 3]\n",
    "set_values = (1, 2, 3)\n",
    "print(id(list_values))\n",
    "print(id(set_values))\n",
    "print()\n",
    "\n",
    "list_values += [4, 5, 6]\n",
    "set_values += (4, 5, 6)\n",
    "print(id(list_values))\n",
    "print(id(set_values))\n",
    "\n",
    "number = 2468\n",
    "print(id(number))\n",
    "\n",
    "number += 10\n",
    "print(id(number))\n"
   ]
  },
  {
   "cell_type": "code",
   "execution_count": null,
   "metadata": {},
   "outputs": [],
   "source": [
    "# you can actually force the interning with use of sys library.\n",
    "a = sys.intern('My string')\n",
    "a = sys.intern('My string')\n",
    "b = sys.intern('My string')\n",
    "\n"
   ]
  },
  {
   "cell_type": "code",
   "execution_count": null,
   "metadata": {},
   "outputs": [],
   "source": []
  }
 ],
 "metadata": {
  "kernelspec": {
   "display_name": "Python 3.9.13 ('base')",
   "language": "python",
   "name": "python3"
  },
  "language_info": {
   "codemirror_mode": {
    "name": "ipython",
    "version": 3
   },
   "file_extension": ".py",
   "mimetype": "text/x-python",
   "name": "python",
   "nbconvert_exporter": "python",
   "pygments_lexer": "ipython3",
   "version": "3.9.13"
  },
  "orig_nbformat": 4,
  "vscode": {
   "interpreter": {
    "hash": "c641f30c3153c9b0b4d8325f69d8d0cc6bb6304f4c4d7ae077e8c56261f67af4"
   }
  }
 },
 "nbformat": 4,
 "nbformat_minor": 2
}
