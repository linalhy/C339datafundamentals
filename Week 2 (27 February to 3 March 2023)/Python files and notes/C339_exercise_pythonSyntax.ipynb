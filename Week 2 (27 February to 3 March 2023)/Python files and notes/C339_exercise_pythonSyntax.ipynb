{
 "cells": [
  {
   "cell_type": "code",
   "execution_count": 1,
   "metadata": {},
   "outputs": [],
   "source": [
    "# Name: Lina Lau\n",
    "# Date: 1 March 2023"
   ]
  },
  {
   "cell_type": "code",
   "execution_count": null,
   "metadata": {},
   "outputs": [],
   "source": [
    "# Write a script that meets the following requirements:\n",
    "# Add your name and the current date in comments at the top of the script.\n",
    "# Prompt the user to enter their first name, their last name, their phone number, \n",
    "# and the year they were born. Save each of these values to a different variable.\n",
    "# Display the values they entered."
   ]
  },
  {
   "cell_type": "code",
   "execution_count": null,
   "metadata": {},
   "outputs": [],
   "source": [
    "firstName = input(\"Enter your first name:\")\n",
    "lastName = input(\"Enter your last name:\")\n",
    "phoneNo = input(\"What is your phone number?\")\n",
    "birthYear = input(\"Which year were you born in?\")\n",
    "print (\"\")\n",
    "\n",
    "print(f\"Nice to meet you, {firstName}{lastName} !\")\n",
    "print(f\"Are you sure we can contact you at {phoneNo}?\")\n",
    "print(f\"You were born in {birthYear}? Nice!\")\n"
   ]
  }
 ],
 "metadata": {
  "kernelspec": {
   "display_name": "Python 3.9.13 ('base')",
   "language": "python",
   "name": "python3"
  },
  "language_info": {
   "codemirror_mode": {
    "name": "ipython",
    "version": 3
   },
   "file_extension": ".py",
   "mimetype": "text/x-python",
   "name": "python",
   "nbconvert_exporter": "python",
   "pygments_lexer": "ipython3",
   "version": "3.9.13"
  },
  "orig_nbformat": 4,
  "vscode": {
   "interpreter": {
    "hash": "c641f30c3153c9b0b4d8325f69d8d0cc6bb6304f4c4d7ae077e8c56261f67af4"
   }
  }
 },
 "nbformat": 4,
 "nbformat_minor": 2
}
