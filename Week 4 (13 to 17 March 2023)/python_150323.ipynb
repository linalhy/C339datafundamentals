{
 "cells": [
  {
   "cell_type": "code",
   "execution_count": null,
   "metadata": {},
   "outputs": [],
   "source": [
    "import pandas as pd\n",
    "import numpy as np\n",
    "import plotly as plotly\n",
    "import numpy as np"
   ]
  },
  {
   "cell_type": "code",
   "execution_count": null,
   "metadata": {},
   "outputs": [],
   "source": [
    "# Importing .zip files\n",
    "import_zip = pd.read_csv(\"college_scorecard_2017-18.csv\", dtype = {\"OPEID\":str})\n",
    "import_zip.head()\n",
    "import_zip.info()\n",
    "collegeScore = import_zip\n",
    "display(collegeScore)"
   ]
  },
  {
   "cell_type": "code",
   "execution_count": null,
   "metadata": {},
   "outputs": [],
   "source": [
    "collegeScore.loc[3,'INSTNM']\n",
    "collegeScore.loc[[3,10],['INSTNM','ZIP']]"
   ]
  },
  {
   "cell_type": "code",
   "execution_count": null,
   "metadata": {},
   "outputs": [],
   "source": [
    "# If we set the index to another column (e.g. the ZIP)\n",
    "df.set_index(df['ZIP'], inplace=True)\n",
    "# .loc cant found any index=0 anymore\n",
    "df.loc[0] \n",
    "# but iloc does\n",
    "df.iloc[0]\n",
    "# To get the index back as before\n",
    "df.reset_index(inplace=True, drop=True)"
   ]
  }
 ],
 "metadata": {
  "language_info": {
   "name": "python"
  },
  "orig_nbformat": 4
 },
 "nbformat": 4,
 "nbformat_minor": 2
}
