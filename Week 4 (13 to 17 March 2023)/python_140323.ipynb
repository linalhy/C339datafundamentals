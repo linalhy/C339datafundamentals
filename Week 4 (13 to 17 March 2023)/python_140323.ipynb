{
 "cells": [
  {
   "cell_type": "code",
   "execution_count": 1,
   "metadata": {},
   "outputs": [],
   "source": [
    "import pandas as pd\n",
    "import numpy as np\n",
    "import plotly as plotly\n",
    "import numpy as np\n",
    "from pydataset import data\n"
   ]
  },
  {
   "cell_type": "code",
   "execution_count": 2,
   "metadata": {},
   "outputs": [
    {
     "name": "stdout",
     "output_type": "stream",
     "text": [
      "a    1.0\n",
      "b    3.0\n",
      "c    5.0\n",
      "d    NaN\n",
      "e    6.0\n",
      "f    8.0\n",
      "dtype: float64\n",
      "5.0\n",
      "Index(['a', 'b', 'c', 'd', 'e', 'f'], dtype='object')\n"
     ]
    }
   ],
   "source": [
    "# Pandas\n",
    "# Creating series by passing a list of values, letting pandas create a default int index.\n",
    "\n",
    "\n",
    "series = pd.Series([1, 3, 5, np.nan, 6, 8], index=[\"a\", \"b\", \"c\", \"d\", \"e\", \"f\"])\n",
    "print(series)\n",
    "print(series[\"c\"])\n",
    "print(series.index)\n"
   ]
  },
  {
   "cell_type": "code",
   "execution_count": null,
   "metadata": {},
   "outputs": [],
   "source": [
    "\n",
    "# Data frames\n",
    "\n",
    "dates = pd.date_range(\"20230101\", periods = 6)\n",
    "dates\n",
    "\n",
    "# Creating a data frame with 6 rows and 4 columns\n",
    "# columns accepts lists only\n",
    "df = pd.DataFrame(np.random.randn(6, 4), index = dates, columns = [\"Column1\", \"Column2\", \"Column3\", \"Column4\"])\n",
    "df"
   ]
  },
  {
   "cell_type": "code",
   "execution_count": null,
   "metadata": {},
   "outputs": [],
   "source": [
    "# Creating a data frame by passing a dictionary of objects that can be converted into a series-like structure:\n",
    "df2 = pd.DataFrame(\n",
    "    {\n",
    "        \"Column1\": 2.5,\n",
    "        \"Column2\": pd.Timestamp(\"20210406\"),\n",
    "        \"Column3\": pd.Series(1, index = list(range(4)), dtype = \"float32\"),\n",
    "        \"column4\": np.array([5] * 4, dtype = \"int32\"),\n",
    "        \"column5\": pd.Categorical([\"yes\", \"no\", \"no\", \"yes\"]),\n",
    "        \"column5\": \"I am a string!\"\n",
    "    }\n",
    ")\n",
    "df2\n",
    "#print(df2.dtypes)"
   ]
  },
  {
   "cell_type": "code",
   "execution_count": 99,
   "metadata": {},
   "outputs": [
    {
     "name": "stdout",
     "output_type": "stream",
     "text": [
      "<class 'pandas.core.frame.DataFrame'>\n",
      "RangeIndex: 7058 entries, 0 to 7057\n",
      "Data columns (total 10 columns):\n",
      " #   Column    Non-Null Count  Dtype  \n",
      "---  ------    --------------  -----  \n",
      " 0   OPEID     7058 non-null   object \n",
      " 1   INSTNM    7058 non-null   object \n",
      " 2   CITY      7058 non-null   object \n",
      " 3   STABBR    7058 non-null   object \n",
      " 4   ZIP       7058 non-null   object \n",
      " 5   INSTURL   7039 non-null   object \n",
      " 6   REGION    7058 non-null   int64  \n",
      " 7   LOCALE    6614 non-null   float64\n",
      " 8   ADM_RATE  2019 non-null   float64\n",
      " 9   COSTT4_A  3572 non-null   float64\n",
      "dtypes: float64(3), int64(1), object(6)\n",
      "memory usage: 551.5+ KB\n"
     ]
    },
    {
     "data": {
      "text/html": [
       "<div>\n",
       "<style scoped>\n",
       "    .dataframe tbody tr th:only-of-type {\n",
       "        vertical-align: middle;\n",
       "    }\n",
       "\n",
       "    .dataframe tbody tr th {\n",
       "        vertical-align: top;\n",
       "    }\n",
       "\n",
       "    .dataframe thead th {\n",
       "        text-align: right;\n",
       "    }\n",
       "</style>\n",
       "<table border=\"1\" class=\"dataframe\">\n",
       "  <thead>\n",
       "    <tr style=\"text-align: right;\">\n",
       "      <th></th>\n",
       "      <th>OPEID</th>\n",
       "      <th>INSTNM</th>\n",
       "      <th>CITY</th>\n",
       "      <th>STABBR</th>\n",
       "      <th>ZIP</th>\n",
       "      <th>INSTURL</th>\n",
       "      <th>REGION</th>\n",
       "      <th>LOCALE</th>\n",
       "      <th>ADM_RATE</th>\n",
       "      <th>COSTT4_A</th>\n",
       "    </tr>\n",
       "  </thead>\n",
       "  <tbody>\n",
       "    <tr>\n",
       "      <th>0</th>\n",
       "      <td>00100200</td>\n",
       "      <td>Alabama A &amp; M University</td>\n",
       "      <td>Normal</td>\n",
       "      <td>AL</td>\n",
       "      <td>35762</td>\n",
       "      <td>www.aamu.edu/</td>\n",
       "      <td>5</td>\n",
       "      <td>12.0</td>\n",
       "      <td>0.9027</td>\n",
       "      <td>22886.0</td>\n",
       "    </tr>\n",
       "    <tr>\n",
       "      <th>1</th>\n",
       "      <td>00105200</td>\n",
       "      <td>University of Alabama at Birmingham</td>\n",
       "      <td>Birmingham</td>\n",
       "      <td>AL</td>\n",
       "      <td>35294-0110</td>\n",
       "      <td>www.uab.edu</td>\n",
       "      <td>5</td>\n",
       "      <td>12.0</td>\n",
       "      <td>0.9181</td>\n",
       "      <td>24129.0</td>\n",
       "    </tr>\n",
       "    <tr>\n",
       "      <th>2</th>\n",
       "      <td>02503400</td>\n",
       "      <td>Amridge University</td>\n",
       "      <td>Montgomery</td>\n",
       "      <td>AL</td>\n",
       "      <td>36117-3553</td>\n",
       "      <td>www.amridgeuniversity.edu</td>\n",
       "      <td>5</td>\n",
       "      <td>12.0</td>\n",
       "      <td>NaN</td>\n",
       "      <td>15080.0</td>\n",
       "    </tr>\n",
       "    <tr>\n",
       "      <th>3</th>\n",
       "      <td>00105500</td>\n",
       "      <td>University of Alabama in Huntsville</td>\n",
       "      <td>Huntsville</td>\n",
       "      <td>AL</td>\n",
       "      <td>35899</td>\n",
       "      <td>www.uah.edu</td>\n",
       "      <td>5</td>\n",
       "      <td>12.0</td>\n",
       "      <td>0.8123</td>\n",
       "      <td>22108.0</td>\n",
       "    </tr>\n",
       "    <tr>\n",
       "      <th>4</th>\n",
       "      <td>00100500</td>\n",
       "      <td>Alabama State University</td>\n",
       "      <td>Montgomery</td>\n",
       "      <td>AL</td>\n",
       "      <td>36104-0271</td>\n",
       "      <td>www.alasu.edu</td>\n",
       "      <td>5</td>\n",
       "      <td>12.0</td>\n",
       "      <td>0.9787</td>\n",
       "      <td>19413.0</td>\n",
       "    </tr>\n",
       "    <tr>\n",
       "      <th>...</th>\n",
       "      <td>...</td>\n",
       "      <td>...</td>\n",
       "      <td>...</td>\n",
       "      <td>...</td>\n",
       "      <td>...</td>\n",
       "      <td>...</td>\n",
       "      <td>...</td>\n",
       "      <td>...</td>\n",
       "      <td>...</td>\n",
       "      <td>...</td>\n",
       "    </tr>\n",
       "    <tr>\n",
       "      <th>7053</th>\n",
       "      <td>00108163</td>\n",
       "      <td>Arizona State University at Yuma</td>\n",
       "      <td>Yuma</td>\n",
       "      <td>AZ</td>\n",
       "      <td>853656900</td>\n",
       "      <td>www.asu.edu/</td>\n",
       "      <td>6</td>\n",
       "      <td>NaN</td>\n",
       "      <td>NaN</td>\n",
       "      <td>NaN</td>\n",
       "    </tr>\n",
       "    <tr>\n",
       "      <th>7054</th>\n",
       "      <td>04223701</td>\n",
       "      <td>Bay Area Medical Academy - San Jose Satellite Location</td>\n",
       "      <td>San Jose</td>\n",
       "      <td>CA</td>\n",
       "      <td>95113</td>\n",
       "      <td>www.bamasf.com/</td>\n",
       "      <td>8</td>\n",
       "      <td>NaN</td>\n",
       "      <td>NaN</td>\n",
       "      <td>NaN</td>\n",
       "    </tr>\n",
       "    <tr>\n",
       "      <th>7055</th>\n",
       "      <td>04228101</td>\n",
       "      <td>High Desert Medical College</td>\n",
       "      <td>Lancaster</td>\n",
       "      <td>CA</td>\n",
       "      <td>935340000</td>\n",
       "      <td>www.hdmc.edu</td>\n",
       "      <td>8</td>\n",
       "      <td>NaN</td>\n",
       "      <td>NaN</td>\n",
       "      <td>NaN</td>\n",
       "    </tr>\n",
       "    <tr>\n",
       "      <th>7056</th>\n",
       "      <td>04221501</td>\n",
       "      <td>BCI - Malden</td>\n",
       "      <td>Malden</td>\n",
       "      <td>MA</td>\n",
       "      <td>21480000</td>\n",
       "      <td>bostoncareer.org</td>\n",
       "      <td>1</td>\n",
       "      <td>NaN</td>\n",
       "      <td>NaN</td>\n",
       "      <td>NaN</td>\n",
       "    </tr>\n",
       "    <tr>\n",
       "      <th>7057</th>\n",
       "      <td>04182601</td>\n",
       "      <td>Health Career Institute- Lauderdale Lakes</td>\n",
       "      <td>Lauderdale Lakes</td>\n",
       "      <td>FL</td>\n",
       "      <td>333137268</td>\n",
       "      <td>www.hci.edu/</td>\n",
       "      <td>5</td>\n",
       "      <td>NaN</td>\n",
       "      <td>NaN</td>\n",
       "      <td>NaN</td>\n",
       "    </tr>\n",
       "  </tbody>\n",
       "</table>\n",
       "<p>7058 rows × 10 columns</p>\n",
       "</div>"
      ],
      "text/plain": [
       "         OPEID                                                  INSTNM  \\\n",
       "0     00100200                                Alabama A & M University   \n",
       "1     00105200                     University of Alabama at Birmingham   \n",
       "2     02503400                                      Amridge University   \n",
       "3     00105500                     University of Alabama in Huntsville   \n",
       "4     00100500                                Alabama State University   \n",
       "...        ...                                                     ...   \n",
       "7053  00108163                        Arizona State University at Yuma   \n",
       "7054  04223701  Bay Area Medical Academy - San Jose Satellite Location   \n",
       "7055  04228101                             High Desert Medical College   \n",
       "7056  04221501                                            BCI - Malden   \n",
       "7057  04182601               Health Career Institute- Lauderdale Lakes   \n",
       "\n",
       "                  CITY STABBR         ZIP                    INSTURL  REGION  \\\n",
       "0               Normal     AL       35762              www.aamu.edu/       5   \n",
       "1           Birmingham     AL  35294-0110                www.uab.edu       5   \n",
       "2           Montgomery     AL  36117-3553  www.amridgeuniversity.edu       5   \n",
       "3           Huntsville     AL       35899                www.uah.edu       5   \n",
       "4           Montgomery     AL  36104-0271              www.alasu.edu       5   \n",
       "...                ...    ...         ...                        ...     ...   \n",
       "7053              Yuma     AZ   853656900               www.asu.edu/       6   \n",
       "7054          San Jose     CA       95113            www.bamasf.com/       8   \n",
       "7055         Lancaster     CA   935340000               www.hdmc.edu       8   \n",
       "7056            Malden     MA    21480000           bostoncareer.org       1   \n",
       "7057  Lauderdale Lakes     FL   333137268               www.hci.edu/       5   \n",
       "\n",
       "      LOCALE  ADM_RATE  COSTT4_A  \n",
       "0       12.0    0.9027   22886.0  \n",
       "1       12.0    0.9181   24129.0  \n",
       "2       12.0       NaN   15080.0  \n",
       "3       12.0    0.8123   22108.0  \n",
       "4       12.0    0.9787   19413.0  \n",
       "...      ...       ...       ...  \n",
       "7053     NaN       NaN       NaN  \n",
       "7054     NaN       NaN       NaN  \n",
       "7055     NaN       NaN       NaN  \n",
       "7056     NaN       NaN       NaN  \n",
       "7057     NaN       NaN       NaN  \n",
       "\n",
       "[7058 rows x 10 columns]"
      ]
     },
     "metadata": {},
     "output_type": "display_data"
    }
   ],
   "source": [
    "# Importing .zip files\n",
    "import_zip = pd.read_csv(\"college_scorecard_2017-18.zip\", dtype = {\"OPEID\":str})\n",
    "import_zip.head()\n",
    "import_zip.info()\n",
    "collegeScore = import_zip\n",
    "display(collegeScore)"
   ]
  },
  {
   "cell_type": "code",
   "execution_count": null,
   "metadata": {},
   "outputs": [],
   "source": [
    "# Replacing values in the data frame\n",
    "df2_replace = df2.replace(2.5, 9.9)\n",
    "df2_replace"
   ]
  },
  {
   "cell_type": "code",
   "execution_count": 10,
   "metadata": {},
   "outputs": [
    {
     "name": "stdout",
     "output_type": "stream",
     "text": [
      "   Column1    Column2  Column3  column4         column5   column6\n",
      "0      2.5 2021-04-06      1.0        5  I am a string!  address1\n",
      "1      2.5 2021-04-06      1.0        5  I am a string!  address2\n",
      "2      2.5 2021-04-06      1.0        5  I am a string!  address3\n",
      "3      2.5 2021-04-06      1.0        5  I am a string!  address4\n"
     ]
    }
   ],
   "source": [
    "# adding new column to existing data frame\n",
    "column6 = [\"address1\", \"address2\", \"address3\", \"address4\"]\n",
    "\n",
    "# using column6 as the column name\n",
    "df2[\"column6\"] = column6\n",
    "print(df2)"
   ]
  },
  {
   "cell_type": "code",
   "execution_count": 3,
   "metadata": {},
   "outputs": [
    {
     "name": "stdout",
     "output_type": "stream",
     "text": [
      "<class 'pandas.core.frame.DataFrame'>\n"
     ]
    }
   ],
   "source": [
    "import plotly as plotly\n",
    "import numpy as np\n",
    "from pydataset import data\n",
    "df_list = data()\n",
    "print((type(data())))\n"
   ]
  },
  {
   "cell_type": "code",
   "execution_count": 24,
   "metadata": {},
   "outputs": [],
   "source": [
    "df_list.to_csv(\"df_list.csv\")"
   ]
  },
  {
   "cell_type": "code",
   "execution_count": 29,
   "metadata": {},
   "outputs": [
    {
     "name": "stdout",
     "output_type": "stream",
     "text": [
      "<class 'pandas.core.frame.DataFrame'>\n",
      "Index: 5 entries, Food and Tobacco to Private Education\n",
      "Data columns (total 5 columns):\n",
      " #   Column  Non-Null Count  Dtype  \n",
      "---  ------  --------------  -----  \n",
      " 0   1940    5 non-null      float64\n",
      " 1   1945    5 non-null      float64\n",
      " 2   1950    5 non-null      float64\n",
      " 3   1955    5 non-null      float64\n",
      " 4   1960    5 non-null      float64\n",
      "dtypes: float64(5)\n",
      "memory usage: 240.0+ bytes\n"
     ]
    }
   ],
   "source": [
    "dataset = data(\"USPersonalExpenditure\")\n",
    "dataset.info()"
   ]
  },
  {
   "cell_type": "code",
   "execution_count": 16,
   "metadata": {},
   "outputs": [],
   "source": [
    "# Web scraping \n",
    "# Read html tables\n",
    "url = \"https://en.wikipedia.org/w/index.php?title=World_population&oldid=948301297\"\n",
    "dfread = pd.read_html(url)\n",
    "dfread = dfread[12]\n",
    "#dfread[12].head()"
   ]
  },
  {
   "cell_type": "code",
   "execution_count": 62,
   "metadata": {},
   "outputs": [
    {
     "name": "stdout",
     "output_type": "stream",
     "text": [
      "[                          Region (NUTS2)  Country  2006  2007  2008  2009  \\\n",
      "0                               Brussels  Belgium  17.6  17.1  15.9  15.7   \n",
      "1                                Antwerp  Belgium   5.7   5.0   4.6   5.7   \n",
      "2                                Limburg  Belgium   6.2   5.3   4.4   5.4   \n",
      "3                          East Flanders  Belgium   4.5   4.8   3.6   4.2   \n",
      "4                        Flemish Brabant  Belgium   4.2   3.4   4.9   4.9   \n",
      "..                                   ...      ...   ...   ...   ...   ...   \n",
      "321  Malatya, Elazığ, Bingöl and Tunceli   Turkey  10.5  10.6  12.3  14.8   \n",
      "322         Van, Muş, Bitlis and Hakkâri   Turkey   6.9  11.4  12.6  14.6   \n",
      "323        Gaziantep, Adıyaman and Kilis   Turkey  12.6  16.9  15.0  14.3   \n",
      "324             Şanlıurfa and Diyarbakır   Turkey  10.8  12.9  12.8  16.7   \n",
      "325     Mardin, Batman, Şırnak and Siirt   Turkey  13.5  18.0  15.8  13.8   \n",
      "\n",
      "     2010  2011  2012  2013  2014  2015  2016  2017  2018  \n",
      "0    17.3  16.9  17.4  19.3  18.3  17.3  16.7  14.8  13.2  \n",
      "1     6.0   5.7   5.3   6.2   6.1   6.1   6.1   5.9   4.3  \n",
      "2     5.3   4.6   4.7   5.5   5.6   6.0   4.8   4.1   3.8  \n",
      "3     5.2   3.8   4.1   4.0   4.3   4.4   4.2   3.4   2.7  \n",
      "4     4.8   3.5   4.4   5.5   5.0   5.1   4.8   4.7   3.6  \n",
      "..    ...   ...   ...   ...   ...   ...   ...   ...   ...  \n",
      "321  10.6   7.8   5.8   5.7   7.9   7.9   8.8   6.8   8.0  \n",
      "322  15.5  11.0   7.5   9.2  13.4   9.7   9.1  12.6  21.6  \n",
      "323  11.4  13.2  10.6   6.2   8.1   9.7  13.9  14.3  12.3  \n",
      "324  11.1   6.8   6.0  16.0  17.5  17.4  17.2  13.8  18.6  \n",
      "325  10.4  10.3  18.8  19.4  24.0  24.4  28.1  26.9  24.8  \n",
      "\n",
      "[326 rows x 15 columns]]\n"
     ]
    },
    {
     "ename": "AttributeError",
     "evalue": "'list' object has no attribute 'head'",
     "output_type": "error",
     "traceback": [
      "\u001b[0;31m---------------------------------------------------------------------------\u001b[0m",
      "\u001b[0;31mAttributeError\u001b[0m                            Traceback (most recent call last)",
      "Cell \u001b[0;32mIn[62], line 4\u001b[0m\n\u001b[1;32m      2\u001b[0m dfread2 \u001b[39m=\u001b[39m pd\u001b[39m.\u001b[39mread_html(url2)\n\u001b[1;32m      3\u001b[0m \u001b[39mprint\u001b[39m(dfread2)\n\u001b[0;32m----> 4\u001b[0m dfread2\u001b[39m.\u001b[39;49mhead()\n\u001b[1;32m      5\u001b[0m dfread2\n",
      "\u001b[0;31mAttributeError\u001b[0m: 'list' object has no attribute 'head'"
     ]
    }
   ],
   "source": [
    "url2 = \"https://en.wikipedia.org/wiki/List_of_European_regions_by_unemployment_rate\"\n",
    "dfread2 = pd.read_html(url2)\n",
    "print(dfread2)\n",
    "dfread2.head()"
   ]
  },
  {
   "cell_type": "code",
   "execution_count": 87,
   "metadata": {},
   "outputs": [
    {
     "name": "stdout",
     "output_type": "stream",
     "text": [
      "Total tables: 37\n",
      "Total tables when 'match' argument used: 1\n",
      "<class 'pandas.core.frame.DataFrame'>\n"
     ]
    }
   ],
   "source": [
    "url3 = \"https://en.wikipedia.org/wiki/Economy_of_the_European_Union\"\n",
    "dfread3 = pd.read_html(url3)\n",
    "print(f'Total tables: {len(dfread3)}') # -> 37 tables\n",
    "\n",
    "# To make table selection easier, use 'match' parameter\n",
    "dfread3_match= pd.read_html(url3, match = \"Main trading partners 2008–2011\")\n",
    "print(f\"Total tables when 'match' argument used: {len(dfread3_match)}\") # 1 table\n",
    "\n",
    "tradingPartners = dfread3_match[0]\n",
    "print(type(tradingPartners)) # tradingPartners is a data frame\n",
    "\n",
    "tradingPartners.info() # getting info on tradingPartners data frame\n",
    "#df = mainTradingPartner[0]\n",
    "#df.head()\n",
    "#df.info()\n"
   ]
  },
  {
   "cell_type": "code",
   "execution_count": 31,
   "metadata": {},
   "outputs": [
    {
     "name": "stdout",
     "output_type": "stream",
     "text": [
      "6\n"
     ]
    }
   ],
   "source": [
    "# Anonymous functions\n",
    "a = 5\n",
    "b = lambda x:a+1 # b is a lambda function\n",
    "result = b(5)\n",
    "print(result)"
   ]
  },
  {
   "cell_type": "code",
   "execution_count": 32,
   "metadata": {},
   "outputs": [
    {
     "name": "stdout",
     "output_type": "stream",
     "text": [
      "10\n"
     ]
    }
   ],
   "source": [
    "product = lambda x, y: x*y\n",
    "result = product(5,2)\n",
    "print(result)"
   ]
  },
  {
   "cell_type": "code",
   "execution_count": 33,
   "metadata": {},
   "outputs": [
    {
     "name": "stdout",
     "output_type": "stream",
     "text": [
      "5\n"
     ]
    }
   ],
   "source": [
    "addition = lambda x, y: x+y\n",
    "result = addition(2,3)\n",
    "print(result)"
   ]
  },
  {
   "cell_type": "code",
   "execution_count": 36,
   "metadata": {},
   "outputs": [
    {
     "name": "stdout",
     "output_type": "stream",
     "text": [
      "[0, 1, 2, 3, 4, 5, 6, 7, 8, 9]\n",
      "[0, 1, 4, 9, 16, 25, 36, 49, 64, 81]\n"
     ]
    }
   ],
   "source": [
    "a = list(range(10))\n",
    "b = []\n",
    "for element in a:\n",
    "    b.append((lambda element: element*element)(element))\n",
    "\n",
    "print(a)\n",
    "print(b)\n",
    "\n"
   ]
  },
  {
   "cell_type": "code",
   "execution_count": 50,
   "metadata": {},
   "outputs": [
    {
     "name": "stdout",
     "output_type": "stream",
     "text": [
      "[0, 3, 6, 9]\n"
     ]
    },
    {
     "data": {
      "text/plain": [
       "[{0: 'a'}, 1, {2: 'a'}, 3, {4: 'a'}, 5, {6: 'a'}, 7, {8: 'a'}, 9]"
      ]
     },
     "execution_count": 50,
     "metadata": {},
     "output_type": "execute_result"
    }
   ],
   "source": [
    "#filter by numbers divisible by 3\n",
    "print(list(filter(lambda x:x%3==0, a)))\n",
    "\n",
    "list(map(lambda x: {x: 'a'} if(x%2 ==0) else x, a))"
   ]
  },
  {
   "cell_type": "code",
   "execution_count": 65,
   "metadata": {},
   "outputs": [
    {
     "name": "stdout",
     "output_type": "stream",
     "text": [
      "<map object at 0x133c04310>\n"
     ]
    }
   ],
   "source": [
    "list = [1,2,3,4,5]\n",
    "print(map(lambda x : x*10, list))"
   ]
  },
  {
   "cell_type": "code",
   "execution_count": 66,
   "metadata": {},
   "outputs": [
    {
     "data": {
      "text/plain": [
       "(10, 20, 30, 40, 50)"
      ]
     },
     "execution_count": 66,
     "metadata": {},
     "output_type": "execute_result"
    }
   ],
   "source": [
    "# map function always returns a key value pair.\n",
    "tpl = tuple(map(lambda x : x*10, list))\n",
    "tpl\n",
    "\n"
   ]
  },
  {
   "cell_type": "code",
   "execution_count": 77,
   "metadata": {},
   "outputs": [
    {
     "data": {
      "text/html": [
       "<div>\n",
       "<style scoped>\n",
       "    .dataframe tbody tr th:only-of-type {\n",
       "        vertical-align: middle;\n",
       "    }\n",
       "\n",
       "    .dataframe tbody tr th {\n",
       "        vertical-align: top;\n",
       "    }\n",
       "\n",
       "    .dataframe thead th {\n",
       "        text-align: right;\n",
       "    }\n",
       "</style>\n",
       "<table border=\"1\" class=\"dataframe\">\n",
       "  <thead>\n",
       "    <tr style=\"text-align: right;\">\n",
       "      <th></th>\n",
       "      <th>col1</th>\n",
       "      <th>col2</th>\n",
       "      <th>col3</th>\n",
       "      <th>col4</th>\n",
       "    </tr>\n",
       "  </thead>\n",
       "  <tbody>\n",
       "    <tr>\n",
       "      <th>0</th>\n",
       "      <td>1</td>\n",
       "      <td>0</td>\n",
       "      <td>10</td>\n",
       "      <td>10</td>\n",
       "    </tr>\n",
       "    <tr>\n",
       "      <th>1</th>\n",
       "      <td>2</td>\n",
       "      <td>0</td>\n",
       "      <td>20</td>\n",
       "      <td>20</td>\n",
       "    </tr>\n",
       "    <tr>\n",
       "      <th>2</th>\n",
       "      <td>3</td>\n",
       "      <td>0</td>\n",
       "      <td>30</td>\n",
       "      <td>30</td>\n",
       "    </tr>\n",
       "    <tr>\n",
       "      <th>3</th>\n",
       "      <td>4</td>\n",
       "      <td>0</td>\n",
       "      <td>40</td>\n",
       "      <td>40</td>\n",
       "    </tr>\n",
       "    <tr>\n",
       "      <th>4</th>\n",
       "      <td>5</td>\n",
       "      <td>0</td>\n",
       "      <td>50</td>\n",
       "      <td>50</td>\n",
       "    </tr>\n",
       "  </tbody>\n",
       "</table>\n",
       "</div>"
      ],
      "text/plain": [
       "   col1  col2  col3  col4\n",
       "0     1     0    10    10\n",
       "1     2     0    20    20\n",
       "2     3     0    30    30\n",
       "3     4     0    40    40\n",
       "4     5     0    50    50"
      ]
     },
     "execution_count": 77,
     "metadata": {},
     "output_type": "execute_result"
    }
   ],
   "source": []
  },
  {
   "cell_type": "code",
   "execution_count": 81,
   "metadata": {},
   "outputs": [
    {
     "name": "stdout",
     "output_type": "stream",
     "text": [
      "   col1  col2\n",
      "0     1     0\n",
      "1     2     0\n",
      "2     3     0\n",
      "3     4     0\n",
      "4     5     0\n"
     ]
    },
    {
     "data": {
      "text/html": [
       "<div>\n",
       "<style scoped>\n",
       "    .dataframe tbody tr th:only-of-type {\n",
       "        vertical-align: middle;\n",
       "    }\n",
       "\n",
       "    .dataframe tbody tr th {\n",
       "        vertical-align: top;\n",
       "    }\n",
       "\n",
       "    .dataframe thead th {\n",
       "        text-align: right;\n",
       "    }\n",
       "</style>\n",
       "<table border=\"1\" class=\"dataframe\">\n",
       "  <thead>\n",
       "    <tr style=\"text-align: right;\">\n",
       "      <th></th>\n",
       "      <th>col1</th>\n",
       "      <th>col2</th>\n",
       "      <th>col3</th>\n",
       "    </tr>\n",
       "  </thead>\n",
       "  <tbody>\n",
       "    <tr>\n",
       "      <th>0</th>\n",
       "      <td>1</td>\n",
       "      <td>0</td>\n",
       "      <td>10</td>\n",
       "    </tr>\n",
       "    <tr>\n",
       "      <th>1</th>\n",
       "      <td>2</td>\n",
       "      <td>0</td>\n",
       "      <td>20</td>\n",
       "    </tr>\n",
       "    <tr>\n",
       "      <th>2</th>\n",
       "      <td>3</td>\n",
       "      <td>0</td>\n",
       "      <td>30</td>\n",
       "    </tr>\n",
       "    <tr>\n",
       "      <th>3</th>\n",
       "      <td>4</td>\n",
       "      <td>0</td>\n",
       "      <td>40</td>\n",
       "    </tr>\n",
       "    <tr>\n",
       "      <th>4</th>\n",
       "      <td>5</td>\n",
       "      <td>0</td>\n",
       "      <td>50</td>\n",
       "    </tr>\n",
       "  </tbody>\n",
       "</table>\n",
       "</div>"
      ],
      "text/plain": [
       "   col1  col2  col3\n",
       "0     1     0    10\n",
       "1     2     0    20\n",
       "2     3     0    30\n",
       "3     4     0    40\n",
       "4     5     0    50"
      ]
     },
     "metadata": {},
     "output_type": "display_data"
    }
   ],
   "source": [
    "import pandas as pd\n",
    "df = pd.DataFrame({'col1':[1,2,3,4,5],\n",
    "                   'col2':[0,0,0,0,0]})\n",
    "print(df)\n",
    "df['col3']=df['col1'].map(lambda x :x*10)\n",
    "display(df)"
   ]
  },
  {
   "cell_type": "code",
   "execution_count": 82,
   "metadata": {},
   "outputs": [
    {
     "data": {
      "text/html": [
       "<div>\n",
       "<style scoped>\n",
       "    .dataframe tbody tr th:only-of-type {\n",
       "        vertical-align: middle;\n",
       "    }\n",
       "\n",
       "    .dataframe tbody tr th {\n",
       "        vertical-align: top;\n",
       "    }\n",
       "\n",
       "    .dataframe thead th {\n",
       "        text-align: right;\n",
       "    }\n",
       "</style>\n",
       "<table border=\"1\" class=\"dataframe\">\n",
       "  <thead>\n",
       "    <tr style=\"text-align: right;\">\n",
       "      <th></th>\n",
       "      <th>col1</th>\n",
       "      <th>col2</th>\n",
       "      <th>col3</th>\n",
       "      <th>col4</th>\n",
       "    </tr>\n",
       "  </thead>\n",
       "  <tbody>\n",
       "    <tr>\n",
       "      <th>0</th>\n",
       "      <td>1</td>\n",
       "      <td>0</td>\n",
       "      <td>10</td>\n",
       "      <td>10</td>\n",
       "    </tr>\n",
       "    <tr>\n",
       "      <th>1</th>\n",
       "      <td>2</td>\n",
       "      <td>0</td>\n",
       "      <td>20</td>\n",
       "      <td>20</td>\n",
       "    </tr>\n",
       "    <tr>\n",
       "      <th>2</th>\n",
       "      <td>3</td>\n",
       "      <td>0</td>\n",
       "      <td>30</td>\n",
       "      <td>30</td>\n",
       "    </tr>\n",
       "    <tr>\n",
       "      <th>3</th>\n",
       "      <td>4</td>\n",
       "      <td>0</td>\n",
       "      <td>40</td>\n",
       "      <td>40</td>\n",
       "    </tr>\n",
       "    <tr>\n",
       "      <th>4</th>\n",
       "      <td>5</td>\n",
       "      <td>0</td>\n",
       "      <td>50</td>\n",
       "      <td>50</td>\n",
       "    </tr>\n",
       "  </tbody>\n",
       "</table>\n",
       "</div>"
      ],
      "text/plain": [
       "   col1  col2  col3  col4\n",
       "0     1     0    10    10\n",
       "1     2     0    20    20\n",
       "2     3     0    30    30\n",
       "3     4     0    40    40\n",
       "4     5     0    50    50"
      ]
     },
     "execution_count": 82,
     "metadata": {},
     "output_type": "execute_result"
    }
   ],
   "source": [
    "df['col4'] = df['col1'].apply(lambda x :x*10)\n",
    "df"
   ]
  },
  {
   "cell_type": "code",
   "execution_count": 83,
   "metadata": {},
   "outputs": [
    {
     "data": {
      "text/html": [
       "<div>\n",
       "<style scoped>\n",
       "    .dataframe tbody tr th:only-of-type {\n",
       "        vertical-align: middle;\n",
       "    }\n",
       "\n",
       "    .dataframe tbody tr th {\n",
       "        vertical-align: top;\n",
       "    }\n",
       "\n",
       "    .dataframe thead th {\n",
       "        text-align: right;\n",
       "    }\n",
       "</style>\n",
       "<table border=\"1\" class=\"dataframe\">\n",
       "  <thead>\n",
       "    <tr style=\"text-align: right;\">\n",
       "      <th></th>\n",
       "      <th>col1</th>\n",
       "      <th>col2</th>\n",
       "      <th>col3</th>\n",
       "      <th>col4</th>\n",
       "      <th>col5</th>\n",
       "    </tr>\n",
       "  </thead>\n",
       "  <tbody>\n",
       "    <tr>\n",
       "      <th>0</th>\n",
       "      <td>1</td>\n",
       "      <td>0</td>\n",
       "      <td>10</td>\n",
       "      <td>10</td>\n",
       "      <td>30</td>\n",
       "    </tr>\n",
       "    <tr>\n",
       "      <th>1</th>\n",
       "      <td>2</td>\n",
       "      <td>0</td>\n",
       "      <td>20</td>\n",
       "      <td>20</td>\n",
       "      <td>30</td>\n",
       "    </tr>\n",
       "    <tr>\n",
       "      <th>2</th>\n",
       "      <td>3</td>\n",
       "      <td>0</td>\n",
       "      <td>30</td>\n",
       "      <td>30</td>\n",
       "      <td>30</td>\n",
       "    </tr>\n",
       "    <tr>\n",
       "      <th>3</th>\n",
       "      <td>4</td>\n",
       "      <td>0</td>\n",
       "      <td>40</td>\n",
       "      <td>40</td>\n",
       "      <td>40</td>\n",
       "    </tr>\n",
       "    <tr>\n",
       "      <th>4</th>\n",
       "      <td>5</td>\n",
       "      <td>0</td>\n",
       "      <td>50</td>\n",
       "      <td>50</td>\n",
       "      <td>50</td>\n",
       "    </tr>\n",
       "  </tbody>\n",
       "</table>\n",
       "</div>"
      ],
      "text/plain": [
       "   col1  col2  col3  col4  col5\n",
       "0     1     0    10    10    30\n",
       "1     2     0    20    20    30\n",
       "2     3     0    30    30    30\n",
       "3     4     0    40    40    40\n",
       "4     5     0    50    50    50"
      ]
     },
     "execution_count": 83,
     "metadata": {},
     "output_type": "execute_result"
    }
   ],
   "source": [
    "# Defining a new column 'col5' using the values from 'col3'. However, values in col5 will be subjected to:\n",
    "# Replacing values less than 30 in column 4. Those >= 30 will retain their original values\n",
    "df['col5'] = df['col3'].map(lambda x : 30 if x <30 else x)\n",
    "df"
   ]
  },
  {
   "cell_type": "code",
   "execution_count": 94,
   "metadata": {},
   "outputs": [
    {
     "name": "stdout",
     "output_type": "stream",
     "text": [
      "56\n",
      "-52\n",
      "{'a': 1, 'b': 2, 'c': 3}\n"
     ]
    }
   ],
   "source": [
    "from functools import reduce\n",
    "myList = [2, 4, 6, 8, 10, 12, 14]\n",
    "b = reduce(lambda x, y: x + y, myList)\n",
    "result = b\n",
    "print(result)\n",
    "\n",
    "c = reduce(lambda x, y: x - y, myList)\n",
    "result = c\n",
    "print(result)\n",
    "\n",
    "create_dict = lambda **kwargs:kwargs\n",
    "print(create_dict(a=1, b=2, c=3))"
   ]
  },
  {
   "cell_type": "code",
   "execution_count": 97,
   "metadata": {},
   "outputs": [
    {
     "name": "stdout",
     "output_type": "stream",
     "text": [
      "15\n"
     ]
    }
   ],
   "source": [
    "multiply = lambda x, *args, **kwargs: x * sum(args) * kwargs['multiplier']\n",
    "print(multiply(1,2,3, multiplier = 3))\n",
    "\n",
    "#"
   ]
  },
  {
   "cell_type": "code",
   "execution_count": null,
   "metadata": {},
   "outputs": [],
   "source": []
  },
  {
   "cell_type": "code",
   "execution_count": null,
   "metadata": {},
   "outputs": [],
   "source": []
  },
  {
   "cell_type": "code",
   "execution_count": null,
   "metadata": {},
   "outputs": [],
   "source": []
  }
 ],
 "metadata": {
  "kernelspec": {
   "display_name": "base",
   "language": "python",
   "name": "python3"
  },
  "language_info": {
   "codemirror_mode": {
    "name": "ipython",
    "version": 3
   },
   "file_extension": ".py",
   "mimetype": "text/x-python",
   "name": "python",
   "nbconvert_exporter": "python",
   "pygments_lexer": "ipython3",
   "version": "3.10.9"
  },
  "orig_nbformat": 4
 },
 "nbformat": 4,
 "nbformat_minor": 2
}
