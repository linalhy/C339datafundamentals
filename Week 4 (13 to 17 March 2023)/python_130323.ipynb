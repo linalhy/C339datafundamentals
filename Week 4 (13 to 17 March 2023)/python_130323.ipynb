{
 "cells": [
  {
   "cell_type": "code",
   "execution_count": null,
   "metadata": {},
   "outputs": [],
   "source": [
    "# Python: Data Analysis\n",
    "# Date: March 13, 2023."
   ]
  },
  {
   "cell_type": "code",
   "execution_count": 18,
   "metadata": {},
   "outputs": [
    {
     "data": {
      "text/plain": [
       "[[0, 1, 2, 3, 4, 5, 6, 7, 8, 9],\n",
       " [5, 6, 7, 8, 9, 10, 11, 12, 13, 14],\n",
       " [10, 11, 12, 13, 14, 15, 16, 17, 18, 19],\n",
       " [15, 16, 17, 18, 19, 20, 21, 22, 23, 24],\n",
       " [20, 21, 22, 23, 24, 25, 26, 27, 28, 29],\n",
       " [25, 26, 27, 28, 29, 30, 31, 32, 33, 34],\n",
       " [30, 31, 32, 33, 34, 35, 36, 37, 38, 39],\n",
       " [35, 36, 37, 38, 39, 40, 41, 42, 43, 44],\n",
       " [40, 41, 42, 43, 44, 45, 46, 47, 48, 49],\n",
       " [45, 46, 47, 48, 49, 50, 51, 52, 53, 54],\n",
       " [50, 51, 52, 53, 54, 55, 56, 57, 58, 59],\n",
       " [55, 56, 57, 58, 59, 60, 61, 62, 63, 64],\n",
       " [60, 61, 62, 63, 64, 65, 66, 67, 68, 69],\n",
       " [65, 66, 67, 68, 69, 70, 71, 72, 73, 74],\n",
       " [70, 71, 72, 73, 74, 75, 76, 77, 78, 79],\n",
       " [75, 76, 77, 78, 79, 80, 81, 82, 83, 84],\n",
       " [80, 81, 82, 83, 84, 85, 86, 87, 88, 89],\n",
       " [85, 86, 87, 88, 89, 90, 91, 92, 93, 94],\n",
       " [90, 91, 92, 93, 94, 95, 96, 97, 98, 99],\n",
       " [95, 96, 97, 98, 99, 100, 101, 102, 103, 104]]"
      ]
     },
     "execution_count": 18,
     "metadata": {},
     "output_type": "execute_result"
    }
   ],
   "source": [
    "# Create a matrix with values being populated\n",
    "\n",
    "def make_matrix(n_rows, n_cols):\n",
    "    return [list(range(n_cols *i, n_cols*(i + 2))) for i in range(n_rows)]\n",
    "\n",
    "test_data = make_matrix(20, 5) #40 rows and 5 columns\n",
    "test_data # list"
   ]
  },
  {
   "cell_type": "code",
   "execution_count": 20,
   "metadata": {},
   "outputs": [
    {
     "data": {
      "text/plain": [
       "17"
      ]
     },
     "execution_count": 20,
     "metadata": {},
     "output_type": "execute_result"
    }
   ],
   "source": [
    "test_data[3][2]"
   ]
  },
  {
   "cell_type": "code",
   "execution_count": 21,
   "metadata": {},
   "outputs": [
    {
     "name": "stdout",
     "output_type": "stream",
     "text": [
      "1.51 µs ± 65.5 ns per loop (mean ± std. dev. of 7 runs, 1,000,000 loops each)\n"
     ]
    }
   ],
   "source": [
    "%%timeit\n",
    "sum([sum(r) for r in test_data])\n"
   ]
  },
  {
   "cell_type": "code",
   "execution_count": 24,
   "metadata": {},
   "outputs": [
    {
     "name": "stdout",
     "output_type": "stream",
     "text": [
      "<class 'numpy.ndarray'>\n"
     ]
    }
   ],
   "source": [
    "#pip install numpy\n",
    "# Numpy: Numerical Python (Large multidimensional arrays & Matrices)\n",
    "# Used in machine learning\n",
    "\n",
    "import numpy as np\n",
    "\n",
    "test_np_array = np.array(test_data)\n",
    "print(type(test_np_array)) # type nd array (n dimentional array)\n",
    "\n",
    "# nd arrays are similar to lists and arrays, but nd arrays can only store the same data type (d type)"
   ]
  },
  {
   "cell_type": "code",
   "execution_count": 23,
   "metadata": {},
   "outputs": [
    {
     "name": "stdout",
     "output_type": "stream",
     "text": [
      "678 ns ± 8.07 ns per loop (mean ± std. dev. of 7 runs, 1,000,000 loops each)\n"
     ]
    }
   ],
   "source": [
    "%%timeit\n",
    "test_np_array.sum()"
   ]
  },
  {
   "cell_type": "code",
   "execution_count": 25,
   "metadata": {},
   "outputs": [
    {
     "name": "stdout",
     "output_type": "stream",
     "text": [
      "<class 'numpy.ndarray'>\n",
      "[1 2 3 4 5]\n"
     ]
    }
   ],
   "source": [
    "arr = np.array([1,2,3,4,5])\n",
    "print(type(arr))\n",
    "print(arr)"
   ]
  },
  {
   "cell_type": "code",
   "execution_count": 29,
   "metadata": {},
   "outputs": [
    {
     "name": "stdout",
     "output_type": "stream",
     "text": [
      "[[ 1  2  3]\n",
      " [ 4  5  6]\n",
      " [ 7  8  9]\n",
      " [10 11 12]]\n"
     ]
    }
   ],
   "source": [
    "arr2d = np.array([[1,2,3], [4,5,6], [7,8,9], [10,11,12]])\n",
    "print(arr2d)"
   ]
  },
  {
   "cell_type": "code",
   "execution_count": 30,
   "metadata": {},
   "outputs": [
    {
     "name": "stdout",
     "output_type": "stream",
     "text": [
      "4\n",
      "9\n"
     ]
    }
   ],
   "source": [
    "# Retrieving one element from numpy array: array scalar\n",
    "\n",
    "print(arr[3])\n",
    "print(arr2d[2][2])"
   ]
  },
  {
   "cell_type": "code",
   "execution_count": 33,
   "metadata": {},
   "outputs": [
    {
     "name": "stdout",
     "output_type": "stream",
     "text": [
      "(5,)\n",
      "(4, 3)\n",
      "int64\n"
     ]
    }
   ],
   "source": [
    "print(arr.shape) # get the size of 1D array (returns number of rows)\n",
    "print(arr2d.shape) # get the size of 2D array (returns (number of rows, number of columns))\n",
    "print(arr.dtype) # get the data type"
   ]
  },
  {
   "cell_type": "code",
   "execution_count": 34,
   "metadata": {},
   "outputs": [
    {
     "name": "stdout",
     "output_type": "stream",
     "text": [
      "[ 2  4  6  8 10]\n"
     ]
    }
   ],
   "source": [
    "arr = np.array([1,2,3,4,5])\n",
    "arr_squared = arr*2 # Multiplies each element in ndarray by 2\n",
    "print(arr_squared)"
   ]
  },
  {
   "cell_type": "code",
   "execution_count": 36,
   "metadata": {},
   "outputs": [
    {
     "name": "stdout",
     "output_type": "stream",
     "text": [
      "15\n"
     ]
    }
   ],
   "source": [
    "arr = np.array([1,2,3,4,5])\n",
    "arr_sum = np.sum(arr) # calculating the sum of array\n",
    "print(arr_sum)"
   ]
  },
  {
   "cell_type": "code",
   "execution_count": 38,
   "metadata": {},
   "outputs": [
    {
     "name": "stdout",
     "output_type": "stream",
     "text": [
      "[[ 1  2  3]\n",
      " [ 4  5  6]\n",
      " [ 7  8  9]\n",
      " [10 11 12]]\n",
      " \n",
      "[[ 1  4  7 10]\n",
      " [ 2  5  8 11]\n",
      " [ 3  6  9 12]]\n"
     ]
    }
   ],
   "source": [
    "# Transpose\n",
    "arr2d = np.array([[1,2,3], [4,5,6], [7,8,9], [10,11,12]])\n",
    "print(arr2d)\n",
    "print(\" \")\n",
    "arr2d_transpose = np.transpose(arr2d)\n",
    "print(arr2d_transpose)"
   ]
  },
  {
   "cell_type": "code",
   "execution_count": 39,
   "metadata": {},
   "outputs": [
    {
     "name": "stdout",
     "output_type": "stream",
     "text": [
      "[1.+0.j 2.+0.j 3.+0.j]\n"
     ]
    }
   ],
   "source": [
    "acomplex = np.array([1,2,3], dtype = \"complex\")\n",
    "print(acomplex)"
   ]
  },
  {
   "cell_type": "code",
   "execution_count": 40,
   "metadata": {},
   "outputs": [
    {
     "data": {
      "text/plain": [
       "array([ 0,  2,  4,  6,  8, 10])"
      ]
     },
     "execution_count": 40,
     "metadata": {},
     "output_type": "execute_result"
    }
   ],
   "source": [
    "# 0 is the starting element\n",
    "# 10 is the ending element (will be included in the array)\n",
    "# 6 is the number of elements\n",
    "# dtype = data type\n",
    "array = np.linspace(0, 10, 6, dtype = int)\n",
    "array"
   ]
  },
  {
   "cell_type": "code",
   "execution_count": null,
   "metadata": {},
   "outputs": [],
   "source": [
    "# Compared to np.linspace(),\n",
    "# With np.arrange(), the last element (i.e. 11) will not be included in the resulting array\n",
    "array = np.arange(0, 11, 2)\n",
    "print(array)"
   ]
  },
  {
   "cell_type": "code",
   "execution_count": 41,
   "metadata": {},
   "outputs": [
    {
     "name": "stdout",
     "output_type": "stream",
     "text": [
      "[[0.5488135  0.71518937]\n",
      " [0.60276338 0.54488318]\n",
      " [0.4236548  0.64589411]\n",
      " [0.43758721 0.891773  ]\n",
      " [0.96366276 0.38344152]]\n"
     ]
    }
   ],
   "source": [
    "np.random.seed(0) # setting random set for consistency\n",
    "array_random = np.random.rand(5,2) # returns random values across 5 rows and 2 columns\n",
    "print(array_random)"
   ]
  },
  {
   "cell_type": "code",
   "execution_count": 44,
   "metadata": {},
   "outputs": [
    {
     "name": "stdout",
     "output_type": "stream",
     "text": [
      "2\n"
     ]
    }
   ],
   "source": [
    "array_zeros = np.zeros((2,3)) # creating a matrix of zeros in 2 rows and 3 columns\n",
    "print(array_zeros.ndim) # checking the number of dimension"
   ]
  },
  {
   "cell_type": "code",
   "execution_count": 50,
   "metadata": {},
   "outputs": [
    {
     "name": "stdout",
     "output_type": "stream",
     "text": [
      "[ 2  3  4  5  6  7  8  9 10]\n",
      "[ 2  4  6  8 10]\n",
      "[ 6  7  8  9 10]\n",
      "[1 2 3 4 5]\n"
     ]
    }
   ],
   "source": [
    "# Numpy array slicing\n",
    "# Taking elements from one index to another.\n",
    "arr = np.array([1, 2, 3, 4, 5, 6, 7, 8, 9, 10])\n",
    "\n",
    "print(arr[1:10]) # [start:end] start after first index, end at (but includes) tenth index\n",
    "\n",
    "print(arr[1:10:2]) # [start:end:step] start after first index, end at tenth index, in twos\n",
    "\n",
    "print(arr[5:]) # slices from fifth index to the end of array\n",
    "\n",
    "print(arr[:5]) # slices from beginning until fifth index\n",
    "\n"
   ]
  },
  {
   "cell_type": "code",
   "execution_count": 78,
   "metadata": {},
   "outputs": [
    {
     "name": "stdout",
     "output_type": "stream",
     "text": [
      "[0.294665   0.53058676 0.19152079 0.06790036 0.78698546 0.65633352\n",
      " 0.6375209  0.57560289 0.03906292 0.3578136  0.94568319 0.06004468]\n",
      "(12,)\n"
     ]
    }
   ],
   "source": [
    "# NumPy arrays have an attribute called shape that returns a tuple \n",
    "# with each index having the number of corresponding elements.\n",
    "\n",
    "np.random.seed(17)\n",
    "small_array = np.random.rand(12)\n",
    "print(small_array)\n",
    "print(small_array.shape)"
   ]
  },
  {
   "cell_type": "code",
   "execution_count": 79,
   "metadata": {},
   "outputs": [
    {
     "data": {
      "text/plain": [
       "array([[0.294665  , 0.53058676, 0.19152079],\n",
       "       [0.06790036, 0.78698546, 0.65633352],\n",
       "       [0.6375209 , 0.57560289, 0.03906292],\n",
       "       [0.3578136 , 0.94568319, 0.06004468]])"
      ]
     },
     "execution_count": 79,
     "metadata": {},
     "output_type": "execute_result"
    }
   ],
   "source": [
    "# Reshaping: changing the shape of an array\n",
    "\n",
    "small_array = small_array.reshape(4,3) # reshape to 4 rows and 3 columns\n",
    "small_array"
   ]
  },
  {
   "cell_type": "code",
   "execution_count": 55,
   "metadata": {},
   "outputs": [
    {
     "data": {
      "text/plain": [
       "array([[0.65633352],\n",
       "       [0.03906292],\n",
       "       [0.06004468]])"
      ]
     },
     "execution_count": 55,
     "metadata": {},
     "output_type": "execute_result"
    }
   ],
   "source": [
    "small_array[1:, 2:] # Go to the first row, and then the second column and print it"
   ]
  },
  {
   "cell_type": "code",
   "execution_count": 88,
   "metadata": {},
   "outputs": [
    {
     "name": "stdout",
     "output_type": "stream",
     "text": [
      "[[ 5 27 16 23]\n",
      " [24 13 19  9]]\n"
     ]
    }
   ],
   "source": [
    "# Array indexing\n",
    "np.random.seed(25)\n",
    "arr1 = np.random.randint(low = 1, high = 30, size=(2, 4))\n",
    "print(arr1)\n",
    "\n",
    "#arr1[1:2, 0:] = 0 # replacing values in second row with 0\n",
    "#print(arr1)\n",
    "\n",
    "arr1[2:3, 1:] = 999 # replacing values in the third row\n",
    "print(arr1)"
   ]
  },
  {
   "cell_type": "code",
   "execution_count": 89,
   "metadata": {},
   "outputs": [
    {
     "name": "stdout",
     "output_type": "stream",
     "text": [
      "[[ 5 27 16 23]\n",
      " [24 13 19  9]]\n"
     ]
    }
   ],
   "source": [
    "arr1[2:3, 1:] = 999 # replacing values in the third row\n",
    "print(arr1)"
   ]
  },
  {
   "cell_type": "code",
   "execution_count": 91,
   "metadata": {},
   "outputs": [
    {
     "name": "stdout",
     "output_type": "stream",
     "text": [
      "[[ 9 22 13  6]\n",
      " [24  1 29 28]]\n"
     ]
    }
   ],
   "source": [
    "# Array iterating\n",
    "np.random.seed(15)\n",
    "arr2 = np.random.randint(low = 1, high = 30, size=(2, 4))\n",
    "print(arr2)\n"
   ]
  },
  {
   "cell_type": "code",
   "execution_count": 93,
   "metadata": {},
   "outputs": [
    {
     "name": "stdout",
     "output_type": "stream",
     "text": [
      "[[ 9 22 13  6]\n",
      " [24  1 29 28]]\n"
     ]
    }
   ],
   "source": [
    "# TODO Shallow copy: constructs a new compound object\n",
    "# TODO Deep copy: \n",
    "\n",
    "arr2_copy = arr2.copy() # deep copy\n",
    "print(arr2_copy)"
   ]
  },
  {
   "cell_type": "code",
   "execution_count": 103,
   "metadata": {},
   "outputs": [
    {
     "name": "stdout",
     "output_type": "stream",
     "text": [
      "[[10 16 25  5]\n",
      " [17 17 25  4]]\n",
      "\n",
      "[[10 16 25  5]\n",
      " [17 17 25  4]]\n"
     ]
    }
   ],
   "source": [
    "np.random.seed(21)\n",
    "arr3 = np.random.randint(low = 1, high = 30, size=(2, 4)) # size: two rows, four columns\n",
    "print(arr3)\n",
    "print(\"\")\n",
    "arr3_copy = arr3.view() # shallow copy\n",
    "print(arr3_copy)"
   ]
  },
  {
   "cell_type": "code",
   "execution_count": 100,
   "metadata": {},
   "outputs": [
    {
     "name": "stdout",
     "output_type": "stream",
     "text": [
      "[[ 9 22 13  6]\n",
      " [24  1 29 28]]\n",
      "\n",
      "[[False  True False False]\n",
      " [ True False  True  True]]\n",
      "\n",
      "[[ True False False]\n",
      " [False  True  True]]\n",
      "\n",
      "[[ True  True]]\n"
     ]
    }
   ],
   "source": [
    "print(arr2_copy)\n",
    "print(\"\")\n",
    "print(arr2_copy[:, :] > 20) # entire matrix\n",
    "print(\"\")\n",
    "print(arr2_copy[:, 1:] > 20) # all rows, from first column onwards (does not include first)\n",
    "print(\"\")\n",
    "print(arr2_copy[1:, 2:] > 20) # first row, from second column onwards (does not include second)"
   ]
  },
  {
   "cell_type": "code",
   "execution_count": 126,
   "metadata": {},
   "outputs": [
    {
     "name": "stdout",
     "output_type": "stream",
     "text": [
      "[[179 151 186]\n",
      " [191 184 179]\n",
      " [151 209 164]\n",
      " [161 160 188]]\n",
      "\n",
      "[[8.07 6.27 9.08]\n",
      " [5.56 8.4  0.5 ]\n",
      " [8.06 9.31 3.64]\n",
      " [6.91 1.29 8.33]]\n"
     ]
    }
   ],
   "source": [
    "np.random.seed(12345)\n",
    "studentHeight= np.random.randint(150, 220, size=(4,3))\n",
    "print(studentHeight)\n",
    "print(\"\")\n",
    "studentGrade = np.random.uniform(0,10,[4,3]).round(2)\n",
    "print(studentGrade)\n"
   ]
  },
  {
   "cell_type": "code",
   "execution_count": 124,
   "metadata": {},
   "outputs": [
    {
     "name": "stdout",
     "output_type": "stream",
     "text": [
      "Students with height greater than 190:\n",
      " [[False False False]\n",
      " [ True False False]\n",
      " [False  True False]\n",
      " [False False False]] \n",
      "\n",
      "Grades of students with height > 190:\n",
      " [5.56 9.31] \n",
      "\n",
      "Average grade of students with height > 190:\n",
      " 7.44\n"
     ]
    }
   ],
   "source": [
    "# Get the average grade of the students with height > 190\n",
    "print(\"Students with height greater than 190:\\n\", studentHeight > 190,'\\n')\n",
    "print(\"Grades of students with height > 190:\\n\" , studentGrade[studentHeight > 190],'\\n')\n",
    "print(\"Average grade of students with height > 190:\\n\", studentGrade[studentHeight > 190].mean().round(2))"
   ]
  },
  {
   "cell_type": "code",
   "execution_count": 116,
   "metadata": {},
   "outputs": [
    {
     "data": {
      "text/plain": [
       "array([0.54283055, 0.72841386, 0.43763088, 0.26057697, 0.88712201,\n",
       "       0.81014414, 0.79844906, 0.75868498, 0.19764341, 0.59817523,\n",
       "       0.97246243, 0.24504016])"
      ]
     },
     "execution_count": 116,
     "metadata": {},
     "output_type": "execute_result"
    }
   ],
   "source": [
    "np.random.seed(17)\n",
    "sample = np.random.rand(12)\n",
    "np.log(sample) # natural log\n",
    "np.sqrt(sample) # square root\n",
    "np.log2(sample) # log base2\n",
    "np.log10(sample) # log base 10\n"
   ]
  },
  {
   "cell_type": "code",
   "execution_count": null,
   "metadata": {},
   "outputs": [],
   "source": [
    "np.random.seed(12)\n",
    "arr4 = np.random.randint(low = 1, high = 20, size=(10, 2))\n",
    "arr5 = np.random.randint(low = 1, high = 20, size=(10, 2))\n",
    "arr6 = arr4 * arr5\n",
    "print(arr4)\n",
    "print(\"\")\n",
    "print(arr5)\n",
    "print(\"\")\n",
    "print(arr6)"
   ]
  },
  {
   "cell_type": "code",
   "execution_count": null,
   "metadata": {},
   "outputs": [],
   "source": [
    "arr7 = np.dot(arr4, arr5.T)\n",
    "arr7"
   ]
  },
  {
   "cell_type": "code",
   "execution_count": 139,
   "metadata": {},
   "outputs": [
    {
     "name": "stdout",
     "output_type": "stream",
     "text": [
      "[[179 151 186]\n",
      " [191 184 179]\n",
      " [151 209 164]\n",
      " [161 160 188]]\n",
      "Average student height(cm):  175.25\n",
      "Student height standard deviation:  17.1\n",
      "Minimum student height (cm):  151\n",
      "Index of the min. value of student height:  1\n"
     ]
    }
   ],
   "source": [
    "np.random.seed(12345)\n",
    "studentHeight= np.random.randint(150, 220, size=(4,3))\n",
    "print(studentHeight)\n",
    "print(\"Average student height(cm): \", np.mean(studentHeight).round(2))\n",
    "print(\"Student height standard deviation: \", np.std(studentHeight).round(2))\n",
    "print(\"Minimum student height (cm): \", np.min(studentHeight))\n",
    "print(\"Index of the min. value of student height: \", np.argmin(studentHeight))\n",
    "\n"
   ]
  },
  {
   "cell_type": "code",
   "execution_count": 141,
   "metadata": {},
   "outputs": [],
   "source": [
    "# Saving array as a file\n",
    "np.save(\"studentHeight.npy\", studentHeight)\n",
    "%ls -l *.npy"
   ]
  },
  {
   "cell_type": "code",
   "execution_count": 142,
   "metadata": {},
   "outputs": [
    {
     "data": {
      "text/plain": [
       "array([[179, 151, 186],\n",
       "       [191, 184, 179],\n",
       "       [151, 209, 164],\n",
       "       [161, 160, 188]])"
      ]
     },
     "execution_count": 142,
     "metadata": {},
     "output_type": "execute_result"
    }
   ],
   "source": [
    "retrieveArray = np.load(\"studentHeight.npy\")\n",
    "retrieveArray"
   ]
  },
  {
   "cell_type": "code",
   "execution_count": 149,
   "metadata": {},
   "outputs": [],
   "source": [
    "np.savetxt(\"studentHeight.csv\", studentHeight, fmt= '%i', delimiter = \",\")\n",
    "\n"
   ]
  },
  {
   "cell_type": "code",
   "execution_count": 146,
   "metadata": {},
   "outputs": [
    {
     "data": {
      "text/plain": [
       "array([[179., 151., 186.],\n",
       "       [191., 184., 179.],\n",
       "       [151., 209., 164.],\n",
       "       [161., 160., 188.]])"
      ]
     },
     "execution_count": 146,
     "metadata": {},
     "output_type": "execute_result"
    }
   ],
   "source": [
    "loadCSV = np.loadtxt(\"studentHeight.csv\", delimiter = \",\")\n",
    "loadCSV"
   ]
  },
  {
   "cell_type": "code",
   "execution_count": 159,
   "metadata": {},
   "outputs": [
    {
     "ename": "TypeError",
     "evalue": "Cannot construct a dtype from an array",
     "output_type": "error",
     "traceback": [
      "\u001b[0;31m---------------------------------------------------------------------------\u001b[0m",
      "\u001b[0;31mTypeError\u001b[0m                                 Traceback (most recent call last)",
      "Cell \u001b[0;32mIn[159], line 1\u001b[0m\n\u001b[0;32m----> 1\u001b[0m a \u001b[39m=\u001b[39m np\u001b[39m.\u001b[39;49marray([(\u001b[39m'\u001b[39;49m\u001b[39mlina\u001b[39;49m\u001b[39m'\u001b[39;49m,\u001b[39m21\u001b[39;49m,\u001b[39m50\u001b[39;49m),(\u001b[39m'\u001b[39;49m\u001b[39mpotato\u001b[39;49m\u001b[39m'\u001b[39;49m,\u001b[39m67\u001b[39;49m,\u001b[39m8\u001b[39;49m)], dtype \u001b[39m=\u001b[39;49m studentHeight) \u001b[39m# input as tuples\u001b[39;00m\n\u001b[1;32m      2\u001b[0m \u001b[39mprint\u001b[39m(\u001b[39mtype\u001b[39m(a))\n",
      "\u001b[0;31mTypeError\u001b[0m: Cannot construct a dtype from an array"
     ]
    }
   ],
   "source": [
    "a = np.array([('lina',21,50),('potato',67,8)]) # input as tuples\n",
    "print(type(a))"
   ]
  },
  {
   "cell_type": "code",
   "execution_count": 169,
   "metadata": {},
   "outputs": [],
   "source": [
    "class myClass:\n",
    "    def __init__(self, value1, value2):\n",
    "        self.value1 = value1\n",
    "        self.value2 = value2\n",
    "\n",
    "thing1 = myClass(42, \"apples\")\n",
    "thing2 = myClass(23, \"peaches\")\n",
    "np.save(\"thing1.npy\", thing1)"
   ]
  },
  {
   "cell_type": "code",
   "execution_count": 171,
   "metadata": {},
   "outputs": [
    {
     "name": "stdout",
     "output_type": "stream",
     "text": [
      "42\n",
      "apples\n"
     ]
    }
   ],
   "source": [
    "loaded_thing1 = np.load(\"thing1.npy\", allow_pickle=True)\n",
    "loaded_thing1_type = loaded_thing1.item()\n",
    "print(loaded_thing1_type.value1)\n",
    "print(loaded_thing1_type.value2)"
   ]
  },
  {
   "cell_type": "code",
   "execution_count": 168,
   "metadata": {},
   "outputs": [
    {
     "name": "stdout",
     "output_type": "stream",
     "text": [
      "[[1 2 3]\n",
      " [4 5 6]]\n",
      "\n",
      "[[1 2]\n",
      " [3 4]\n",
      " [5 6]]\n"
     ]
    }
   ],
   "source": [
    "a = np.array([[1,2,3],[4,5,6]]) # 2 rows, 3 columns\n",
    "b = a.reshape(3,2) # reshape to 3 rows, 2 columns\n",
    "print(a)\n",
    "print(\"\")\n",
    "print(b)"
   ]
  },
  {
   "cell_type": "code",
   "execution_count": 181,
   "metadata": {},
   "outputs": [],
   "source": [
    "class myClass:\n",
    "    def __init__(self, value1, value2):\n",
    "        self.value1 = value1\n",
    "        self.value2 = value2\n",
    "\n",
    "thing1 = myClass(42, \"apples\")\n",
    "thing2 = myClass(23, \"peaches\")\n",
    "np.savez(\"bothThings.npz\", thing1, thing2)"
   ]
  },
  {
   "cell_type": "code",
   "execution_count": null,
   "metadata": {},
   "outputs": [],
   "source": [
    "bothThings_loaded_temp =  np.load(\"bothThings.npz\", allow_pickle=True)\n",
    "bothThings_loaded_obj1 = bothThings_loaded_temp[\"thing1\"].item() \n",
    "print(bothThings_loaded_obj1.value1)"
   ]
  },
  {
   "cell_type": "code",
   "execution_count": 3,
   "metadata": {},
   "outputs": [
    {
     "name": "stdout",
     "output_type": "stream",
     "text": [
      "a    1.0\n",
      "b    3.0\n",
      "c    5.0\n",
      "d    NaN\n",
      "e    6.0\n",
      "f    8.0\n",
      "dtype: float64\n",
      "5.0\n",
      "Index(['a', 'b', 'c', 'd', 'e', 'f'], dtype='object')\n"
     ]
    }
   ],
   "source": [
    "# Pandas\n",
    "# Creating series by passing a list of values, letting pandas create a default int index.\n",
    "import pandas as pd\n",
    "import numpy as np\n",
    "series = pd.Series([1, 3, 5, np.nan, 6, 8], index=[\"a\", \"b\", \"c\", \"d\", \"e\", \"f\"])\n",
    "print(series)\n",
    "print(series[\"c\"])\n",
    "print(series.index)\n"
   ]
  },
  {
   "cell_type": "code",
   "execution_count": 195,
   "metadata": {},
   "outputs": [],
   "source": [
    "# Data frames\n",
    "\n",
    "dates = pd.date_range(\"20230101\", periods = 6)\n",
    "dates\n",
    "\n",
    "# Creating a data frame with 6 rows and 4 columns\n",
    "# columns accepts lists only\n",
    "df = pd.DataFrame(np.random.randn(6, 4), index = dates, columns = [\"Column1\", \"Column2\", \"Column3\", \"Column4\"])\n",
    "df"
   ]
  },
  {
   "cell_type": "code",
   "execution_count": 8,
   "metadata": {},
   "outputs": [
    {
     "name": "stdout",
     "output_type": "stream",
     "text": [
      "Column1           float64\n",
      "Column2    datetime64[ns]\n",
      "Column3           float32\n",
      "column4             int32\n",
      "column5            object\n",
      "dtype: object\n"
     ]
    }
   ],
   "source": [
    "# Creating a data frame by passing a dictionary of objects that can be converted into a series-like structure:\n",
    "df2 = pd.DataFrame(\n",
    "    {\n",
    "        \"Column1\": 2.5,\n",
    "        \"Column2\": pd.Timestamp(\"20210406\"),\n",
    "        \"Column3\": pd.Series(1, index = list(range(4)), dtype = \"float32\"),\n",
    "        \"column4\": np.array([5] * 4, dtype = \"int32\"),\n",
    "        \"column5\": pd.Categorical([\"yes\", \"no\", \"no\", \"yes\"]),\n",
    "        \"column5\": \"I am a string!\"\n",
    "    }\n",
    ")\n",
    "df2\n",
    "print(df2.dtypes)"
   ]
  },
  {
   "cell_type": "code",
   "execution_count": 23,
   "metadata": {},
   "outputs": [
    {
     "data": {
      "text/html": [
       "<div>\n",
       "<style scoped>\n",
       "    .dataframe tbody tr th:only-of-type {\n",
       "        vertical-align: middle;\n",
       "    }\n",
       "\n",
       "    .dataframe tbody tr th {\n",
       "        vertical-align: top;\n",
       "    }\n",
       "\n",
       "    .dataframe thead th {\n",
       "        text-align: right;\n",
       "    }\n",
       "</style>\n",
       "<table border=\"1\" class=\"dataframe\">\n",
       "  <thead>\n",
       "    <tr style=\"text-align: right;\">\n",
       "      <th></th>\n",
       "      <th>date</th>\n",
       "      <th>pce</th>\n",
       "      <th>pop</th>\n",
       "      <th>psavert</th>\n",
       "      <th>uempmed</th>\n",
       "      <th>unemploy</th>\n",
       "    </tr>\n",
       "  </thead>\n",
       "  <tbody>\n",
       "    <tr>\n",
       "      <th>573</th>\n",
       "      <td>2015-04-01</td>\n",
       "      <td>12158.9</td>\n",
       "      <td>320887</td>\n",
       "      <td>5.6</td>\n",
       "      <td>11.7</td>\n",
       "      <td>8549</td>\n",
       "    </tr>\n",
       "    <tr>\n",
       "      <th>572</th>\n",
       "      <td>2015-03-01</td>\n",
       "      <td>12161.5</td>\n",
       "      <td>320707</td>\n",
       "      <td>5.2</td>\n",
       "      <td>12.2</td>\n",
       "      <td>8575</td>\n",
       "    </tr>\n",
       "    <tr>\n",
       "      <th>571</th>\n",
       "      <td>2015-02-01</td>\n",
       "      <td>12095.9</td>\n",
       "      <td>320534</td>\n",
       "      <td>5.7</td>\n",
       "      <td>13.1</td>\n",
       "      <td>8705</td>\n",
       "    </tr>\n",
       "    <tr>\n",
       "      <th>570</th>\n",
       "      <td>2015-01-01</td>\n",
       "      <td>12080.8</td>\n",
       "      <td>320367</td>\n",
       "      <td>5.5</td>\n",
       "      <td>13.4</td>\n",
       "      <td>8979</td>\n",
       "    </tr>\n",
       "    <tr>\n",
       "      <th>569</th>\n",
       "      <td>2014-12-01</td>\n",
       "      <td>12122.0</td>\n",
       "      <td>320201</td>\n",
       "      <td>5.0</td>\n",
       "      <td>12.6</td>\n",
       "      <td>8688</td>\n",
       "    </tr>\n",
       "    <tr>\n",
       "      <th>...</th>\n",
       "      <td>...</td>\n",
       "      <td>...</td>\n",
       "      <td>...</td>\n",
       "      <td>...</td>\n",
       "      <td>...</td>\n",
       "      <td>...</td>\n",
       "    </tr>\n",
       "    <tr>\n",
       "      <th>4</th>\n",
       "      <td>1967-11-01</td>\n",
       "      <td>518.1</td>\n",
       "      <td>199498</td>\n",
       "      <td>12.5</td>\n",
       "      <td>4.7</td>\n",
       "      <td>3066</td>\n",
       "    </tr>\n",
       "    <tr>\n",
       "      <th>3</th>\n",
       "      <td>1967-10-01</td>\n",
       "      <td>512.9</td>\n",
       "      <td>199311</td>\n",
       "      <td>12.5</td>\n",
       "      <td>4.9</td>\n",
       "      <td>3143</td>\n",
       "    </tr>\n",
       "    <tr>\n",
       "      <th>2</th>\n",
       "      <td>1967-09-01</td>\n",
       "      <td>516.3</td>\n",
       "      <td>199113</td>\n",
       "      <td>11.7</td>\n",
       "      <td>4.6</td>\n",
       "      <td>2958</td>\n",
       "    </tr>\n",
       "    <tr>\n",
       "      <th>1</th>\n",
       "      <td>1967-08-01</td>\n",
       "      <td>510.5</td>\n",
       "      <td>198911</td>\n",
       "      <td>12.5</td>\n",
       "      <td>4.7</td>\n",
       "      <td>2945</td>\n",
       "    </tr>\n",
       "    <tr>\n",
       "      <th>0</th>\n",
       "      <td>1967-07-01</td>\n",
       "      <td>507.4</td>\n",
       "      <td>198712</td>\n",
       "      <td>12.5</td>\n",
       "      <td>4.5</td>\n",
       "      <td>2944</td>\n",
       "    </tr>\n",
       "  </tbody>\n",
       "</table>\n",
       "<p>574 rows × 6 columns</p>\n",
       "</div>"
      ],
      "text/plain": [
       "          date      pce     pop  psavert  uempmed  unemploy\n",
       "573 2015-04-01  12158.9  320887      5.6     11.7      8549\n",
       "572 2015-03-01  12161.5  320707      5.2     12.2      8575\n",
       "571 2015-02-01  12095.9  320534      5.7     13.1      8705\n",
       "570 2015-01-01  12080.8  320367      5.5     13.4      8979\n",
       "569 2014-12-01  12122.0  320201      5.0     12.6      8688\n",
       "..         ...      ...     ...      ...      ...       ...\n",
       "4   1967-11-01    518.1  199498     12.5      4.7      3066\n",
       "3   1967-10-01    512.9  199311     12.5      4.9      3143\n",
       "2   1967-09-01    516.3  199113     11.7      4.6      2958\n",
       "1   1967-08-01    510.5  198911     12.5      4.7      2945\n",
       "0   1967-07-01    507.4  198712     12.5      4.5      2944\n",
       "\n",
       "[574 rows x 6 columns]"
      ]
     },
     "execution_count": 23,
     "metadata": {},
     "output_type": "execute_result"
    }
   ],
   "source": [
    "# Viewing data\n",
    "from plotnine.data import economics\n",
    "\n",
    "economics\n",
    "# pce = personal consumption expenditure (bilions US$)\n",
    "# pop = total population (thousands)\n",
    "# psavert = personal savings rate\n",
    "# uempmed = median unemployment duration (weeks)\n",
    "# unemploy = number of unemployed (thousands)\n",
    "\n",
    "economics.head() # returns first five rows\n",
    "economics.tail() # returns bottom five rows\n",
    "economics.index\n",
    "economics.columns # displays columns present in ecomonics data frame\n",
    "economics.describe() # shows quick summary statistics \n",
    "economics.T # transposing data frame \n",
    "economics.sort_index(axis = 0, ascending = False) # axis = 0 to sort by row, axis = 1 to sort by column"
   ]
  },
  {
   "cell_type": "code",
   "execution_count": 17,
   "metadata": {},
   "outputs": [
    {
     "data": {
      "text/plain": [
       "array([[Timestamp('1967-07-01 00:00:00'), 507.4, 198712, 12.5, 4.5, 2944],\n",
       "       [Timestamp('1967-08-01 00:00:00'), 510.5, 198911, 12.5, 4.7, 2945],\n",
       "       [Timestamp('1967-09-01 00:00:00'), 516.3, 199113, 11.7, 4.6, 2958],\n",
       "       ...,\n",
       "       [Timestamp('2015-02-01 00:00:00'), 12095.9, 320534, 5.7, 13.1,\n",
       "        8705],\n",
       "       [Timestamp('2015-03-01 00:00:00'), 12161.5, 320707, 5.2, 12.2,\n",
       "        8575],\n",
       "       [Timestamp('2015-04-01 00:00:00'), 12158.9, 320887, 5.6, 11.7,\n",
       "        8549]], dtype=object)"
      ]
     },
     "execution_count": 17,
     "metadata": {},
     "output_type": "execute_result"
    }
   ],
   "source": [
    "# A Numpy representation of the economics data frame\n",
    "economicsNumpy = economics.to_numpy()\n",
    "economicsNumpy"
   ]
  },
  {
   "cell_type": "code",
   "execution_count": 28,
   "metadata": {},
   "outputs": [
    {
     "data": {
      "text/plain": [
       "date        datetime64[ns]\n",
       "pce                float64\n",
       "pop                  int64\n",
       "psavert            float64\n",
       "uempmed            float64\n",
       "unemploy             int64\n",
       "dtype: object"
      ]
     },
     "execution_count": 28,
     "metadata": {},
     "output_type": "execute_result"
    }
   ],
   "source": [
    "# Getting/selecting \n",
    "\n",
    "economics[\"psavert\"] # selecting specific columns by name\n",
    "economics[3:10] # returns third to ninth row\n",
    "economics.dtypes"
   ]
  },
  {
   "cell_type": "code",
   "execution_count": null,
   "metadata": {},
   "outputs": [],
   "source": []
  },
  {
   "cell_type": "code",
   "execution_count": null,
   "metadata": {},
   "outputs": [],
   "source": [
    "\n"
   ]
  },
  {
   "cell_type": "code",
   "execution_count": 155,
   "metadata": {},
   "outputs": [],
   "source": [
    "from plotnine import ggplot, aes, geom_line\n"
   ]
  },
  {
   "cell_type": "code",
   "execution_count": 157,
   "metadata": {},
   "outputs": [
    {
     "data": {
      "image/png": "[encoded data removed]",
      "text/plain": [
       "<Figure size 640x480 with 1 Axes>"
      ]
     },
     "metadata": {},
     "output_type": "display_data"
    },
    {
     "data": {
      "text/plain": [
       "<ggplot: (674109933)>"
      ]
     },
     "execution_count": 157,
     "metadata": {},
     "output_type": "execute_result"
    }
   ],
   "source": [
    "(\n",
    "ggplot(economics)\n",
    "+ aes(x = \"date\", y = \"pop\")\n",
    "+ geom_line()\n",
    ")"
   ]
  }
 ],
 "metadata": {
  "kernelspec": {
   "display_name": "Python 3",
   "language": "python",
   "name": "python3"
  },
  "language_info": {
   "codemirror_mode": {
    "name": "ipython",
    "version": 3
   },
   "file_extension": ".py",
   "mimetype": "text/x-python",
   "name": "python",
   "nbconvert_exporter": "python",
   "pygments_lexer": "ipython3",
   "version": "3.10.9"
  },
  "orig_nbformat": 4
 },
 "nbformat": 4,
 "nbformat_minor": 2
}
