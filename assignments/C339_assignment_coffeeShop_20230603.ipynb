{
 "cells": [
  {
   "cell_type": "code",
   "execution_count": null,
   "metadata": {},
   "outputs": [],
   "source": [
    "# Name: Lina Lau \n",
    "# Date: March 6th, 2023"
   ]
  },
  {
   "cell_type": "code",
   "execution_count": null,
   "metadata": {},
   "outputs": [],
   "source": [
    "def inputCheck(userInput, validValues):\n",
    "    lc_userInput = userInput.lower()\n",
    "    if lc_userInput in validValues:\n",
    "        return lc_userInput\n",
    "    else:\n",
    "        print(f\"{userInput} not recognized.\")\n",
    "        return None\n",
    "                \n",
    "\n",
    "def askQuestion(msg, options):\n",
    "    while True:\n",
    "        answer = input(msg)\n",
    "        if inputCheck(answer, options):\n",
    "            break\n",
    "    return answer\n",
    "\n",
    "coffeeSize = askQuestion(\n",
    "    \"Cup size? \\n You can choose from either small, medium, or large.\", \n",
    "    (\"small\", \"medium\", \"large\"))\n",
    "coffeeType = askQuestion(\n",
    "    \"Coffee type? \\n We have brewed, espresso, and cold press.\", \n",
    "    (\"brewed\", \"espresso\", \"cold press\"))\n",
    "coffeeFlavour = askQuestion(\n",
    "    \"Any flavouring? \\n Choose between none, hazelnut, vanilla, and caramel. \", \n",
    "    (\"none\", \"hazelnut\", \"vanilla\", \"caramel\"))\n",
    "\n",
    "def cost(coffeeSize, coffeeType, coffeeFlavour):\n",
    "    if coffeeSize == \"small\":\n",
    "        basePrice = 2.00\n",
    "    elif coffeeSize == \"medium\":\n",
    "        basePrice = 3.00\n",
    "    else:\n",
    "        basePrice = 4.00\n",
    "\n",
    "    if coffeeType == \"espresso\":\n",
    "        addPrice = basePrice + 0.50\n",
    "    elif coffeeType == \"cold brew\":\n",
    "        addPrice = basePrice + 1.00\n",
    "    else:\n",
    "        addPrice = basePrice + 0.00\n",
    "\n",
    "    if coffeeFlavour == \"none\":\n",
    "        finalPrice = addPrice + 0.00\n",
    "    else:\n",
    "        finalPrice = addPrice + 0.50\n",
    "\n",
    "    return finalPrice \n",
    "\n",
    "coffeeCost = cost(coffeeSize, coffeeType, coffeeFlavour)\n",
    "\n",
    "print(f\"You chose a {coffeeSize} {coffeeType} coffee with {coffeeFlavour} flavouring\")\n",
    "print(f\"Your cup of coffee costs {coffeeCost} EUR\")\n",
    "print(f\"The total price with a tip is {round(coffeeCost*1.15, 2)} EUR\")\n"
   ]
  },
  {
   "cell_type": "code",
   "execution_count": 19,
   "metadata": {},
   "outputs": [
    {
     "name": "stdout",
     "output_type": "stream",
     "text": [
      "You chose a large espresso coffee with vanilla flavouring\n",
      "Your cup of coffee costs 5.0 EUR\n",
      "The total price with a tip is 5.75 EUR\n"
     ]
    },
    {
     "data": {
      "text/plain": [
       "['small', 'medium', 'large']"
      ]
     },
     "execution_count": 19,
     "metadata": {},
     "output_type": "execute_result"
    }
   ],
   "source": [
    "def inputCheck(userInput, validValues):\n",
    "    lc_userInput = userInput.lower()\n",
    "    if lc_userInput in validValues:\n",
    "        return lc_userInput\n",
    "    else:\n",
    "        print(f\"{userInput} not recognized.\")\n",
    "        return None\n",
    "                \n",
    "\n",
    "def askQuestion(msg, options):\n",
    "    while True:\n",
    "        answer = input(msg)\n",
    "        if inputCheck(answer, options):\n",
    "            break\n",
    "    return answer\n",
    "\n",
    "coffeeSize = askQuestion(\n",
    "    \"Cup size? \\n You can choose from either small, medium, or large.\", \n",
    "    (\"small\", \"medium\", \"large\"))\n",
    "coffeeType = askQuestion(\n",
    "    \"Coffee type? \\n We have brewed, espresso, and cold press.\", \n",
    "    (\"brewed\", \"espresso\", \"cold press\"))\n",
    "coffeeFlavour = askQuestion(\n",
    "    \"Any flavouring? \\n Choose between none, hazelnut, vanilla, and caramel. \", \n",
    "    (\"none\", \"hazelnut\", \"vanilla\", \"caramel\"))\n",
    "\n",
    "def cost(coffeeSize, coffeeType, coffeeFlavour):\n",
    "    price_db = {\n",
    "        \"size\": { \n",
    "            \"small\" : 2.00, \n",
    "            \"medium\" : 3.00, \n",
    "            \"large\": 4.00,\n",
    "        },\n",
    "        \"type\": { \n",
    "            \"brewed\": 0, \n",
    "            \"espresso\": 0.5, \n",
    "            \"cold brew\": 1,\n",
    "        },\n",
    "        \"flavour\": {\n",
    "            \"none\": 0,\n",
    "            \"hazelnut\": 0.5, \n",
    "            \"vanilla\": 0.5, \n",
    "            \"caramel\": 0.5,\n",
    "        },\n",
    "    }\n",
    "\n",
    "    return price_db['size'][coffeeSize] + price_db['type'][coffeeType] + price_db['flavour'][coffeeFlavour]\n",
    "\n",
    "\n",
    "coffeeCost = cost(coffeeSize, coffeeType, coffeeFlavour)\n",
    "\n",
    "print(f\"You chose a {coffeeSize} {coffeeType} coffee with {coffeeFlavour} flavouring\")\n",
    "print(f\"Your cup of coffee costs {coffeeCost} EUR\")\n",
    "print(f\"The total price with a tip is {round(coffeeCost*1.15, 2)} EUR\")"
   ]
  },
  {
   "cell_type": "code",
   "execution_count": null,
   "metadata": {},
   "outputs": [],
   "source": []
  }
 ],
 "metadata": {
  "kernelspec": {
   "display_name": "base",
   "language": "python",
   "name": "python3"
  },
  "language_info": {
   "codemirror_mode": {
    "name": "ipython",
    "version": 3
   },
   "file_extension": ".py",
   "mimetype": "text/x-python",
   "name": "python",
   "nbconvert_exporter": "python",
   "pygments_lexer": "ipython3",
   "version": "3.9.13"
  },
  "orig_nbformat": 4
 },
 "nbformat": 4,
 "nbformat_minor": 2
}
